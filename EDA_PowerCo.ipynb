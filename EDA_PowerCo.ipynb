{
  "nbformat": 4,
  "nbformat_minor": 0,
  "metadata": {
    "colab": {
      "provenance": []
    },
    "kernelspec": {
      "name": "python3",
      "display_name": "Python 3"
    },
    "language_info": {
      "name": "python"
    }
  },
  "cells": [
    {
      "cell_type": "code",
      "execution_count": null,
      "metadata": {
        "id": "yAkDCkJkDTyL"
      },
      "outputs": [],
      "source": [
        "import matplotlib.pyplot as plt\n",
        "import seaborn as sns\n",
        "import pandas as pd\n",
        "\n",
        "# Shows plots in jupyter notebook\n",
        "%matplotlib inline\n",
        "\n",
        "# Set plot style\n",
        "sns.set(color_codes=True)\n",
        "pd.set_option('display.max_columns', 50)"
      ]
    },
    {
      "cell_type": "code",
      "source": [
        "client_df = pd.read_csv('/content/client_data.csv',sep=\",\")\n",
        "price_df = pd.read_csv('/content/price_data.csv',sep=\",\")\n"
      ],
      "metadata": {
        "id": "-FAO2NM7EIiB"
      },
      "execution_count": null,
      "outputs": []
    },
    {
      "cell_type": "code",
      "source": [
        "client_df.head(10)"
      ],
      "metadata": {
        "colab": {
          "base_uri": "https://localhost:8080/",
          "height": 600
        },
        "id": "9QG5TueEERKG",
        "outputId": "71c21931-86ac-46e6-bf14-fe02e7a5e8af"
      },
      "execution_count": null,
      "outputs": [
        {
          "output_type": "execute_result",
          "data": {
            "text/plain": [
              "                                 id                     channel_sales  \\\n",
              "0  24011ae4ebbe3035111d65fa7c15bc57  foosdfpfkusacimwkcsosbicdxkicaua   \n",
              "1  d29c2c54acc38ff3c0614d0a653813dd                           MISSING   \n",
              "2  764c75f661154dac3a6c254cd082ea7d  foosdfpfkusacimwkcsosbicdxkicaua   \n",
              "3  bba03439a292a1e166f80264c16191cb  lmkebamcaaclubfxadlmueccxoimlema   \n",
              "4  149d57cf92fc41cf94415803a877cb4b                           MISSING   \n",
              "5  1aa498825382410b098937d65c4ec26d  usilxuppasemubllopkaafesmlibmsdf   \n",
              "6  7ab4bf4878d8f7661dfc20e9b8e18011  foosdfpfkusacimwkcsosbicdxkicaua   \n",
              "7  01495c955be7ec5e7f3203406785aae0  foosdfpfkusacimwkcsosbicdxkicaua   \n",
              "8  f53a254b1115634330c12c7fdbf7958a  usilxuppasemubllopkaafesmlibmsdf   \n",
              "9  10c1b2f97a2d2a6f10299dc213d1a370  lmkebamcaaclubfxadlmueccxoimlema   \n",
              "\n",
              "   cons_12m  cons_gas_12m  cons_last_month  date_activ    date_end  \\\n",
              "0         0         54946                0  15-06-2013  15-06-2016   \n",
              "1      4660             0                0  21-08-2009  30-08-2016   \n",
              "2       544             0                0  16-04-2010  16-04-2016   \n",
              "3      1584             0                0  30-03-2010  30-03-2016   \n",
              "4      4425             0              526  13-01-2010  07-03-2016   \n",
              "5      8302             0             1998  09-12-2011  09-12-2016   \n",
              "6     45097             0                0  02-12-2011  02-12-2016   \n",
              "7     29552             0             1260  21-04-2010  21-04-2016   \n",
              "8      2962             0                0  23-09-2011  23-09-2016   \n",
              "9     26064             0             2188  04-05-2010  04-05-2016   \n",
              "\n",
              "  date_modif_prod date_renewal  forecast_cons_12m  forecast_cons_year  \\\n",
              "0      01-11-2015   23-06-2015               0.00                   0   \n",
              "1      21-08-2009   31-08-2015             189.95                   0   \n",
              "2      16-04-2010   17-04-2015              47.96                   0   \n",
              "3      30-03-2010   31-03-2015             240.04                   0   \n",
              "4      13-01-2010   09-03-2015             445.75                 526   \n",
              "5      01-11-2015   10-12-2015             796.94                1998   \n",
              "6      02-12-2011   03-12-2015            8069.28                   0   \n",
              "7      21-04-2010   22-04-2015             864.73                 751   \n",
              "8      23-09-2011   25-09-2015             444.38                   0   \n",
              "9      29-04-2015   05-05-2015            2738.10                2188   \n",
              "\n",
              "   forecast_discount_energy  forecast_meter_rent_12m  \\\n",
              "0                         0                     1.78   \n",
              "1                         0                    16.27   \n",
              "2                         0                    38.72   \n",
              "3                         0                    19.83   \n",
              "4                         0                   131.73   \n",
              "5                         0                    30.12   \n",
              "6                         0                     0.00   \n",
              "7                         0                   144.49   \n",
              "8                         0                    15.85   \n",
              "9                         0                   130.43   \n",
              "\n",
              "   forecast_price_energy_off_peak  forecast_price_energy_peak  \\\n",
              "0                        0.114481                    0.098142   \n",
              "1                        0.145711                    0.000000   \n",
              "2                        0.165794                    0.087899   \n",
              "3                        0.146694                    0.000000   \n",
              "4                        0.116900                    0.100015   \n",
              "5                        0.164775                    0.086131   \n",
              "6                        0.166178                    0.087538   \n",
              "7                        0.115174                    0.098837   \n",
              "8                        0.145711                    0.000000   \n",
              "9                        0.115761                    0.099419   \n",
              "\n",
              "   forecast_price_pow_off_peak has_gas  imp_cons  margin_gross_pow_ele  \\\n",
              "0                    40.606701       t      0.00                 25.44   \n",
              "1                    44.311378       f      0.00                 16.38   \n",
              "2                    44.311378       f      0.00                 28.60   \n",
              "3                    44.311378       f      0.00                 30.22   \n",
              "4                    40.606701       f     52.32                 44.91   \n",
              "5                    45.308378       f    181.21                 33.12   \n",
              "6                    44.311378       f      0.00                  4.04   \n",
              "7                    40.606701       f     70.63                 53.92   \n",
              "8                    44.311378       f      0.00                 12.82   \n",
              "9                    40.606701       f    219.59                 33.42   \n",
              "\n",
              "   margin_net_pow_ele  nb_prod_act  net_margin  num_years_antig  \\\n",
              "0               25.44            2      678.99                3   \n",
              "1               16.38            1       18.89                6   \n",
              "2               28.60            1        6.60                6   \n",
              "3               30.22            1       25.46                6   \n",
              "4               44.91            1       47.98                6   \n",
              "5               33.12            1      118.89                4   \n",
              "6                4.04            1      346.63                4   \n",
              "7               53.92            1      100.09                6   \n",
              "8               12.82            1       42.59                4   \n",
              "9               33.42            1      329.60                6   \n",
              "\n",
              "                          origin_up  pow_max  churn  \n",
              "0  lxidpiddsbxsbosboudacockeimpuepw   43.648      1  \n",
              "1  kamkkxfxxuwbdslkwifmmcsiusiuosws   13.800      0  \n",
              "2  kamkkxfxxuwbdslkwifmmcsiusiuosws   13.856      0  \n",
              "3  kamkkxfxxuwbdslkwifmmcsiusiuosws   13.200      0  \n",
              "4  kamkkxfxxuwbdslkwifmmcsiusiuosws   19.800      0  \n",
              "5  lxidpiddsbxsbosboudacockeimpuepw   13.200      1  \n",
              "6  lxidpiddsbxsbosboudacockeimpuepw   15.000      1  \n",
              "7  lxidpiddsbxsbosboudacockeimpuepw   26.400      0  \n",
              "8  kamkkxfxxuwbdslkwifmmcsiusiuosws   13.200      0  \n",
              "9  lxidpiddsbxsbosboudacockeimpuepw   31.500      0  "
            ],
            "text/html": [
              "\n",
              "  <div id=\"df-0becafe6-84e8-4f9c-b2c8-8788c5cbc07e\">\n",
              "    <div class=\"colab-df-container\">\n",
              "      <div>\n",
              "<style scoped>\n",
              "    .dataframe tbody tr th:only-of-type {\n",
              "        vertical-align: middle;\n",
              "    }\n",
              "\n",
              "    .dataframe tbody tr th {\n",
              "        vertical-align: top;\n",
              "    }\n",
              "\n",
              "    .dataframe thead th {\n",
              "        text-align: right;\n",
              "    }\n",
              "</style>\n",
              "<table border=\"1\" class=\"dataframe\">\n",
              "  <thead>\n",
              "    <tr style=\"text-align: right;\">\n",
              "      <th></th>\n",
              "      <th>id</th>\n",
              "      <th>channel_sales</th>\n",
              "      <th>cons_12m</th>\n",
              "      <th>cons_gas_12m</th>\n",
              "      <th>cons_last_month</th>\n",
              "      <th>date_activ</th>\n",
              "      <th>date_end</th>\n",
              "      <th>date_modif_prod</th>\n",
              "      <th>date_renewal</th>\n",
              "      <th>forecast_cons_12m</th>\n",
              "      <th>forecast_cons_year</th>\n",
              "      <th>forecast_discount_energy</th>\n",
              "      <th>forecast_meter_rent_12m</th>\n",
              "      <th>forecast_price_energy_off_peak</th>\n",
              "      <th>forecast_price_energy_peak</th>\n",
              "      <th>forecast_price_pow_off_peak</th>\n",
              "      <th>has_gas</th>\n",
              "      <th>imp_cons</th>\n",
              "      <th>margin_gross_pow_ele</th>\n",
              "      <th>margin_net_pow_ele</th>\n",
              "      <th>nb_prod_act</th>\n",
              "      <th>net_margin</th>\n",
              "      <th>num_years_antig</th>\n",
              "      <th>origin_up</th>\n",
              "      <th>pow_max</th>\n",
              "      <th>churn</th>\n",
              "    </tr>\n",
              "  </thead>\n",
              "  <tbody>\n",
              "    <tr>\n",
              "      <th>0</th>\n",
              "      <td>24011ae4ebbe3035111d65fa7c15bc57</td>\n",
              "      <td>foosdfpfkusacimwkcsosbicdxkicaua</td>\n",
              "      <td>0</td>\n",
              "      <td>54946</td>\n",
              "      <td>0</td>\n",
              "      <td>15-06-2013</td>\n",
              "      <td>15-06-2016</td>\n",
              "      <td>01-11-2015</td>\n",
              "      <td>23-06-2015</td>\n",
              "      <td>0.00</td>\n",
              "      <td>0</td>\n",
              "      <td>0</td>\n",
              "      <td>1.78</td>\n",
              "      <td>0.114481</td>\n",
              "      <td>0.098142</td>\n",
              "      <td>40.606701</td>\n",
              "      <td>t</td>\n",
              "      <td>0.00</td>\n",
              "      <td>25.44</td>\n",
              "      <td>25.44</td>\n",
              "      <td>2</td>\n",
              "      <td>678.99</td>\n",
              "      <td>3</td>\n",
              "      <td>lxidpiddsbxsbosboudacockeimpuepw</td>\n",
              "      <td>43.648</td>\n",
              "      <td>1</td>\n",
              "    </tr>\n",
              "    <tr>\n",
              "      <th>1</th>\n",
              "      <td>d29c2c54acc38ff3c0614d0a653813dd</td>\n",
              "      <td>MISSING</td>\n",
              "      <td>4660</td>\n",
              "      <td>0</td>\n",
              "      <td>0</td>\n",
              "      <td>21-08-2009</td>\n",
              "      <td>30-08-2016</td>\n",
              "      <td>21-08-2009</td>\n",
              "      <td>31-08-2015</td>\n",
              "      <td>189.95</td>\n",
              "      <td>0</td>\n",
              "      <td>0</td>\n",
              "      <td>16.27</td>\n",
              "      <td>0.145711</td>\n",
              "      <td>0.000000</td>\n",
              "      <td>44.311378</td>\n",
              "      <td>f</td>\n",
              "      <td>0.00</td>\n",
              "      <td>16.38</td>\n",
              "      <td>16.38</td>\n",
              "      <td>1</td>\n",
              "      <td>18.89</td>\n",
              "      <td>6</td>\n",
              "      <td>kamkkxfxxuwbdslkwifmmcsiusiuosws</td>\n",
              "      <td>13.800</td>\n",
              "      <td>0</td>\n",
              "    </tr>\n",
              "    <tr>\n",
              "      <th>2</th>\n",
              "      <td>764c75f661154dac3a6c254cd082ea7d</td>\n",
              "      <td>foosdfpfkusacimwkcsosbicdxkicaua</td>\n",
              "      <td>544</td>\n",
              "      <td>0</td>\n",
              "      <td>0</td>\n",
              "      <td>16-04-2010</td>\n",
              "      <td>16-04-2016</td>\n",
              "      <td>16-04-2010</td>\n",
              "      <td>17-04-2015</td>\n",
              "      <td>47.96</td>\n",
              "      <td>0</td>\n",
              "      <td>0</td>\n",
              "      <td>38.72</td>\n",
              "      <td>0.165794</td>\n",
              "      <td>0.087899</td>\n",
              "      <td>44.311378</td>\n",
              "      <td>f</td>\n",
              "      <td>0.00</td>\n",
              "      <td>28.60</td>\n",
              "      <td>28.60</td>\n",
              "      <td>1</td>\n",
              "      <td>6.60</td>\n",
              "      <td>6</td>\n",
              "      <td>kamkkxfxxuwbdslkwifmmcsiusiuosws</td>\n",
              "      <td>13.856</td>\n",
              "      <td>0</td>\n",
              "    </tr>\n",
              "    <tr>\n",
              "      <th>3</th>\n",
              "      <td>bba03439a292a1e166f80264c16191cb</td>\n",
              "      <td>lmkebamcaaclubfxadlmueccxoimlema</td>\n",
              "      <td>1584</td>\n",
              "      <td>0</td>\n",
              "      <td>0</td>\n",
              "      <td>30-03-2010</td>\n",
              "      <td>30-03-2016</td>\n",
              "      <td>30-03-2010</td>\n",
              "      <td>31-03-2015</td>\n",
              "      <td>240.04</td>\n",
              "      <td>0</td>\n",
              "      <td>0</td>\n",
              "      <td>19.83</td>\n",
              "      <td>0.146694</td>\n",
              "      <td>0.000000</td>\n",
              "      <td>44.311378</td>\n",
              "      <td>f</td>\n",
              "      <td>0.00</td>\n",
              "      <td>30.22</td>\n",
              "      <td>30.22</td>\n",
              "      <td>1</td>\n",
              "      <td>25.46</td>\n",
              "      <td>6</td>\n",
              "      <td>kamkkxfxxuwbdslkwifmmcsiusiuosws</td>\n",
              "      <td>13.200</td>\n",
              "      <td>0</td>\n",
              "    </tr>\n",
              "    <tr>\n",
              "      <th>4</th>\n",
              "      <td>149d57cf92fc41cf94415803a877cb4b</td>\n",
              "      <td>MISSING</td>\n",
              "      <td>4425</td>\n",
              "      <td>0</td>\n",
              "      <td>526</td>\n",
              "      <td>13-01-2010</td>\n",
              "      <td>07-03-2016</td>\n",
              "      <td>13-01-2010</td>\n",
              "      <td>09-03-2015</td>\n",
              "      <td>445.75</td>\n",
              "      <td>526</td>\n",
              "      <td>0</td>\n",
              "      <td>131.73</td>\n",
              "      <td>0.116900</td>\n",
              "      <td>0.100015</td>\n",
              "      <td>40.606701</td>\n",
              "      <td>f</td>\n",
              "      <td>52.32</td>\n",
              "      <td>44.91</td>\n",
              "      <td>44.91</td>\n",
              "      <td>1</td>\n",
              "      <td>47.98</td>\n",
              "      <td>6</td>\n",
              "      <td>kamkkxfxxuwbdslkwifmmcsiusiuosws</td>\n",
              "      <td>19.800</td>\n",
              "      <td>0</td>\n",
              "    </tr>\n",
              "    <tr>\n",
              "      <th>5</th>\n",
              "      <td>1aa498825382410b098937d65c4ec26d</td>\n",
              "      <td>usilxuppasemubllopkaafesmlibmsdf</td>\n",
              "      <td>8302</td>\n",
              "      <td>0</td>\n",
              "      <td>1998</td>\n",
              "      <td>09-12-2011</td>\n",
              "      <td>09-12-2016</td>\n",
              "      <td>01-11-2015</td>\n",
              "      <td>10-12-2015</td>\n",
              "      <td>796.94</td>\n",
              "      <td>1998</td>\n",
              "      <td>0</td>\n",
              "      <td>30.12</td>\n",
              "      <td>0.164775</td>\n",
              "      <td>0.086131</td>\n",
              "      <td>45.308378</td>\n",
              "      <td>f</td>\n",
              "      <td>181.21</td>\n",
              "      <td>33.12</td>\n",
              "      <td>33.12</td>\n",
              "      <td>1</td>\n",
              "      <td>118.89</td>\n",
              "      <td>4</td>\n",
              "      <td>lxidpiddsbxsbosboudacockeimpuepw</td>\n",
              "      <td>13.200</td>\n",
              "      <td>1</td>\n",
              "    </tr>\n",
              "    <tr>\n",
              "      <th>6</th>\n",
              "      <td>7ab4bf4878d8f7661dfc20e9b8e18011</td>\n",
              "      <td>foosdfpfkusacimwkcsosbicdxkicaua</td>\n",
              "      <td>45097</td>\n",
              "      <td>0</td>\n",
              "      <td>0</td>\n",
              "      <td>02-12-2011</td>\n",
              "      <td>02-12-2016</td>\n",
              "      <td>02-12-2011</td>\n",
              "      <td>03-12-2015</td>\n",
              "      <td>8069.28</td>\n",
              "      <td>0</td>\n",
              "      <td>0</td>\n",
              "      <td>0.00</td>\n",
              "      <td>0.166178</td>\n",
              "      <td>0.087538</td>\n",
              "      <td>44.311378</td>\n",
              "      <td>f</td>\n",
              "      <td>0.00</td>\n",
              "      <td>4.04</td>\n",
              "      <td>4.04</td>\n",
              "      <td>1</td>\n",
              "      <td>346.63</td>\n",
              "      <td>4</td>\n",
              "      <td>lxidpiddsbxsbosboudacockeimpuepw</td>\n",
              "      <td>15.000</td>\n",
              "      <td>1</td>\n",
              "    </tr>\n",
              "    <tr>\n",
              "      <th>7</th>\n",
              "      <td>01495c955be7ec5e7f3203406785aae0</td>\n",
              "      <td>foosdfpfkusacimwkcsosbicdxkicaua</td>\n",
              "      <td>29552</td>\n",
              "      <td>0</td>\n",
              "      <td>1260</td>\n",
              "      <td>21-04-2010</td>\n",
              "      <td>21-04-2016</td>\n",
              "      <td>21-04-2010</td>\n",
              "      <td>22-04-2015</td>\n",
              "      <td>864.73</td>\n",
              "      <td>751</td>\n",
              "      <td>0</td>\n",
              "      <td>144.49</td>\n",
              "      <td>0.115174</td>\n",
              "      <td>0.098837</td>\n",
              "      <td>40.606701</td>\n",
              "      <td>f</td>\n",
              "      <td>70.63</td>\n",
              "      <td>53.92</td>\n",
              "      <td>53.92</td>\n",
              "      <td>1</td>\n",
              "      <td>100.09</td>\n",
              "      <td>6</td>\n",
              "      <td>lxidpiddsbxsbosboudacockeimpuepw</td>\n",
              "      <td>26.400</td>\n",
              "      <td>0</td>\n",
              "    </tr>\n",
              "    <tr>\n",
              "      <th>8</th>\n",
              "      <td>f53a254b1115634330c12c7fdbf7958a</td>\n",
              "      <td>usilxuppasemubllopkaafesmlibmsdf</td>\n",
              "      <td>2962</td>\n",
              "      <td>0</td>\n",
              "      <td>0</td>\n",
              "      <td>23-09-2011</td>\n",
              "      <td>23-09-2016</td>\n",
              "      <td>23-09-2011</td>\n",
              "      <td>25-09-2015</td>\n",
              "      <td>444.38</td>\n",
              "      <td>0</td>\n",
              "      <td>0</td>\n",
              "      <td>15.85</td>\n",
              "      <td>0.145711</td>\n",
              "      <td>0.000000</td>\n",
              "      <td>44.311378</td>\n",
              "      <td>f</td>\n",
              "      <td>0.00</td>\n",
              "      <td>12.82</td>\n",
              "      <td>12.82</td>\n",
              "      <td>1</td>\n",
              "      <td>42.59</td>\n",
              "      <td>4</td>\n",
              "      <td>kamkkxfxxuwbdslkwifmmcsiusiuosws</td>\n",
              "      <td>13.200</td>\n",
              "      <td>0</td>\n",
              "    </tr>\n",
              "    <tr>\n",
              "      <th>9</th>\n",
              "      <td>10c1b2f97a2d2a6f10299dc213d1a370</td>\n",
              "      <td>lmkebamcaaclubfxadlmueccxoimlema</td>\n",
              "      <td>26064</td>\n",
              "      <td>0</td>\n",
              "      <td>2188</td>\n",
              "      <td>04-05-2010</td>\n",
              "      <td>04-05-2016</td>\n",
              "      <td>29-04-2015</td>\n",
              "      <td>05-05-2015</td>\n",
              "      <td>2738.10</td>\n",
              "      <td>2188</td>\n",
              "      <td>0</td>\n",
              "      <td>130.43</td>\n",
              "      <td>0.115761</td>\n",
              "      <td>0.099419</td>\n",
              "      <td>40.606701</td>\n",
              "      <td>f</td>\n",
              "      <td>219.59</td>\n",
              "      <td>33.42</td>\n",
              "      <td>33.42</td>\n",
              "      <td>1</td>\n",
              "      <td>329.60</td>\n",
              "      <td>6</td>\n",
              "      <td>lxidpiddsbxsbosboudacockeimpuepw</td>\n",
              "      <td>31.500</td>\n",
              "      <td>0</td>\n",
              "    </tr>\n",
              "  </tbody>\n",
              "</table>\n",
              "</div>\n",
              "      <button class=\"colab-df-convert\" onclick=\"convertToInteractive('df-0becafe6-84e8-4f9c-b2c8-8788c5cbc07e')\"\n",
              "              title=\"Convert this dataframe to an interactive table.\"\n",
              "              style=\"display:none;\">\n",
              "        \n",
              "  <svg xmlns=\"http://www.w3.org/2000/svg\" height=\"24px\"viewBox=\"0 0 24 24\"\n",
              "       width=\"24px\">\n",
              "    <path d=\"M0 0h24v24H0V0z\" fill=\"none\"/>\n",
              "    <path d=\"M18.56 5.44l.94 2.06.94-2.06 2.06-.94-2.06-.94-.94-2.06-.94 2.06-2.06.94zm-11 1L8.5 8.5l.94-2.06 2.06-.94-2.06-.94L8.5 2.5l-.94 2.06-2.06.94zm10 10l.94 2.06.94-2.06 2.06-.94-2.06-.94-.94-2.06-.94 2.06-2.06.94z\"/><path d=\"M17.41 7.96l-1.37-1.37c-.4-.4-.92-.59-1.43-.59-.52 0-1.04.2-1.43.59L10.3 9.45l-7.72 7.72c-.78.78-.78 2.05 0 2.83L4 21.41c.39.39.9.59 1.41.59.51 0 1.02-.2 1.41-.59l7.78-7.78 2.81-2.81c.8-.78.8-2.07 0-2.86zM5.41 20L4 18.59l7.72-7.72 1.47 1.35L5.41 20z\"/>\n",
              "  </svg>\n",
              "      </button>\n",
              "      \n",
              "  <style>\n",
              "    .colab-df-container {\n",
              "      display:flex;\n",
              "      flex-wrap:wrap;\n",
              "      gap: 12px;\n",
              "    }\n",
              "\n",
              "    .colab-df-convert {\n",
              "      background-color: #E8F0FE;\n",
              "      border: none;\n",
              "      border-radius: 50%;\n",
              "      cursor: pointer;\n",
              "      display: none;\n",
              "      fill: #1967D2;\n",
              "      height: 32px;\n",
              "      padding: 0 0 0 0;\n",
              "      width: 32px;\n",
              "    }\n",
              "\n",
              "    .colab-df-convert:hover {\n",
              "      background-color: #E2EBFA;\n",
              "      box-shadow: 0px 1px 2px rgba(60, 64, 67, 0.3), 0px 1px 3px 1px rgba(60, 64, 67, 0.15);\n",
              "      fill: #174EA6;\n",
              "    }\n",
              "\n",
              "    [theme=dark] .colab-df-convert {\n",
              "      background-color: #3B4455;\n",
              "      fill: #D2E3FC;\n",
              "    }\n",
              "\n",
              "    [theme=dark] .colab-df-convert:hover {\n",
              "      background-color: #434B5C;\n",
              "      box-shadow: 0px 1px 3px 1px rgba(0, 0, 0, 0.15);\n",
              "      filter: drop-shadow(0px 1px 2px rgba(0, 0, 0, 0.3));\n",
              "      fill: #FFFFFF;\n",
              "    }\n",
              "  </style>\n",
              "\n",
              "      <script>\n",
              "        const buttonEl =\n",
              "          document.querySelector('#df-0becafe6-84e8-4f9c-b2c8-8788c5cbc07e button.colab-df-convert');\n",
              "        buttonEl.style.display =\n",
              "          google.colab.kernel.accessAllowed ? 'block' : 'none';\n",
              "\n",
              "        async function convertToInteractive(key) {\n",
              "          const element = document.querySelector('#df-0becafe6-84e8-4f9c-b2c8-8788c5cbc07e');\n",
              "          const dataTable =\n",
              "            await google.colab.kernel.invokeFunction('convertToInteractive',\n",
              "                                                     [key], {});\n",
              "          if (!dataTable) return;\n",
              "\n",
              "          const docLinkHtml = 'Like what you see? Visit the ' +\n",
              "            '<a target=\"_blank\" href=https://colab.research.google.com/notebooks/data_table.ipynb>data table notebook</a>'\n",
              "            + ' to learn more about interactive tables.';\n",
              "          element.innerHTML = '';\n",
              "          dataTable['output_type'] = 'display_data';\n",
              "          await google.colab.output.renderOutput(dataTable, element);\n",
              "          const docLink = document.createElement('div');\n",
              "          docLink.innerHTML = docLinkHtml;\n",
              "          element.appendChild(docLink);\n",
              "        }\n",
              "      </script>\n",
              "    </div>\n",
              "  </div>\n",
              "  "
            ]
          },
          "metadata": {},
          "execution_count": 98
        }
      ]
    },
    {
      "cell_type": "code",
      "source": [
        "#information of client data\n",
        "client_df.info()"
      ],
      "metadata": {
        "colab": {
          "base_uri": "https://localhost:8080/"
        },
        "id": "remOXVZfIkqN",
        "outputId": "07d9612e-b708-4ce0-cb09-dbd9f917f9b7"
      },
      "execution_count": null,
      "outputs": [
        {
          "output_type": "stream",
          "name": "stdout",
          "text": [
            "<class 'pandas.core.frame.DataFrame'>\n",
            "RangeIndex: 14606 entries, 0 to 14605\n",
            "Data columns (total 26 columns):\n",
            " #   Column                          Non-Null Count  Dtype  \n",
            "---  ------                          --------------  -----  \n",
            " 0   id                              14606 non-null  object \n",
            " 1   channel_sales                   14606 non-null  object \n",
            " 2   cons_12m                        14606 non-null  int64  \n",
            " 3   cons_gas_12m                    14606 non-null  int64  \n",
            " 4   cons_last_month                 14606 non-null  int64  \n",
            " 5   date_activ                      14606 non-null  object \n",
            " 6   date_end                        14606 non-null  object \n",
            " 7   date_modif_prod                 14606 non-null  object \n",
            " 8   date_renewal                    14606 non-null  object \n",
            " 9   forecast_cons_12m               14606 non-null  float64\n",
            " 10  forecast_cons_year              14606 non-null  int64  \n",
            " 11  forecast_discount_energy        14606 non-null  int64  \n",
            " 12  forecast_meter_rent_12m         14606 non-null  float64\n",
            " 13  forecast_price_energy_off_peak  14606 non-null  float64\n",
            " 14  forecast_price_energy_peak      14606 non-null  float64\n",
            " 15  forecast_price_pow_off_peak     14606 non-null  float64\n",
            " 16  has_gas                         14606 non-null  object \n",
            " 17  imp_cons                        14606 non-null  float64\n",
            " 18  margin_gross_pow_ele            14606 non-null  float64\n",
            " 19  margin_net_pow_ele              14606 non-null  float64\n",
            " 20  nb_prod_act                     14606 non-null  int64  \n",
            " 21  net_margin                      14606 non-null  float64\n",
            " 22  num_years_antig                 14606 non-null  int64  \n",
            " 23  origin_up                       14606 non-null  object \n",
            " 24  pow_max                         14606 non-null  float64\n",
            " 25  churn                           14606 non-null  int64  \n",
            "dtypes: float64(10), int64(8), object(8)\n",
            "memory usage: 2.9+ MB\n"
          ]
        }
      ]
    },
    {
      "cell_type": "code",
      "source": [
        "#check if there are any NaN or duplicate values\n",
        "boolean = client_df.duplicated().any()\n",
        "print(\"Any duplicate rows:\",boolean)\n",
        "\n",
        "client_df.isnull().sum()"
      ],
      "metadata": {
        "colab": {
          "base_uri": "https://localhost:8080/"
        },
        "id": "uhZDqF4NIyJk",
        "outputId": "ecdd19e5-5e07-481a-e0f3-290781c3b13b"
      },
      "execution_count": null,
      "outputs": [
        {
          "output_type": "stream",
          "name": "stdout",
          "text": [
            "Any duplicate rows: False\n"
          ]
        },
        {
          "output_type": "execute_result",
          "data": {
            "text/plain": [
              "id                                0\n",
              "channel_sales                     0\n",
              "cons_12m                          0\n",
              "cons_gas_12m                      0\n",
              "cons_last_month                   0\n",
              "date_activ                        0\n",
              "date_end                          0\n",
              "date_modif_prod                   0\n",
              "date_renewal                      0\n",
              "forecast_cons_12m                 0\n",
              "forecast_cons_year                0\n",
              "forecast_discount_energy          0\n",
              "forecast_meter_rent_12m           0\n",
              "forecast_price_energy_off_peak    0\n",
              "forecast_price_energy_peak        0\n",
              "forecast_price_pow_off_peak       0\n",
              "has_gas                           0\n",
              "imp_cons                          0\n",
              "margin_gross_pow_ele              0\n",
              "margin_net_pow_ele                0\n",
              "nb_prod_act                       0\n",
              "net_margin                        0\n",
              "num_years_antig                   0\n",
              "origin_up                         0\n",
              "pow_max                           0\n",
              "churn                             0\n",
              "dtype: int64"
            ]
          },
          "metadata": {},
          "execution_count": 100
        }
      ]
    },
    {
      "cell_type": "markdown",
      "source": [
        "There are no duplicates and NaN values in client data\n"
      ],
      "metadata": {
        "id": "2anH3kC0JJbN"
      }
    },
    {
      "cell_type": "code",
      "source": [
        "#summary for numerical data\n",
        "client_df.describe()"
      ],
      "metadata": {
        "colab": {
          "base_uri": "https://localhost:8080/",
          "height": 364
        },
        "id": "lmtB2w9JJOS_",
        "outputId": "fdd122e0-e743-46ee-d58a-d4fd487002ba"
      },
      "execution_count": null,
      "outputs": [
        {
          "output_type": "execute_result",
          "data": {
            "text/plain": [
              "           cons_12m  cons_gas_12m  cons_last_month  forecast_cons_12m  \\\n",
              "count  1.460600e+04  1.460600e+04     14606.000000       14606.000000   \n",
              "mean   1.592203e+05  2.809238e+04     16090.269752        1868.614880   \n",
              "std    5.734653e+05  1.629731e+05     64364.196422        2387.571531   \n",
              "min    0.000000e+00  0.000000e+00         0.000000           0.000000   \n",
              "25%    5.674750e+03  0.000000e+00         0.000000         494.995000   \n",
              "50%    1.411550e+04  0.000000e+00       792.500000        1112.875000   \n",
              "75%    4.076375e+04  0.000000e+00      3383.000000        2401.790000   \n",
              "max    6.207104e+06  4.154590e+06    771203.000000       82902.830000   \n",
              "\n",
              "       forecast_cons_year  forecast_discount_energy  forecast_meter_rent_12m  \\\n",
              "count        14606.000000              14606.000000             14606.000000   \n",
              "mean          1399.762906                  0.966726                63.086871   \n",
              "std           3247.786255                  5.108289                66.165783   \n",
              "min              0.000000                  0.000000                 0.000000   \n",
              "25%              0.000000                  0.000000                16.180000   \n",
              "50%            314.000000                  0.000000                18.795000   \n",
              "75%           1745.750000                  0.000000               131.030000   \n",
              "max         175375.000000                 30.000000               599.310000   \n",
              "\n",
              "       forecast_price_energy_off_peak  forecast_price_energy_peak  \\\n",
              "count                    14606.000000                14606.000000   \n",
              "mean                         0.137283                    0.050491   \n",
              "std                          0.024623                    0.049037   \n",
              "min                          0.000000                    0.000000   \n",
              "25%                          0.116340                    0.000000   \n",
              "50%                          0.143166                    0.084138   \n",
              "75%                          0.146348                    0.098837   \n",
              "max                          0.273963                    0.195975   \n",
              "\n",
              "       forecast_price_pow_off_peak      imp_cons  margin_gross_pow_ele  \\\n",
              "count                 14606.000000  14606.000000          14606.000000   \n",
              "mean                     43.130056    152.786896             24.565121   \n",
              "std                       4.485988    341.369366             20.231172   \n",
              "min                       0.000000      0.000000              0.000000   \n",
              "25%                      40.606701      0.000000             14.280000   \n",
              "50%                      44.311378     37.395000             21.640000   \n",
              "75%                      44.311378    193.980000             29.880000   \n",
              "max                      59.266378  15042.790000            374.640000   \n",
              "\n",
              "       margin_net_pow_ele   nb_prod_act    net_margin  num_years_antig  \\\n",
              "count        14606.000000  14606.000000  14606.000000     14606.000000   \n",
              "mean            24.562517      1.292346    189.264522         4.997809   \n",
              "std             20.230280      0.709774    311.798130         1.611749   \n",
              "min              0.000000      1.000000      0.000000         1.000000   \n",
              "25%             14.280000      1.000000     50.712500         4.000000   \n",
              "50%             21.640000      1.000000    112.530000         5.000000   \n",
              "75%             29.880000      1.000000    243.097500         6.000000   \n",
              "max            374.640000     32.000000  24570.650000        13.000000   \n",
              "\n",
              "            pow_max         churn  \n",
              "count  14606.000000  14606.000000  \n",
              "mean      18.135136      0.097152  \n",
              "std       13.534743      0.296175  \n",
              "min        3.300000      0.000000  \n",
              "25%       12.500000      0.000000  \n",
              "50%       13.856000      0.000000  \n",
              "75%       19.172500      0.000000  \n",
              "max      320.000000      1.000000  "
            ],
            "text/html": [
              "\n",
              "  <div id=\"df-23246cc8-d85f-4d4b-8a14-a605590fd6db\">\n",
              "    <div class=\"colab-df-container\">\n",
              "      <div>\n",
              "<style scoped>\n",
              "    .dataframe tbody tr th:only-of-type {\n",
              "        vertical-align: middle;\n",
              "    }\n",
              "\n",
              "    .dataframe tbody tr th {\n",
              "        vertical-align: top;\n",
              "    }\n",
              "\n",
              "    .dataframe thead th {\n",
              "        text-align: right;\n",
              "    }\n",
              "</style>\n",
              "<table border=\"1\" class=\"dataframe\">\n",
              "  <thead>\n",
              "    <tr style=\"text-align: right;\">\n",
              "      <th></th>\n",
              "      <th>cons_12m</th>\n",
              "      <th>cons_gas_12m</th>\n",
              "      <th>cons_last_month</th>\n",
              "      <th>forecast_cons_12m</th>\n",
              "      <th>forecast_cons_year</th>\n",
              "      <th>forecast_discount_energy</th>\n",
              "      <th>forecast_meter_rent_12m</th>\n",
              "      <th>forecast_price_energy_off_peak</th>\n",
              "      <th>forecast_price_energy_peak</th>\n",
              "      <th>forecast_price_pow_off_peak</th>\n",
              "      <th>imp_cons</th>\n",
              "      <th>margin_gross_pow_ele</th>\n",
              "      <th>margin_net_pow_ele</th>\n",
              "      <th>nb_prod_act</th>\n",
              "      <th>net_margin</th>\n",
              "      <th>num_years_antig</th>\n",
              "      <th>pow_max</th>\n",
              "      <th>churn</th>\n",
              "    </tr>\n",
              "  </thead>\n",
              "  <tbody>\n",
              "    <tr>\n",
              "      <th>count</th>\n",
              "      <td>1.460600e+04</td>\n",
              "      <td>1.460600e+04</td>\n",
              "      <td>14606.000000</td>\n",
              "      <td>14606.000000</td>\n",
              "      <td>14606.000000</td>\n",
              "      <td>14606.000000</td>\n",
              "      <td>14606.000000</td>\n",
              "      <td>14606.000000</td>\n",
              "      <td>14606.000000</td>\n",
              "      <td>14606.000000</td>\n",
              "      <td>14606.000000</td>\n",
              "      <td>14606.000000</td>\n",
              "      <td>14606.000000</td>\n",
              "      <td>14606.000000</td>\n",
              "      <td>14606.000000</td>\n",
              "      <td>14606.000000</td>\n",
              "      <td>14606.000000</td>\n",
              "      <td>14606.000000</td>\n",
              "    </tr>\n",
              "    <tr>\n",
              "      <th>mean</th>\n",
              "      <td>1.592203e+05</td>\n",
              "      <td>2.809238e+04</td>\n",
              "      <td>16090.269752</td>\n",
              "      <td>1868.614880</td>\n",
              "      <td>1399.762906</td>\n",
              "      <td>0.966726</td>\n",
              "      <td>63.086871</td>\n",
              "      <td>0.137283</td>\n",
              "      <td>0.050491</td>\n",
              "      <td>43.130056</td>\n",
              "      <td>152.786896</td>\n",
              "      <td>24.565121</td>\n",
              "      <td>24.562517</td>\n",
              "      <td>1.292346</td>\n",
              "      <td>189.264522</td>\n",
              "      <td>4.997809</td>\n",
              "      <td>18.135136</td>\n",
              "      <td>0.097152</td>\n",
              "    </tr>\n",
              "    <tr>\n",
              "      <th>std</th>\n",
              "      <td>5.734653e+05</td>\n",
              "      <td>1.629731e+05</td>\n",
              "      <td>64364.196422</td>\n",
              "      <td>2387.571531</td>\n",
              "      <td>3247.786255</td>\n",
              "      <td>5.108289</td>\n",
              "      <td>66.165783</td>\n",
              "      <td>0.024623</td>\n",
              "      <td>0.049037</td>\n",
              "      <td>4.485988</td>\n",
              "      <td>341.369366</td>\n",
              "      <td>20.231172</td>\n",
              "      <td>20.230280</td>\n",
              "      <td>0.709774</td>\n",
              "      <td>311.798130</td>\n",
              "      <td>1.611749</td>\n",
              "      <td>13.534743</td>\n",
              "      <td>0.296175</td>\n",
              "    </tr>\n",
              "    <tr>\n",
              "      <th>min</th>\n",
              "      <td>0.000000e+00</td>\n",
              "      <td>0.000000e+00</td>\n",
              "      <td>0.000000</td>\n",
              "      <td>0.000000</td>\n",
              "      <td>0.000000</td>\n",
              "      <td>0.000000</td>\n",
              "      <td>0.000000</td>\n",
              "      <td>0.000000</td>\n",
              "      <td>0.000000</td>\n",
              "      <td>0.000000</td>\n",
              "      <td>0.000000</td>\n",
              "      <td>0.000000</td>\n",
              "      <td>0.000000</td>\n",
              "      <td>1.000000</td>\n",
              "      <td>0.000000</td>\n",
              "      <td>1.000000</td>\n",
              "      <td>3.300000</td>\n",
              "      <td>0.000000</td>\n",
              "    </tr>\n",
              "    <tr>\n",
              "      <th>25%</th>\n",
              "      <td>5.674750e+03</td>\n",
              "      <td>0.000000e+00</td>\n",
              "      <td>0.000000</td>\n",
              "      <td>494.995000</td>\n",
              "      <td>0.000000</td>\n",
              "      <td>0.000000</td>\n",
              "      <td>16.180000</td>\n",
              "      <td>0.116340</td>\n",
              "      <td>0.000000</td>\n",
              "      <td>40.606701</td>\n",
              "      <td>0.000000</td>\n",
              "      <td>14.280000</td>\n",
              "      <td>14.280000</td>\n",
              "      <td>1.000000</td>\n",
              "      <td>50.712500</td>\n",
              "      <td>4.000000</td>\n",
              "      <td>12.500000</td>\n",
              "      <td>0.000000</td>\n",
              "    </tr>\n",
              "    <tr>\n",
              "      <th>50%</th>\n",
              "      <td>1.411550e+04</td>\n",
              "      <td>0.000000e+00</td>\n",
              "      <td>792.500000</td>\n",
              "      <td>1112.875000</td>\n",
              "      <td>314.000000</td>\n",
              "      <td>0.000000</td>\n",
              "      <td>18.795000</td>\n",
              "      <td>0.143166</td>\n",
              "      <td>0.084138</td>\n",
              "      <td>44.311378</td>\n",
              "      <td>37.395000</td>\n",
              "      <td>21.640000</td>\n",
              "      <td>21.640000</td>\n",
              "      <td>1.000000</td>\n",
              "      <td>112.530000</td>\n",
              "      <td>5.000000</td>\n",
              "      <td>13.856000</td>\n",
              "      <td>0.000000</td>\n",
              "    </tr>\n",
              "    <tr>\n",
              "      <th>75%</th>\n",
              "      <td>4.076375e+04</td>\n",
              "      <td>0.000000e+00</td>\n",
              "      <td>3383.000000</td>\n",
              "      <td>2401.790000</td>\n",
              "      <td>1745.750000</td>\n",
              "      <td>0.000000</td>\n",
              "      <td>131.030000</td>\n",
              "      <td>0.146348</td>\n",
              "      <td>0.098837</td>\n",
              "      <td>44.311378</td>\n",
              "      <td>193.980000</td>\n",
              "      <td>29.880000</td>\n",
              "      <td>29.880000</td>\n",
              "      <td>1.000000</td>\n",
              "      <td>243.097500</td>\n",
              "      <td>6.000000</td>\n",
              "      <td>19.172500</td>\n",
              "      <td>0.000000</td>\n",
              "    </tr>\n",
              "    <tr>\n",
              "      <th>max</th>\n",
              "      <td>6.207104e+06</td>\n",
              "      <td>4.154590e+06</td>\n",
              "      <td>771203.000000</td>\n",
              "      <td>82902.830000</td>\n",
              "      <td>175375.000000</td>\n",
              "      <td>30.000000</td>\n",
              "      <td>599.310000</td>\n",
              "      <td>0.273963</td>\n",
              "      <td>0.195975</td>\n",
              "      <td>59.266378</td>\n",
              "      <td>15042.790000</td>\n",
              "      <td>374.640000</td>\n",
              "      <td>374.640000</td>\n",
              "      <td>32.000000</td>\n",
              "      <td>24570.650000</td>\n",
              "      <td>13.000000</td>\n",
              "      <td>320.000000</td>\n",
              "      <td>1.000000</td>\n",
              "    </tr>\n",
              "  </tbody>\n",
              "</table>\n",
              "</div>\n",
              "      <button class=\"colab-df-convert\" onclick=\"convertToInteractive('df-23246cc8-d85f-4d4b-8a14-a605590fd6db')\"\n",
              "              title=\"Convert this dataframe to an interactive table.\"\n",
              "              style=\"display:none;\">\n",
              "        \n",
              "  <svg xmlns=\"http://www.w3.org/2000/svg\" height=\"24px\"viewBox=\"0 0 24 24\"\n",
              "       width=\"24px\">\n",
              "    <path d=\"M0 0h24v24H0V0z\" fill=\"none\"/>\n",
              "    <path d=\"M18.56 5.44l.94 2.06.94-2.06 2.06-.94-2.06-.94-.94-2.06-.94 2.06-2.06.94zm-11 1L8.5 8.5l.94-2.06 2.06-.94-2.06-.94L8.5 2.5l-.94 2.06-2.06.94zm10 10l.94 2.06.94-2.06 2.06-.94-2.06-.94-.94-2.06-.94 2.06-2.06.94z\"/><path d=\"M17.41 7.96l-1.37-1.37c-.4-.4-.92-.59-1.43-.59-.52 0-1.04.2-1.43.59L10.3 9.45l-7.72 7.72c-.78.78-.78 2.05 0 2.83L4 21.41c.39.39.9.59 1.41.59.51 0 1.02-.2 1.41-.59l7.78-7.78 2.81-2.81c.8-.78.8-2.07 0-2.86zM5.41 20L4 18.59l7.72-7.72 1.47 1.35L5.41 20z\"/>\n",
              "  </svg>\n",
              "      </button>\n",
              "      \n",
              "  <style>\n",
              "    .colab-df-container {\n",
              "      display:flex;\n",
              "      flex-wrap:wrap;\n",
              "      gap: 12px;\n",
              "    }\n",
              "\n",
              "    .colab-df-convert {\n",
              "      background-color: #E8F0FE;\n",
              "      border: none;\n",
              "      border-radius: 50%;\n",
              "      cursor: pointer;\n",
              "      display: none;\n",
              "      fill: #1967D2;\n",
              "      height: 32px;\n",
              "      padding: 0 0 0 0;\n",
              "      width: 32px;\n",
              "    }\n",
              "\n",
              "    .colab-df-convert:hover {\n",
              "      background-color: #E2EBFA;\n",
              "      box-shadow: 0px 1px 2px rgba(60, 64, 67, 0.3), 0px 1px 3px 1px rgba(60, 64, 67, 0.15);\n",
              "      fill: #174EA6;\n",
              "    }\n",
              "\n",
              "    [theme=dark] .colab-df-convert {\n",
              "      background-color: #3B4455;\n",
              "      fill: #D2E3FC;\n",
              "    }\n",
              "\n",
              "    [theme=dark] .colab-df-convert:hover {\n",
              "      background-color: #434B5C;\n",
              "      box-shadow: 0px 1px 3px 1px rgba(0, 0, 0, 0.15);\n",
              "      filter: drop-shadow(0px 1px 2px rgba(0, 0, 0, 0.3));\n",
              "      fill: #FFFFFF;\n",
              "    }\n",
              "  </style>\n",
              "\n",
              "      <script>\n",
              "        const buttonEl =\n",
              "          document.querySelector('#df-23246cc8-d85f-4d4b-8a14-a605590fd6db button.colab-df-convert');\n",
              "        buttonEl.style.display =\n",
              "          google.colab.kernel.accessAllowed ? 'block' : 'none';\n",
              "\n",
              "        async function convertToInteractive(key) {\n",
              "          const element = document.querySelector('#df-23246cc8-d85f-4d4b-8a14-a605590fd6db');\n",
              "          const dataTable =\n",
              "            await google.colab.kernel.invokeFunction('convertToInteractive',\n",
              "                                                     [key], {});\n",
              "          if (!dataTable) return;\n",
              "\n",
              "          const docLinkHtml = 'Like what you see? Visit the ' +\n",
              "            '<a target=\"_blank\" href=https://colab.research.google.com/notebooks/data_table.ipynb>data table notebook</a>'\n",
              "            + ' to learn more about interactive tables.';\n",
              "          element.innerHTML = '';\n",
              "          dataTable['output_type'] = 'display_data';\n",
              "          await google.colab.output.renderOutput(dataTable, element);\n",
              "          const docLink = document.createElement('div');\n",
              "          docLink.innerHTML = docLinkHtml;\n",
              "          element.appendChild(docLink);\n",
              "        }\n",
              "      </script>\n",
              "    </div>\n",
              "  </div>\n",
              "  "
            ]
          },
          "metadata": {},
          "execution_count": 101
        }
      ]
    },
    {
      "cell_type": "code",
      "source": [
        "#checking the categorical columns\n",
        "categorical_cols = [feature for feature in client_df.columns if client_df[feature].dtype =='O']\n",
        "for feature in categorical_cols:\n",
        "  print(\"{} is categorical columns and has {} unique values\".format(feature,len(client_df[feature].unique())))"
      ],
      "metadata": {
        "colab": {
          "base_uri": "https://localhost:8080/"
        },
        "id": "5PhbG9wNM_v3",
        "outputId": "cd60b76d-2569-4c98-8c79-8936f0c97629"
      },
      "execution_count": null,
      "outputs": [
        {
          "output_type": "stream",
          "name": "stdout",
          "text": [
            "id is categorical columns and has 14606 unique values\n",
            "channel_sales is categorical columns and has 8 unique values\n",
            "date_activ is categorical columns and has 1796 unique values\n",
            "date_end is categorical columns and has 368 unique values\n",
            "date_modif_prod is categorical columns and has 2129 unique values\n",
            "date_renewal is categorical columns and has 386 unique values\n",
            "has_gas is categorical columns and has 2 unique values\n",
            "origin_up is categorical columns and has 6 unique values\n"
          ]
        }
      ]
    },
    {
      "cell_type": "code",
      "source": [
        "#checking if there are any missing values in categorical features\n",
        "for feature in categorical_cols:\n",
        "  if len(client_df[feature].unique()) <25:\n",
        "    print(feature,client_df[feature].unique())"
      ],
      "metadata": {
        "colab": {
          "base_uri": "https://localhost:8080/"
        },
        "id": "M6JGyML5NCGK",
        "outputId": "10724d07-3c09-4660-97da-9dacc35f96b3"
      },
      "execution_count": null,
      "outputs": [
        {
          "output_type": "stream",
          "name": "stdout",
          "text": [
            "channel_sales ['foosdfpfkusacimwkcsosbicdxkicaua' 'MISSING'\n",
            " 'lmkebamcaaclubfxadlmueccxoimlema' 'usilxuppasemubllopkaafesmlibmsdf'\n",
            " 'ewpakwlliwisiwduibdlfmalxowmwpci' 'epumfxlbckeskwekxbiuasklxalciiuu'\n",
            " 'sddiedcslfslkckwlfkdpoeeailfpeds' 'fixdbufsefwooaasfcxdxadsiekoceaa']\n",
            "has_gas ['t' 'f']\n",
            "origin_up ['lxidpiddsbxsbosboudacockeimpuepw' 'kamkkxfxxuwbdslkwifmmcsiusiuosws'\n",
            " 'ldkssxwpmemidmecebumciepifcamkci' 'MISSING'\n",
            " 'usapbepcfoloekilkwsdiboslwaxobdp' 'ewxeelcelemmiwuafmddpobolfuxioce']\n"
          ]
        }
      ]
    },
    {
      "cell_type": "markdown",
      "source": [
        "channel_sales and origin_up  has Missing values as Missing and their values are not understandable so \\converting them using label encoding"
      ],
      "metadata": {
        "id": "22ziATdyNcPV"
      }
    },
    {
      "cell_type": "code",
      "source": [
        "## label encoding the columns will be converted to numerical \n",
        "from sklearn.preprocessing import LabelEncoder\n",
        "channel_encoder = LabelEncoder()\n",
        "client_df['channel_sales'] = channel_encoder.fit_transform(client_df['channel_sales'])\n",
        "origin_encoder = LabelEncoder()\n",
        "client_df['origin_up'] = origin_encoder.fit_transform(client_df['origin_up'])"
      ],
      "metadata": {
        "id": "wPjHvnIlIi-G"
      },
      "execution_count": null,
      "outputs": []
    },
    {
      "cell_type": "code",
      "source": [
        "# convert datetime feature to datetime data type\n",
        "for f in ['date_activ','date_end','date_modif_prod','date_renewal']:\n",
        "    client_df[f] = pd.to_datetime(client_df[f])"
      ],
      "metadata": {
        "id": "tImm6DglHPMe"
      },
      "execution_count": null,
      "outputs": []
    },
    {
      "cell_type": "code",
      "source": [
        "#Add some new features from the above datetime features\n",
        "client_df['contract_start_year'] = client_df['date_activ'].dt.year\n",
        "client_df['contract_end_year'] = client_df['date_end'].dt.year"
      ],
      "metadata": {
        "id": "h6fT1K3UOvLj"
      },
      "execution_count": null,
      "outputs": []
    },
    {
      "cell_type": "code",
      "source": [
        "client_df.head(10)"
      ],
      "metadata": {
        "colab": {
          "base_uri": "https://localhost:8080/",
          "height": 600
        },
        "id": "HK7zRz_yOzjc",
        "outputId": "adc2b3fc-ba60-4b2a-984e-8e75816da587"
      },
      "execution_count": null,
      "outputs": [
        {
          "output_type": "execute_result",
          "data": {
            "text/plain": [
              "                                 id  channel_sales  cons_12m  cons_gas_12m  \\\n",
              "0  24011ae4ebbe3035111d65fa7c15bc57              4         0         54946   \n",
              "1  d29c2c54acc38ff3c0614d0a653813dd              0      4660             0   \n",
              "2  764c75f661154dac3a6c254cd082ea7d              4       544             0   \n",
              "3  bba03439a292a1e166f80264c16191cb              5      1584             0   \n",
              "4  149d57cf92fc41cf94415803a877cb4b              0      4425             0   \n",
              "5  1aa498825382410b098937d65c4ec26d              7      8302             0   \n",
              "6  7ab4bf4878d8f7661dfc20e9b8e18011              4     45097             0   \n",
              "7  01495c955be7ec5e7f3203406785aae0              4     29552             0   \n",
              "8  f53a254b1115634330c12c7fdbf7958a              7      2962             0   \n",
              "9  10c1b2f97a2d2a6f10299dc213d1a370              5     26064             0   \n",
              "\n",
              "   cons_last_month date_activ   date_end date_modif_prod date_renewal  \\\n",
              "0                0 2013-06-15 2016-06-15      2015-01-11   2015-06-23   \n",
              "1                0 2009-08-21 2016-08-30      2009-08-21   2015-08-31   \n",
              "2                0 2010-04-16 2016-04-16      2010-04-16   2015-04-17   \n",
              "3                0 2010-03-30 2016-03-30      2010-03-30   2015-03-31   \n",
              "4              526 2010-01-13 2016-07-03      2010-01-13   2015-09-03   \n",
              "5             1998 2011-09-12 2016-09-12      2015-01-11   2015-10-12   \n",
              "6                0 2011-02-12 2016-02-12      2011-02-12   2015-03-12   \n",
              "7             1260 2010-04-21 2016-04-21      2010-04-21   2015-04-22   \n",
              "8                0 2011-09-23 2016-09-23      2011-09-23   2015-09-25   \n",
              "9             2188 2010-04-05 2016-04-05      2015-04-29   2015-05-05   \n",
              "\n",
              "   forecast_cons_12m  forecast_cons_year  forecast_discount_energy  \\\n",
              "0               0.00                   0                         0   \n",
              "1             189.95                   0                         0   \n",
              "2              47.96                   0                         0   \n",
              "3             240.04                   0                         0   \n",
              "4             445.75                 526                         0   \n",
              "5             796.94                1998                         0   \n",
              "6            8069.28                   0                         0   \n",
              "7             864.73                 751                         0   \n",
              "8             444.38                   0                         0   \n",
              "9            2738.10                2188                         0   \n",
              "\n",
              "   forecast_meter_rent_12m  forecast_price_energy_off_peak  \\\n",
              "0                     1.78                        0.114481   \n",
              "1                    16.27                        0.145711   \n",
              "2                    38.72                        0.165794   \n",
              "3                    19.83                        0.146694   \n",
              "4                   131.73                        0.116900   \n",
              "5                    30.12                        0.164775   \n",
              "6                     0.00                        0.166178   \n",
              "7                   144.49                        0.115174   \n",
              "8                    15.85                        0.145711   \n",
              "9                   130.43                        0.115761   \n",
              "\n",
              "   forecast_price_energy_peak  forecast_price_pow_off_peak has_gas  imp_cons  \\\n",
              "0                    0.098142                    40.606701       t      0.00   \n",
              "1                    0.000000                    44.311378       f      0.00   \n",
              "2                    0.087899                    44.311378       f      0.00   \n",
              "3                    0.000000                    44.311378       f      0.00   \n",
              "4                    0.100015                    40.606701       f     52.32   \n",
              "5                    0.086131                    45.308378       f    181.21   \n",
              "6                    0.087538                    44.311378       f      0.00   \n",
              "7                    0.098837                    40.606701       f     70.63   \n",
              "8                    0.000000                    44.311378       f      0.00   \n",
              "9                    0.099419                    40.606701       f    219.59   \n",
              "\n",
              "   margin_gross_pow_ele  margin_net_pow_ele  nb_prod_act  net_margin  \\\n",
              "0                 25.44               25.44            2      678.99   \n",
              "1                 16.38               16.38            1       18.89   \n",
              "2                 28.60               28.60            1        6.60   \n",
              "3                 30.22               30.22            1       25.46   \n",
              "4                 44.91               44.91            1       47.98   \n",
              "5                 33.12               33.12            1      118.89   \n",
              "6                  4.04                4.04            1      346.63   \n",
              "7                 53.92               53.92            1      100.09   \n",
              "8                 12.82               12.82            1       42.59   \n",
              "9                 33.42               33.42            1      329.60   \n",
              "\n",
              "   num_years_antig  origin_up  pow_max  churn  contract_start_year  \\\n",
              "0                3          4   43.648      1                 2013   \n",
              "1                6          2   13.800      0                 2009   \n",
              "2                6          2   13.856      0                 2010   \n",
              "3                6          2   13.200      0                 2010   \n",
              "4                6          2   19.800      0                 2010   \n",
              "5                4          4   13.200      1                 2011   \n",
              "6                4          4   15.000      1                 2011   \n",
              "7                6          4   26.400      0                 2010   \n",
              "8                4          2   13.200      0                 2011   \n",
              "9                6          4   31.500      0                 2010   \n",
              "\n",
              "   contract_end_year  \n",
              "0               2016  \n",
              "1               2016  \n",
              "2               2016  \n",
              "3               2016  \n",
              "4               2016  \n",
              "5               2016  \n",
              "6               2016  \n",
              "7               2016  \n",
              "8               2016  \n",
              "9               2016  "
            ],
            "text/html": [
              "\n",
              "  <div id=\"df-f30ec02b-9e1f-44e7-85e1-5879298c2518\">\n",
              "    <div class=\"colab-df-container\">\n",
              "      <div>\n",
              "<style scoped>\n",
              "    .dataframe tbody tr th:only-of-type {\n",
              "        vertical-align: middle;\n",
              "    }\n",
              "\n",
              "    .dataframe tbody tr th {\n",
              "        vertical-align: top;\n",
              "    }\n",
              "\n",
              "    .dataframe thead th {\n",
              "        text-align: right;\n",
              "    }\n",
              "</style>\n",
              "<table border=\"1\" class=\"dataframe\">\n",
              "  <thead>\n",
              "    <tr style=\"text-align: right;\">\n",
              "      <th></th>\n",
              "      <th>id</th>\n",
              "      <th>channel_sales</th>\n",
              "      <th>cons_12m</th>\n",
              "      <th>cons_gas_12m</th>\n",
              "      <th>cons_last_month</th>\n",
              "      <th>date_activ</th>\n",
              "      <th>date_end</th>\n",
              "      <th>date_modif_prod</th>\n",
              "      <th>date_renewal</th>\n",
              "      <th>forecast_cons_12m</th>\n",
              "      <th>forecast_cons_year</th>\n",
              "      <th>forecast_discount_energy</th>\n",
              "      <th>forecast_meter_rent_12m</th>\n",
              "      <th>forecast_price_energy_off_peak</th>\n",
              "      <th>forecast_price_energy_peak</th>\n",
              "      <th>forecast_price_pow_off_peak</th>\n",
              "      <th>has_gas</th>\n",
              "      <th>imp_cons</th>\n",
              "      <th>margin_gross_pow_ele</th>\n",
              "      <th>margin_net_pow_ele</th>\n",
              "      <th>nb_prod_act</th>\n",
              "      <th>net_margin</th>\n",
              "      <th>num_years_antig</th>\n",
              "      <th>origin_up</th>\n",
              "      <th>pow_max</th>\n",
              "      <th>churn</th>\n",
              "      <th>contract_start_year</th>\n",
              "      <th>contract_end_year</th>\n",
              "    </tr>\n",
              "  </thead>\n",
              "  <tbody>\n",
              "    <tr>\n",
              "      <th>0</th>\n",
              "      <td>24011ae4ebbe3035111d65fa7c15bc57</td>\n",
              "      <td>4</td>\n",
              "      <td>0</td>\n",
              "      <td>54946</td>\n",
              "      <td>0</td>\n",
              "      <td>2013-06-15</td>\n",
              "      <td>2016-06-15</td>\n",
              "      <td>2015-01-11</td>\n",
              "      <td>2015-06-23</td>\n",
              "      <td>0.00</td>\n",
              "      <td>0</td>\n",
              "      <td>0</td>\n",
              "      <td>1.78</td>\n",
              "      <td>0.114481</td>\n",
              "      <td>0.098142</td>\n",
              "      <td>40.606701</td>\n",
              "      <td>t</td>\n",
              "      <td>0.00</td>\n",
              "      <td>25.44</td>\n",
              "      <td>25.44</td>\n",
              "      <td>2</td>\n",
              "      <td>678.99</td>\n",
              "      <td>3</td>\n",
              "      <td>4</td>\n",
              "      <td>43.648</td>\n",
              "      <td>1</td>\n",
              "      <td>2013</td>\n",
              "      <td>2016</td>\n",
              "    </tr>\n",
              "    <tr>\n",
              "      <th>1</th>\n",
              "      <td>d29c2c54acc38ff3c0614d0a653813dd</td>\n",
              "      <td>0</td>\n",
              "      <td>4660</td>\n",
              "      <td>0</td>\n",
              "      <td>0</td>\n",
              "      <td>2009-08-21</td>\n",
              "      <td>2016-08-30</td>\n",
              "      <td>2009-08-21</td>\n",
              "      <td>2015-08-31</td>\n",
              "      <td>189.95</td>\n",
              "      <td>0</td>\n",
              "      <td>0</td>\n",
              "      <td>16.27</td>\n",
              "      <td>0.145711</td>\n",
              "      <td>0.000000</td>\n",
              "      <td>44.311378</td>\n",
              "      <td>f</td>\n",
              "      <td>0.00</td>\n",
              "      <td>16.38</td>\n",
              "      <td>16.38</td>\n",
              "      <td>1</td>\n",
              "      <td>18.89</td>\n",
              "      <td>6</td>\n",
              "      <td>2</td>\n",
              "      <td>13.800</td>\n",
              "      <td>0</td>\n",
              "      <td>2009</td>\n",
              "      <td>2016</td>\n",
              "    </tr>\n",
              "    <tr>\n",
              "      <th>2</th>\n",
              "      <td>764c75f661154dac3a6c254cd082ea7d</td>\n",
              "      <td>4</td>\n",
              "      <td>544</td>\n",
              "      <td>0</td>\n",
              "      <td>0</td>\n",
              "      <td>2010-04-16</td>\n",
              "      <td>2016-04-16</td>\n",
              "      <td>2010-04-16</td>\n",
              "      <td>2015-04-17</td>\n",
              "      <td>47.96</td>\n",
              "      <td>0</td>\n",
              "      <td>0</td>\n",
              "      <td>38.72</td>\n",
              "      <td>0.165794</td>\n",
              "      <td>0.087899</td>\n",
              "      <td>44.311378</td>\n",
              "      <td>f</td>\n",
              "      <td>0.00</td>\n",
              "      <td>28.60</td>\n",
              "      <td>28.60</td>\n",
              "      <td>1</td>\n",
              "      <td>6.60</td>\n",
              "      <td>6</td>\n",
              "      <td>2</td>\n",
              "      <td>13.856</td>\n",
              "      <td>0</td>\n",
              "      <td>2010</td>\n",
              "      <td>2016</td>\n",
              "    </tr>\n",
              "    <tr>\n",
              "      <th>3</th>\n",
              "      <td>bba03439a292a1e166f80264c16191cb</td>\n",
              "      <td>5</td>\n",
              "      <td>1584</td>\n",
              "      <td>0</td>\n",
              "      <td>0</td>\n",
              "      <td>2010-03-30</td>\n",
              "      <td>2016-03-30</td>\n",
              "      <td>2010-03-30</td>\n",
              "      <td>2015-03-31</td>\n",
              "      <td>240.04</td>\n",
              "      <td>0</td>\n",
              "      <td>0</td>\n",
              "      <td>19.83</td>\n",
              "      <td>0.146694</td>\n",
              "      <td>0.000000</td>\n",
              "      <td>44.311378</td>\n",
              "      <td>f</td>\n",
              "      <td>0.00</td>\n",
              "      <td>30.22</td>\n",
              "      <td>30.22</td>\n",
              "      <td>1</td>\n",
              "      <td>25.46</td>\n",
              "      <td>6</td>\n",
              "      <td>2</td>\n",
              "      <td>13.200</td>\n",
              "      <td>0</td>\n",
              "      <td>2010</td>\n",
              "      <td>2016</td>\n",
              "    </tr>\n",
              "    <tr>\n",
              "      <th>4</th>\n",
              "      <td>149d57cf92fc41cf94415803a877cb4b</td>\n",
              "      <td>0</td>\n",
              "      <td>4425</td>\n",
              "      <td>0</td>\n",
              "      <td>526</td>\n",
              "      <td>2010-01-13</td>\n",
              "      <td>2016-07-03</td>\n",
              "      <td>2010-01-13</td>\n",
              "      <td>2015-09-03</td>\n",
              "      <td>445.75</td>\n",
              "      <td>526</td>\n",
              "      <td>0</td>\n",
              "      <td>131.73</td>\n",
              "      <td>0.116900</td>\n",
              "      <td>0.100015</td>\n",
              "      <td>40.606701</td>\n",
              "      <td>f</td>\n",
              "      <td>52.32</td>\n",
              "      <td>44.91</td>\n",
              "      <td>44.91</td>\n",
              "      <td>1</td>\n",
              "      <td>47.98</td>\n",
              "      <td>6</td>\n",
              "      <td>2</td>\n",
              "      <td>19.800</td>\n",
              "      <td>0</td>\n",
              "      <td>2010</td>\n",
              "      <td>2016</td>\n",
              "    </tr>\n",
              "    <tr>\n",
              "      <th>5</th>\n",
              "      <td>1aa498825382410b098937d65c4ec26d</td>\n",
              "      <td>7</td>\n",
              "      <td>8302</td>\n",
              "      <td>0</td>\n",
              "      <td>1998</td>\n",
              "      <td>2011-09-12</td>\n",
              "      <td>2016-09-12</td>\n",
              "      <td>2015-01-11</td>\n",
              "      <td>2015-10-12</td>\n",
              "      <td>796.94</td>\n",
              "      <td>1998</td>\n",
              "      <td>0</td>\n",
              "      <td>30.12</td>\n",
              "      <td>0.164775</td>\n",
              "      <td>0.086131</td>\n",
              "      <td>45.308378</td>\n",
              "      <td>f</td>\n",
              "      <td>181.21</td>\n",
              "      <td>33.12</td>\n",
              "      <td>33.12</td>\n",
              "      <td>1</td>\n",
              "      <td>118.89</td>\n",
              "      <td>4</td>\n",
              "      <td>4</td>\n",
              "      <td>13.200</td>\n",
              "      <td>1</td>\n",
              "      <td>2011</td>\n",
              "      <td>2016</td>\n",
              "    </tr>\n",
              "    <tr>\n",
              "      <th>6</th>\n",
              "      <td>7ab4bf4878d8f7661dfc20e9b8e18011</td>\n",
              "      <td>4</td>\n",
              "      <td>45097</td>\n",
              "      <td>0</td>\n",
              "      <td>0</td>\n",
              "      <td>2011-02-12</td>\n",
              "      <td>2016-02-12</td>\n",
              "      <td>2011-02-12</td>\n",
              "      <td>2015-03-12</td>\n",
              "      <td>8069.28</td>\n",
              "      <td>0</td>\n",
              "      <td>0</td>\n",
              "      <td>0.00</td>\n",
              "      <td>0.166178</td>\n",
              "      <td>0.087538</td>\n",
              "      <td>44.311378</td>\n",
              "      <td>f</td>\n",
              "      <td>0.00</td>\n",
              "      <td>4.04</td>\n",
              "      <td>4.04</td>\n",
              "      <td>1</td>\n",
              "      <td>346.63</td>\n",
              "      <td>4</td>\n",
              "      <td>4</td>\n",
              "      <td>15.000</td>\n",
              "      <td>1</td>\n",
              "      <td>2011</td>\n",
              "      <td>2016</td>\n",
              "    </tr>\n",
              "    <tr>\n",
              "      <th>7</th>\n",
              "      <td>01495c955be7ec5e7f3203406785aae0</td>\n",
              "      <td>4</td>\n",
              "      <td>29552</td>\n",
              "      <td>0</td>\n",
              "      <td>1260</td>\n",
              "      <td>2010-04-21</td>\n",
              "      <td>2016-04-21</td>\n",
              "      <td>2010-04-21</td>\n",
              "      <td>2015-04-22</td>\n",
              "      <td>864.73</td>\n",
              "      <td>751</td>\n",
              "      <td>0</td>\n",
              "      <td>144.49</td>\n",
              "      <td>0.115174</td>\n",
              "      <td>0.098837</td>\n",
              "      <td>40.606701</td>\n",
              "      <td>f</td>\n",
              "      <td>70.63</td>\n",
              "      <td>53.92</td>\n",
              "      <td>53.92</td>\n",
              "      <td>1</td>\n",
              "      <td>100.09</td>\n",
              "      <td>6</td>\n",
              "      <td>4</td>\n",
              "      <td>26.400</td>\n",
              "      <td>0</td>\n",
              "      <td>2010</td>\n",
              "      <td>2016</td>\n",
              "    </tr>\n",
              "    <tr>\n",
              "      <th>8</th>\n",
              "      <td>f53a254b1115634330c12c7fdbf7958a</td>\n",
              "      <td>7</td>\n",
              "      <td>2962</td>\n",
              "      <td>0</td>\n",
              "      <td>0</td>\n",
              "      <td>2011-09-23</td>\n",
              "      <td>2016-09-23</td>\n",
              "      <td>2011-09-23</td>\n",
              "      <td>2015-09-25</td>\n",
              "      <td>444.38</td>\n",
              "      <td>0</td>\n",
              "      <td>0</td>\n",
              "      <td>15.85</td>\n",
              "      <td>0.145711</td>\n",
              "      <td>0.000000</td>\n",
              "      <td>44.311378</td>\n",
              "      <td>f</td>\n",
              "      <td>0.00</td>\n",
              "      <td>12.82</td>\n",
              "      <td>12.82</td>\n",
              "      <td>1</td>\n",
              "      <td>42.59</td>\n",
              "      <td>4</td>\n",
              "      <td>2</td>\n",
              "      <td>13.200</td>\n",
              "      <td>0</td>\n",
              "      <td>2011</td>\n",
              "      <td>2016</td>\n",
              "    </tr>\n",
              "    <tr>\n",
              "      <th>9</th>\n",
              "      <td>10c1b2f97a2d2a6f10299dc213d1a370</td>\n",
              "      <td>5</td>\n",
              "      <td>26064</td>\n",
              "      <td>0</td>\n",
              "      <td>2188</td>\n",
              "      <td>2010-04-05</td>\n",
              "      <td>2016-04-05</td>\n",
              "      <td>2015-04-29</td>\n",
              "      <td>2015-05-05</td>\n",
              "      <td>2738.10</td>\n",
              "      <td>2188</td>\n",
              "      <td>0</td>\n",
              "      <td>130.43</td>\n",
              "      <td>0.115761</td>\n",
              "      <td>0.099419</td>\n",
              "      <td>40.606701</td>\n",
              "      <td>f</td>\n",
              "      <td>219.59</td>\n",
              "      <td>33.42</td>\n",
              "      <td>33.42</td>\n",
              "      <td>1</td>\n",
              "      <td>329.60</td>\n",
              "      <td>6</td>\n",
              "      <td>4</td>\n",
              "      <td>31.500</td>\n",
              "      <td>0</td>\n",
              "      <td>2010</td>\n",
              "      <td>2016</td>\n",
              "    </tr>\n",
              "  </tbody>\n",
              "</table>\n",
              "</div>\n",
              "      <button class=\"colab-df-convert\" onclick=\"convertToInteractive('df-f30ec02b-9e1f-44e7-85e1-5879298c2518')\"\n",
              "              title=\"Convert this dataframe to an interactive table.\"\n",
              "              style=\"display:none;\">\n",
              "        \n",
              "  <svg xmlns=\"http://www.w3.org/2000/svg\" height=\"24px\"viewBox=\"0 0 24 24\"\n",
              "       width=\"24px\">\n",
              "    <path d=\"M0 0h24v24H0V0z\" fill=\"none\"/>\n",
              "    <path d=\"M18.56 5.44l.94 2.06.94-2.06 2.06-.94-2.06-.94-.94-2.06-.94 2.06-2.06.94zm-11 1L8.5 8.5l.94-2.06 2.06-.94-2.06-.94L8.5 2.5l-.94 2.06-2.06.94zm10 10l.94 2.06.94-2.06 2.06-.94-2.06-.94-.94-2.06-.94 2.06-2.06.94z\"/><path d=\"M17.41 7.96l-1.37-1.37c-.4-.4-.92-.59-1.43-.59-.52 0-1.04.2-1.43.59L10.3 9.45l-7.72 7.72c-.78.78-.78 2.05 0 2.83L4 21.41c.39.39.9.59 1.41.59.51 0 1.02-.2 1.41-.59l7.78-7.78 2.81-2.81c.8-.78.8-2.07 0-2.86zM5.41 20L4 18.59l7.72-7.72 1.47 1.35L5.41 20z\"/>\n",
              "  </svg>\n",
              "      </button>\n",
              "      \n",
              "  <style>\n",
              "    .colab-df-container {\n",
              "      display:flex;\n",
              "      flex-wrap:wrap;\n",
              "      gap: 12px;\n",
              "    }\n",
              "\n",
              "    .colab-df-convert {\n",
              "      background-color: #E8F0FE;\n",
              "      border: none;\n",
              "      border-radius: 50%;\n",
              "      cursor: pointer;\n",
              "      display: none;\n",
              "      fill: #1967D2;\n",
              "      height: 32px;\n",
              "      padding: 0 0 0 0;\n",
              "      width: 32px;\n",
              "    }\n",
              "\n",
              "    .colab-df-convert:hover {\n",
              "      background-color: #E2EBFA;\n",
              "      box-shadow: 0px 1px 2px rgba(60, 64, 67, 0.3), 0px 1px 3px 1px rgba(60, 64, 67, 0.15);\n",
              "      fill: #174EA6;\n",
              "    }\n",
              "\n",
              "    [theme=dark] .colab-df-convert {\n",
              "      background-color: #3B4455;\n",
              "      fill: #D2E3FC;\n",
              "    }\n",
              "\n",
              "    [theme=dark] .colab-df-convert:hover {\n",
              "      background-color: #434B5C;\n",
              "      box-shadow: 0px 1px 3px 1px rgba(0, 0, 0, 0.15);\n",
              "      filter: drop-shadow(0px 1px 2px rgba(0, 0, 0, 0.3));\n",
              "      fill: #FFFFFF;\n",
              "    }\n",
              "  </style>\n",
              "\n",
              "      <script>\n",
              "        const buttonEl =\n",
              "          document.querySelector('#df-f30ec02b-9e1f-44e7-85e1-5879298c2518 button.colab-df-convert');\n",
              "        buttonEl.style.display =\n",
              "          google.colab.kernel.accessAllowed ? 'block' : 'none';\n",
              "\n",
              "        async function convertToInteractive(key) {\n",
              "          const element = document.querySelector('#df-f30ec02b-9e1f-44e7-85e1-5879298c2518');\n",
              "          const dataTable =\n",
              "            await google.colab.kernel.invokeFunction('convertToInteractive',\n",
              "                                                     [key], {});\n",
              "          if (!dataTable) return;\n",
              "\n",
              "          const docLinkHtml = 'Like what you see? Visit the ' +\n",
              "            '<a target=\"_blank\" href=https://colab.research.google.com/notebooks/data_table.ipynb>data table notebook</a>'\n",
              "            + ' to learn more about interactive tables.';\n",
              "          element.innerHTML = '';\n",
              "          dataTable['output_type'] = 'display_data';\n",
              "          await google.colab.output.renderOutput(dataTable, element);\n",
              "          const docLink = document.createElement('div');\n",
              "          docLink.innerHTML = docLinkHtml;\n",
              "          element.appendChild(docLink);\n",
              "        }\n",
              "      </script>\n",
              "    </div>\n",
              "  </div>\n",
              "  "
            ]
          },
          "metadata": {},
          "execution_count": 13
        }
      ]
    },
    {
      "cell_type": "code",
      "source": [
        "numerical_features = [feature for feature in client_df.columns if client_df[feature].dtype != 'O']\n",
        "discrete_features = [feature for feature in numerical_features if len(client_df[feature].unique())<=15]\n",
        "continuous_features = [feature for feature in numerical_features if feature not in discrete_features +['id']]"
      ],
      "metadata": {
        "id": "w7wDbRDTRIjh"
      },
      "execution_count": null,
      "outputs": []
    },
    {
      "cell_type": "code",
      "source": [
        "attrition_count = client_df['churn'].value_counts()\n",
        "print('Total Number of Churned Customers:\\n', attrition_count)"
      ],
      "metadata": {
        "colab": {
          "base_uri": "https://localhost:8080/"
        },
        "id": "tgJN_sK34geE",
        "outputId": "3cdac270-d9ff-4b53-be97-838d181c27ee"
      },
      "execution_count": null,
      "outputs": [
        {
          "output_type": "stream",
          "name": "stdout",
          "text": [
            "Total Number of Churned Customers:\n",
            " 0    13187\n",
            "1     1419\n",
            "Name: churn, dtype: int64\n"
          ]
        }
      ]
    },
    {
      "cell_type": "code",
      "source": [
        "attrition_rate = client_df['churn'].value_counts() / client_df.shape[0] * 100\n",
        "print('Attrition rate: \\n', attrition_rate)"
      ],
      "metadata": {
        "colab": {
          "base_uri": "https://localhost:8080/"
        },
        "id": "CTQ7ZPIgRyMy",
        "outputId": "c374d2c5-fe89-4b48-95eb-2c4e82a21d76"
      },
      "execution_count": null,
      "outputs": [
        {
          "output_type": "stream",
          "name": "stdout",
          "text": [
            "Attrition rate: \n",
            " 0    90.284814\n",
            "1     9.715186\n",
            "Name: churn, dtype: float64\n"
          ]
        }
      ]
    },
    {
      "cell_type": "markdown",
      "source": [
        "Customer retention is 90% in the last 3 months\n",
        "Customer attrition is 10% in the last 3 months\n"
      ],
      "metadata": {
        "id": "6HDyKYwL4Y_I"
      }
    },
    {
      "cell_type": "code",
      "source": [
        "# load price data\n",
        "price_df = pd.read_csv('/content/price_data.csv')"
      ],
      "metadata": {
        "id": "LIOq8lLdVn6F"
      },
      "execution_count": null,
      "outputs": []
    },
    {
      "cell_type": "code",
      "source": [
        "price_df.head(10)"
      ],
      "metadata": {
        "colab": {
          "base_uri": "https://localhost:8080/",
          "height": 427
        },
        "id": "M_scqOYdV_oI",
        "outputId": "61379e0c-49a8-4054-f817-a3979e34ab46"
      },
      "execution_count": null,
      "outputs": [
        {
          "output_type": "execute_result",
          "data": {
            "text/plain": [
              "                                 id  price_date  price_off_peak_var  \\\n",
              "0  038af19179925da21a25619c5a24b745  2015-01-01            0.151367   \n",
              "1  038af19179925da21a25619c5a24b745  2015-02-01            0.151367   \n",
              "2  038af19179925da21a25619c5a24b745  2015-03-01            0.151367   \n",
              "3  038af19179925da21a25619c5a24b745  2015-04-01            0.149626   \n",
              "4  038af19179925da21a25619c5a24b745  2015-05-01            0.149626   \n",
              "5  038af19179925da21a25619c5a24b745  2015-06-01            0.149626   \n",
              "6  038af19179925da21a25619c5a24b745  2015-07-01            0.150321   \n",
              "7  038af19179925da21a25619c5a24b745  2015-08-01            0.145859   \n",
              "8  038af19179925da21a25619c5a24b745  2015-09-01            0.145859   \n",
              "9  038af19179925da21a25619c5a24b745  2015-10-01            0.145859   \n",
              "\n",
              "   price_peak_var  price_mid_peak_var  price_off_peak_fix  price_peak_fix  \\\n",
              "0             0.0                 0.0           44.266931             0.0   \n",
              "1             0.0                 0.0           44.266931             0.0   \n",
              "2             0.0                 0.0           44.266931             0.0   \n",
              "3             0.0                 0.0           44.266931             0.0   \n",
              "4             0.0                 0.0           44.266931             0.0   \n",
              "5             0.0                 0.0           44.266930             0.0   \n",
              "6             0.0                 0.0           44.444710             0.0   \n",
              "7             0.0                 0.0           44.444710             0.0   \n",
              "8             0.0                 0.0           44.444710             0.0   \n",
              "9             0.0                 0.0           44.444710             0.0   \n",
              "\n",
              "   price_mid_peak_fix  \n",
              "0                 0.0  \n",
              "1                 0.0  \n",
              "2                 0.0  \n",
              "3                 0.0  \n",
              "4                 0.0  \n",
              "5                 0.0  \n",
              "6                 0.0  \n",
              "7                 0.0  \n",
              "8                 0.0  \n",
              "9                 0.0  "
            ],
            "text/html": [
              "\n",
              "  <div id=\"df-dfb7f040-b677-4a39-b2ef-b98cd5840f5f\">\n",
              "    <div class=\"colab-df-container\">\n",
              "      <div>\n",
              "<style scoped>\n",
              "    .dataframe tbody tr th:only-of-type {\n",
              "        vertical-align: middle;\n",
              "    }\n",
              "\n",
              "    .dataframe tbody tr th {\n",
              "        vertical-align: top;\n",
              "    }\n",
              "\n",
              "    .dataframe thead th {\n",
              "        text-align: right;\n",
              "    }\n",
              "</style>\n",
              "<table border=\"1\" class=\"dataframe\">\n",
              "  <thead>\n",
              "    <tr style=\"text-align: right;\">\n",
              "      <th></th>\n",
              "      <th>id</th>\n",
              "      <th>price_date</th>\n",
              "      <th>price_off_peak_var</th>\n",
              "      <th>price_peak_var</th>\n",
              "      <th>price_mid_peak_var</th>\n",
              "      <th>price_off_peak_fix</th>\n",
              "      <th>price_peak_fix</th>\n",
              "      <th>price_mid_peak_fix</th>\n",
              "    </tr>\n",
              "  </thead>\n",
              "  <tbody>\n",
              "    <tr>\n",
              "      <th>0</th>\n",
              "      <td>038af19179925da21a25619c5a24b745</td>\n",
              "      <td>2015-01-01</td>\n",
              "      <td>0.151367</td>\n",
              "      <td>0.0</td>\n",
              "      <td>0.0</td>\n",
              "      <td>44.266931</td>\n",
              "      <td>0.0</td>\n",
              "      <td>0.0</td>\n",
              "    </tr>\n",
              "    <tr>\n",
              "      <th>1</th>\n",
              "      <td>038af19179925da21a25619c5a24b745</td>\n",
              "      <td>2015-02-01</td>\n",
              "      <td>0.151367</td>\n",
              "      <td>0.0</td>\n",
              "      <td>0.0</td>\n",
              "      <td>44.266931</td>\n",
              "      <td>0.0</td>\n",
              "      <td>0.0</td>\n",
              "    </tr>\n",
              "    <tr>\n",
              "      <th>2</th>\n",
              "      <td>038af19179925da21a25619c5a24b745</td>\n",
              "      <td>2015-03-01</td>\n",
              "      <td>0.151367</td>\n",
              "      <td>0.0</td>\n",
              "      <td>0.0</td>\n",
              "      <td>44.266931</td>\n",
              "      <td>0.0</td>\n",
              "      <td>0.0</td>\n",
              "    </tr>\n",
              "    <tr>\n",
              "      <th>3</th>\n",
              "      <td>038af19179925da21a25619c5a24b745</td>\n",
              "      <td>2015-04-01</td>\n",
              "      <td>0.149626</td>\n",
              "      <td>0.0</td>\n",
              "      <td>0.0</td>\n",
              "      <td>44.266931</td>\n",
              "      <td>0.0</td>\n",
              "      <td>0.0</td>\n",
              "    </tr>\n",
              "    <tr>\n",
              "      <th>4</th>\n",
              "      <td>038af19179925da21a25619c5a24b745</td>\n",
              "      <td>2015-05-01</td>\n",
              "      <td>0.149626</td>\n",
              "      <td>0.0</td>\n",
              "      <td>0.0</td>\n",
              "      <td>44.266931</td>\n",
              "      <td>0.0</td>\n",
              "      <td>0.0</td>\n",
              "    </tr>\n",
              "    <tr>\n",
              "      <th>5</th>\n",
              "      <td>038af19179925da21a25619c5a24b745</td>\n",
              "      <td>2015-06-01</td>\n",
              "      <td>0.149626</td>\n",
              "      <td>0.0</td>\n",
              "      <td>0.0</td>\n",
              "      <td>44.266930</td>\n",
              "      <td>0.0</td>\n",
              "      <td>0.0</td>\n",
              "    </tr>\n",
              "    <tr>\n",
              "      <th>6</th>\n",
              "      <td>038af19179925da21a25619c5a24b745</td>\n",
              "      <td>2015-07-01</td>\n",
              "      <td>0.150321</td>\n",
              "      <td>0.0</td>\n",
              "      <td>0.0</td>\n",
              "      <td>44.444710</td>\n",
              "      <td>0.0</td>\n",
              "      <td>0.0</td>\n",
              "    </tr>\n",
              "    <tr>\n",
              "      <th>7</th>\n",
              "      <td>038af19179925da21a25619c5a24b745</td>\n",
              "      <td>2015-08-01</td>\n",
              "      <td>0.145859</td>\n",
              "      <td>0.0</td>\n",
              "      <td>0.0</td>\n",
              "      <td>44.444710</td>\n",
              "      <td>0.0</td>\n",
              "      <td>0.0</td>\n",
              "    </tr>\n",
              "    <tr>\n",
              "      <th>8</th>\n",
              "      <td>038af19179925da21a25619c5a24b745</td>\n",
              "      <td>2015-09-01</td>\n",
              "      <td>0.145859</td>\n",
              "      <td>0.0</td>\n",
              "      <td>0.0</td>\n",
              "      <td>44.444710</td>\n",
              "      <td>0.0</td>\n",
              "      <td>0.0</td>\n",
              "    </tr>\n",
              "    <tr>\n",
              "      <th>9</th>\n",
              "      <td>038af19179925da21a25619c5a24b745</td>\n",
              "      <td>2015-10-01</td>\n",
              "      <td>0.145859</td>\n",
              "      <td>0.0</td>\n",
              "      <td>0.0</td>\n",
              "      <td>44.444710</td>\n",
              "      <td>0.0</td>\n",
              "      <td>0.0</td>\n",
              "    </tr>\n",
              "  </tbody>\n",
              "</table>\n",
              "</div>\n",
              "      <button class=\"colab-df-convert\" onclick=\"convertToInteractive('df-dfb7f040-b677-4a39-b2ef-b98cd5840f5f')\"\n",
              "              title=\"Convert this dataframe to an interactive table.\"\n",
              "              style=\"display:none;\">\n",
              "        \n",
              "  <svg xmlns=\"http://www.w3.org/2000/svg\" height=\"24px\"viewBox=\"0 0 24 24\"\n",
              "       width=\"24px\">\n",
              "    <path d=\"M0 0h24v24H0V0z\" fill=\"none\"/>\n",
              "    <path d=\"M18.56 5.44l.94 2.06.94-2.06 2.06-.94-2.06-.94-.94-2.06-.94 2.06-2.06.94zm-11 1L8.5 8.5l.94-2.06 2.06-.94-2.06-.94L8.5 2.5l-.94 2.06-2.06.94zm10 10l.94 2.06.94-2.06 2.06-.94-2.06-.94-.94-2.06-.94 2.06-2.06.94z\"/><path d=\"M17.41 7.96l-1.37-1.37c-.4-.4-.92-.59-1.43-.59-.52 0-1.04.2-1.43.59L10.3 9.45l-7.72 7.72c-.78.78-.78 2.05 0 2.83L4 21.41c.39.39.9.59 1.41.59.51 0 1.02-.2 1.41-.59l7.78-7.78 2.81-2.81c.8-.78.8-2.07 0-2.86zM5.41 20L4 18.59l7.72-7.72 1.47 1.35L5.41 20z\"/>\n",
              "  </svg>\n",
              "      </button>\n",
              "      \n",
              "  <style>\n",
              "    .colab-df-container {\n",
              "      display:flex;\n",
              "      flex-wrap:wrap;\n",
              "      gap: 12px;\n",
              "    }\n",
              "\n",
              "    .colab-df-convert {\n",
              "      background-color: #E8F0FE;\n",
              "      border: none;\n",
              "      border-radius: 50%;\n",
              "      cursor: pointer;\n",
              "      display: none;\n",
              "      fill: #1967D2;\n",
              "      height: 32px;\n",
              "      padding: 0 0 0 0;\n",
              "      width: 32px;\n",
              "    }\n",
              "\n",
              "    .colab-df-convert:hover {\n",
              "      background-color: #E2EBFA;\n",
              "      box-shadow: 0px 1px 2px rgba(60, 64, 67, 0.3), 0px 1px 3px 1px rgba(60, 64, 67, 0.15);\n",
              "      fill: #174EA6;\n",
              "    }\n",
              "\n",
              "    [theme=dark] .colab-df-convert {\n",
              "      background-color: #3B4455;\n",
              "      fill: #D2E3FC;\n",
              "    }\n",
              "\n",
              "    [theme=dark] .colab-df-convert:hover {\n",
              "      background-color: #434B5C;\n",
              "      box-shadow: 0px 1px 3px 1px rgba(0, 0, 0, 0.15);\n",
              "      filter: drop-shadow(0px 1px 2px rgba(0, 0, 0, 0.3));\n",
              "      fill: #FFFFFF;\n",
              "    }\n",
              "  </style>\n",
              "\n",
              "      <script>\n",
              "        const buttonEl =\n",
              "          document.querySelector('#df-dfb7f040-b677-4a39-b2ef-b98cd5840f5f button.colab-df-convert');\n",
              "        buttonEl.style.display =\n",
              "          google.colab.kernel.accessAllowed ? 'block' : 'none';\n",
              "\n",
              "        async function convertToInteractive(key) {\n",
              "          const element = document.querySelector('#df-dfb7f040-b677-4a39-b2ef-b98cd5840f5f');\n",
              "          const dataTable =\n",
              "            await google.colab.kernel.invokeFunction('convertToInteractive',\n",
              "                                                     [key], {});\n",
              "          if (!dataTable) return;\n",
              "\n",
              "          const docLinkHtml = 'Like what you see? Visit the ' +\n",
              "            '<a target=\"_blank\" href=https://colab.research.google.com/notebooks/data_table.ipynb>data table notebook</a>'\n",
              "            + ' to learn more about interactive tables.';\n",
              "          element.innerHTML = '';\n",
              "          dataTable['output_type'] = 'display_data';\n",
              "          await google.colab.output.renderOutput(dataTable, element);\n",
              "          const docLink = document.createElement('div');\n",
              "          docLink.innerHTML = docLinkHtml;\n",
              "          element.appendChild(docLink);\n",
              "        }\n",
              "      </script>\n",
              "    </div>\n",
              "  </div>\n",
              "  "
            ]
          },
          "metadata": {},
          "execution_count": 17
        }
      ]
    },
    {
      "cell_type": "code",
      "source": [
        "price_df[price_df['price_peak_var'] != 0]"
      ],
      "metadata": {
        "colab": {
          "base_uri": "https://localhost:8080/",
          "height": 487
        },
        "id": "2QF8Q54LWB4p",
        "outputId": "1c1fa1cf-a700-47e9-8403-e119e2b6d07b"
      },
      "execution_count": null,
      "outputs": [
        {
          "output_type": "execute_result",
          "data": {
            "text/plain": [
              "                                     id  price_date  price_off_peak_var  \\\n",
              "12     31f2ce549924679a3cbb2d128ae9ea43  2015-01-01            0.125976   \n",
              "13     31f2ce549924679a3cbb2d128ae9ea43  2015-02-01            0.125976   \n",
              "14     31f2ce549924679a3cbb2d128ae9ea43  2015-03-01            0.125976   \n",
              "15     31f2ce549924679a3cbb2d128ae9ea43  2015-04-01            0.125976   \n",
              "16     31f2ce549924679a3cbb2d128ae9ea43  2015-05-01            0.124815   \n",
              "...                                 ...         ...                 ...   \n",
              "66159  bb212823ea175ca6bd8924699f9fe7b2  2015-09-01            0.116318   \n",
              "66160  bb212823ea175ca6bd8924699f9fe7b2  2015-10-01            0.116318   \n",
              "66161  bb212823ea175ca6bd8924699f9fe7b2  2015-11-01            0.116318   \n",
              "66162  bb212823ea175ca6bd8924699f9fe7b2  2015-12-01            0.116318   \n",
              "66163                      e2dffd7437e2         NaN                 NaN   \n",
              "\n",
              "       price_peak_var  price_mid_peak_var  price_off_peak_fix  price_peak_fix  \\\n",
              "12           0.103395            0.071536           40.565969       24.339581   \n",
              "13           0.103395            0.071536           40.565969       24.339581   \n",
              "14           0.103395            0.071536           40.565969       24.339581   \n",
              "15           0.103395            0.071536           40.565969       24.339581   \n",
              "16           0.102234            0.070375           40.565969       24.339581   \n",
              "...               ...                 ...                 ...             ...   \n",
              "66159        0.098633            0.072659           40.728885       24.437330   \n",
              "66160        0.098633            0.072659           40.728885       24.437330   \n",
              "66161        0.098633            0.072659           40.728885       24.437330   \n",
              "66162        0.098633            0.072659           40.728885       24.437330   \n",
              "66163             NaN                 NaN                 NaN             NaN   \n",
              "\n",
              "       price_mid_peak_fix  \n",
              "12              16.226389  \n",
              "13              16.226389  \n",
              "14              16.226389  \n",
              "15              16.226389  \n",
              "16              16.226389  \n",
              "...                   ...  \n",
              "66159           16.291555  \n",
              "66160           16.291555  \n",
              "66161           16.291555  \n",
              "66162           16.291555  \n",
              "66163                 NaN  \n",
              "\n",
              "[36221 rows x 8 columns]"
            ],
            "text/html": [
              "\n",
              "  <div id=\"df-8ec77734-6b7e-4cad-b80b-068ebf437cd2\">\n",
              "    <div class=\"colab-df-container\">\n",
              "      <div>\n",
              "<style scoped>\n",
              "    .dataframe tbody tr th:only-of-type {\n",
              "        vertical-align: middle;\n",
              "    }\n",
              "\n",
              "    .dataframe tbody tr th {\n",
              "        vertical-align: top;\n",
              "    }\n",
              "\n",
              "    .dataframe thead th {\n",
              "        text-align: right;\n",
              "    }\n",
              "</style>\n",
              "<table border=\"1\" class=\"dataframe\">\n",
              "  <thead>\n",
              "    <tr style=\"text-align: right;\">\n",
              "      <th></th>\n",
              "      <th>id</th>\n",
              "      <th>price_date</th>\n",
              "      <th>price_off_peak_var</th>\n",
              "      <th>price_peak_var</th>\n",
              "      <th>price_mid_peak_var</th>\n",
              "      <th>price_off_peak_fix</th>\n",
              "      <th>price_peak_fix</th>\n",
              "      <th>price_mid_peak_fix</th>\n",
              "    </tr>\n",
              "  </thead>\n",
              "  <tbody>\n",
              "    <tr>\n",
              "      <th>12</th>\n",
              "      <td>31f2ce549924679a3cbb2d128ae9ea43</td>\n",
              "      <td>2015-01-01</td>\n",
              "      <td>0.125976</td>\n",
              "      <td>0.103395</td>\n",
              "      <td>0.071536</td>\n",
              "      <td>40.565969</td>\n",
              "      <td>24.339581</td>\n",
              "      <td>16.226389</td>\n",
              "    </tr>\n",
              "    <tr>\n",
              "      <th>13</th>\n",
              "      <td>31f2ce549924679a3cbb2d128ae9ea43</td>\n",
              "      <td>2015-02-01</td>\n",
              "      <td>0.125976</td>\n",
              "      <td>0.103395</td>\n",
              "      <td>0.071536</td>\n",
              "      <td>40.565969</td>\n",
              "      <td>24.339581</td>\n",
              "      <td>16.226389</td>\n",
              "    </tr>\n",
              "    <tr>\n",
              "      <th>14</th>\n",
              "      <td>31f2ce549924679a3cbb2d128ae9ea43</td>\n",
              "      <td>2015-03-01</td>\n",
              "      <td>0.125976</td>\n",
              "      <td>0.103395</td>\n",
              "      <td>0.071536</td>\n",
              "      <td>40.565969</td>\n",
              "      <td>24.339581</td>\n",
              "      <td>16.226389</td>\n",
              "    </tr>\n",
              "    <tr>\n",
              "      <th>15</th>\n",
              "      <td>31f2ce549924679a3cbb2d128ae9ea43</td>\n",
              "      <td>2015-04-01</td>\n",
              "      <td>0.125976</td>\n",
              "      <td>0.103395</td>\n",
              "      <td>0.071536</td>\n",
              "      <td>40.565969</td>\n",
              "      <td>24.339581</td>\n",
              "      <td>16.226389</td>\n",
              "    </tr>\n",
              "    <tr>\n",
              "      <th>16</th>\n",
              "      <td>31f2ce549924679a3cbb2d128ae9ea43</td>\n",
              "      <td>2015-05-01</td>\n",
              "      <td>0.124815</td>\n",
              "      <td>0.102234</td>\n",
              "      <td>0.070375</td>\n",
              "      <td>40.565969</td>\n",
              "      <td>24.339581</td>\n",
              "      <td>16.226389</td>\n",
              "    </tr>\n",
              "    <tr>\n",
              "      <th>...</th>\n",
              "      <td>...</td>\n",
              "      <td>...</td>\n",
              "      <td>...</td>\n",
              "      <td>...</td>\n",
              "      <td>...</td>\n",
              "      <td>...</td>\n",
              "      <td>...</td>\n",
              "      <td>...</td>\n",
              "    </tr>\n",
              "    <tr>\n",
              "      <th>66159</th>\n",
              "      <td>bb212823ea175ca6bd8924699f9fe7b2</td>\n",
              "      <td>2015-09-01</td>\n",
              "      <td>0.116318</td>\n",
              "      <td>0.098633</td>\n",
              "      <td>0.072659</td>\n",
              "      <td>40.728885</td>\n",
              "      <td>24.437330</td>\n",
              "      <td>16.291555</td>\n",
              "    </tr>\n",
              "    <tr>\n",
              "      <th>66160</th>\n",
              "      <td>bb212823ea175ca6bd8924699f9fe7b2</td>\n",
              "      <td>2015-10-01</td>\n",
              "      <td>0.116318</td>\n",
              "      <td>0.098633</td>\n",
              "      <td>0.072659</td>\n",
              "      <td>40.728885</td>\n",
              "      <td>24.437330</td>\n",
              "      <td>16.291555</td>\n",
              "    </tr>\n",
              "    <tr>\n",
              "      <th>66161</th>\n",
              "      <td>bb212823ea175ca6bd8924699f9fe7b2</td>\n",
              "      <td>2015-11-01</td>\n",
              "      <td>0.116318</td>\n",
              "      <td>0.098633</td>\n",
              "      <td>0.072659</td>\n",
              "      <td>40.728885</td>\n",
              "      <td>24.437330</td>\n",
              "      <td>16.291555</td>\n",
              "    </tr>\n",
              "    <tr>\n",
              "      <th>66162</th>\n",
              "      <td>bb212823ea175ca6bd8924699f9fe7b2</td>\n",
              "      <td>2015-12-01</td>\n",
              "      <td>0.116318</td>\n",
              "      <td>0.098633</td>\n",
              "      <td>0.072659</td>\n",
              "      <td>40.728885</td>\n",
              "      <td>24.437330</td>\n",
              "      <td>16.291555</td>\n",
              "    </tr>\n",
              "    <tr>\n",
              "      <th>66163</th>\n",
              "      <td>e2dffd7437e2</td>\n",
              "      <td>NaN</td>\n",
              "      <td>NaN</td>\n",
              "      <td>NaN</td>\n",
              "      <td>NaN</td>\n",
              "      <td>NaN</td>\n",
              "      <td>NaN</td>\n",
              "      <td>NaN</td>\n",
              "    </tr>\n",
              "  </tbody>\n",
              "</table>\n",
              "<p>36221 rows × 8 columns</p>\n",
              "</div>\n",
              "      <button class=\"colab-df-convert\" onclick=\"convertToInteractive('df-8ec77734-6b7e-4cad-b80b-068ebf437cd2')\"\n",
              "              title=\"Convert this dataframe to an interactive table.\"\n",
              "              style=\"display:none;\">\n",
              "        \n",
              "  <svg xmlns=\"http://www.w3.org/2000/svg\" height=\"24px\"viewBox=\"0 0 24 24\"\n",
              "       width=\"24px\">\n",
              "    <path d=\"M0 0h24v24H0V0z\" fill=\"none\"/>\n",
              "    <path d=\"M18.56 5.44l.94 2.06.94-2.06 2.06-.94-2.06-.94-.94-2.06-.94 2.06-2.06.94zm-11 1L8.5 8.5l.94-2.06 2.06-.94-2.06-.94L8.5 2.5l-.94 2.06-2.06.94zm10 10l.94 2.06.94-2.06 2.06-.94-2.06-.94-.94-2.06-.94 2.06-2.06.94z\"/><path d=\"M17.41 7.96l-1.37-1.37c-.4-.4-.92-.59-1.43-.59-.52 0-1.04.2-1.43.59L10.3 9.45l-7.72 7.72c-.78.78-.78 2.05 0 2.83L4 21.41c.39.39.9.59 1.41.59.51 0 1.02-.2 1.41-.59l7.78-7.78 2.81-2.81c.8-.78.8-2.07 0-2.86zM5.41 20L4 18.59l7.72-7.72 1.47 1.35L5.41 20z\"/>\n",
              "  </svg>\n",
              "      </button>\n",
              "      \n",
              "  <style>\n",
              "    .colab-df-container {\n",
              "      display:flex;\n",
              "      flex-wrap:wrap;\n",
              "      gap: 12px;\n",
              "    }\n",
              "\n",
              "    .colab-df-convert {\n",
              "      background-color: #E8F0FE;\n",
              "      border: none;\n",
              "      border-radius: 50%;\n",
              "      cursor: pointer;\n",
              "      display: none;\n",
              "      fill: #1967D2;\n",
              "      height: 32px;\n",
              "      padding: 0 0 0 0;\n",
              "      width: 32px;\n",
              "    }\n",
              "\n",
              "    .colab-df-convert:hover {\n",
              "      background-color: #E2EBFA;\n",
              "      box-shadow: 0px 1px 2px rgba(60, 64, 67, 0.3), 0px 1px 3px 1px rgba(60, 64, 67, 0.15);\n",
              "      fill: #174EA6;\n",
              "    }\n",
              "\n",
              "    [theme=dark] .colab-df-convert {\n",
              "      background-color: #3B4455;\n",
              "      fill: #D2E3FC;\n",
              "    }\n",
              "\n",
              "    [theme=dark] .colab-df-convert:hover {\n",
              "      background-color: #434B5C;\n",
              "      box-shadow: 0px 1px 3px 1px rgba(0, 0, 0, 0.15);\n",
              "      filter: drop-shadow(0px 1px 2px rgba(0, 0, 0, 0.3));\n",
              "      fill: #FFFFFF;\n",
              "    }\n",
              "  </style>\n",
              "\n",
              "      <script>\n",
              "        const buttonEl =\n",
              "          document.querySelector('#df-8ec77734-6b7e-4cad-b80b-068ebf437cd2 button.colab-df-convert');\n",
              "        buttonEl.style.display =\n",
              "          google.colab.kernel.accessAllowed ? 'block' : 'none';\n",
              "\n",
              "        async function convertToInteractive(key) {\n",
              "          const element = document.querySelector('#df-8ec77734-6b7e-4cad-b80b-068ebf437cd2');\n",
              "          const dataTable =\n",
              "            await google.colab.kernel.invokeFunction('convertToInteractive',\n",
              "                                                     [key], {});\n",
              "          if (!dataTable) return;\n",
              "\n",
              "          const docLinkHtml = 'Like what you see? Visit the ' +\n",
              "            '<a target=\"_blank\" href=https://colab.research.google.com/notebooks/data_table.ipynb>data table notebook</a>'\n",
              "            + ' to learn more about interactive tables.';\n",
              "          element.innerHTML = '';\n",
              "          dataTable['output_type'] = 'display_data';\n",
              "          await google.colab.output.renderOutput(dataTable, element);\n",
              "          const docLink = document.createElement('div');\n",
              "          docLink.innerHTML = docLinkHtml;\n",
              "          element.appendChild(docLink);\n",
              "        }\n",
              "      </script>\n",
              "    </div>\n",
              "  </div>\n",
              "  "
            ]
          },
          "metadata": {},
          "execution_count": 18
        }
      ]
    },
    {
      "cell_type": "code",
      "source": [
        "#checking the general inofrmation\n",
        "price_df.info()"
      ],
      "metadata": {
        "colab": {
          "base_uri": "https://localhost:8080/"
        },
        "id": "BpBpVDnBWw4S",
        "outputId": "0f1bc263-1c3c-4925-c1f7-a801dd3289d4"
      },
      "execution_count": null,
      "outputs": [
        {
          "output_type": "stream",
          "name": "stdout",
          "text": [
            "<class 'pandas.core.frame.DataFrame'>\n",
            "RangeIndex: 66164 entries, 0 to 66163\n",
            "Data columns (total 8 columns):\n",
            " #   Column              Non-Null Count  Dtype  \n",
            "---  ------              --------------  -----  \n",
            " 0   id                  66164 non-null  object \n",
            " 1   price_date          66163 non-null  object \n",
            " 2   price_off_peak_var  66163 non-null  float64\n",
            " 3   price_peak_var      66163 non-null  float64\n",
            " 4   price_mid_peak_var  66163 non-null  float64\n",
            " 5   price_off_peak_fix  66163 non-null  float64\n",
            " 6   price_peak_fix      66163 non-null  float64\n",
            " 7   price_mid_peak_fix  66163 non-null  float64\n",
            "dtypes: float64(6), object(2)\n",
            "memory usage: 4.0+ MB\n"
          ]
        }
      ]
    },
    {
      "cell_type": "code",
      "source": [
        "boolean = price_df.duplicated().any()\n",
        "print(\"Any duplicate rows:\",boolean)\n",
        "\n",
        "price_df.isnull().sum()"
      ],
      "metadata": {
        "colab": {
          "base_uri": "https://localhost:8080/"
        },
        "id": "mYbUxJJ8XDQK",
        "outputId": "0a1b52a9-7ed2-41da-8dfd-6f7d4c4a729b"
      },
      "execution_count": null,
      "outputs": [
        {
          "output_type": "stream",
          "name": "stdout",
          "text": [
            "Any duplicate rows: False\n"
          ]
        },
        {
          "output_type": "execute_result",
          "data": {
            "text/plain": [
              "id                    0\n",
              "price_date            1\n",
              "price_off_peak_var    1\n",
              "price_peak_var        1\n",
              "price_mid_peak_var    1\n",
              "price_off_peak_fix    1\n",
              "price_peak_fix        1\n",
              "price_mid_peak_fix    1\n",
              "dtype: int64"
            ]
          },
          "metadata": {},
          "execution_count": 20
        }
      ]
    },
    {
      "cell_type": "markdown",
      "source": [
        "There are duplicates and 1 NaN value"
      ],
      "metadata": {
        "id": "pQIpho0FYDQQ"
      }
    },
    {
      "cell_type": "code",
      "source": [
        "price_df = price_df[price_df.duplicated(keep='last')== False]"
      ],
      "metadata": {
        "id": "4rfG_jGVX6je"
      },
      "execution_count": null,
      "outputs": []
    },
    {
      "cell_type": "code",
      "source": [
        "price_df"
      ],
      "metadata": {
        "colab": {
          "base_uri": "https://localhost:8080/",
          "height": 487
        },
        "id": "AkIK8k2BY7nx",
        "outputId": "6e6bcf8f-088a-4203-debe-9a32301ad521"
      },
      "execution_count": null,
      "outputs": [
        {
          "output_type": "execute_result",
          "data": {
            "text/plain": [
              "                                     id  price_date  price_off_peak_var  \\\n",
              "0      038af19179925da21a25619c5a24b745  2015-01-01            0.151367   \n",
              "1      038af19179925da21a25619c5a24b745  2015-02-01            0.151367   \n",
              "2      038af19179925da21a25619c5a24b745  2015-03-01            0.151367   \n",
              "3      038af19179925da21a25619c5a24b745  2015-04-01            0.149626   \n",
              "4      038af19179925da21a25619c5a24b745  2015-05-01            0.149626   \n",
              "...                                 ...         ...                 ...   \n",
              "66159  bb212823ea175ca6bd8924699f9fe7b2  2015-09-01            0.116318   \n",
              "66160  bb212823ea175ca6bd8924699f9fe7b2  2015-10-01            0.116318   \n",
              "66161  bb212823ea175ca6bd8924699f9fe7b2  2015-11-01            0.116318   \n",
              "66162  bb212823ea175ca6bd8924699f9fe7b2  2015-12-01            0.116318   \n",
              "66163                      e2dffd7437e2         NaN                 NaN   \n",
              "\n",
              "       price_peak_var  price_mid_peak_var  price_off_peak_fix  price_peak_fix  \\\n",
              "0            0.000000            0.000000           44.266931         0.00000   \n",
              "1            0.000000            0.000000           44.266931         0.00000   \n",
              "2            0.000000            0.000000           44.266931         0.00000   \n",
              "3            0.000000            0.000000           44.266931         0.00000   \n",
              "4            0.000000            0.000000           44.266931         0.00000   \n",
              "...               ...                 ...                 ...             ...   \n",
              "66159        0.098633            0.072659           40.728885        24.43733   \n",
              "66160        0.098633            0.072659           40.728885        24.43733   \n",
              "66161        0.098633            0.072659           40.728885        24.43733   \n",
              "66162        0.098633            0.072659           40.728885        24.43733   \n",
              "66163             NaN                 NaN                 NaN             NaN   \n",
              "\n",
              "       price_mid_peak_fix  \n",
              "0                0.000000  \n",
              "1                0.000000  \n",
              "2                0.000000  \n",
              "3                0.000000  \n",
              "4                0.000000  \n",
              "...                   ...  \n",
              "66159           16.291555  \n",
              "66160           16.291555  \n",
              "66161           16.291555  \n",
              "66162           16.291555  \n",
              "66163                 NaN  \n",
              "\n",
              "[66164 rows x 8 columns]"
            ],
            "text/html": [
              "\n",
              "  <div id=\"df-0248ee14-246a-4b70-b852-b2704792f5eb\">\n",
              "    <div class=\"colab-df-container\">\n",
              "      <div>\n",
              "<style scoped>\n",
              "    .dataframe tbody tr th:only-of-type {\n",
              "        vertical-align: middle;\n",
              "    }\n",
              "\n",
              "    .dataframe tbody tr th {\n",
              "        vertical-align: top;\n",
              "    }\n",
              "\n",
              "    .dataframe thead th {\n",
              "        text-align: right;\n",
              "    }\n",
              "</style>\n",
              "<table border=\"1\" class=\"dataframe\">\n",
              "  <thead>\n",
              "    <tr style=\"text-align: right;\">\n",
              "      <th></th>\n",
              "      <th>id</th>\n",
              "      <th>price_date</th>\n",
              "      <th>price_off_peak_var</th>\n",
              "      <th>price_peak_var</th>\n",
              "      <th>price_mid_peak_var</th>\n",
              "      <th>price_off_peak_fix</th>\n",
              "      <th>price_peak_fix</th>\n",
              "      <th>price_mid_peak_fix</th>\n",
              "    </tr>\n",
              "  </thead>\n",
              "  <tbody>\n",
              "    <tr>\n",
              "      <th>0</th>\n",
              "      <td>038af19179925da21a25619c5a24b745</td>\n",
              "      <td>2015-01-01</td>\n",
              "      <td>0.151367</td>\n",
              "      <td>0.000000</td>\n",
              "      <td>0.000000</td>\n",
              "      <td>44.266931</td>\n",
              "      <td>0.00000</td>\n",
              "      <td>0.000000</td>\n",
              "    </tr>\n",
              "    <tr>\n",
              "      <th>1</th>\n",
              "      <td>038af19179925da21a25619c5a24b745</td>\n",
              "      <td>2015-02-01</td>\n",
              "      <td>0.151367</td>\n",
              "      <td>0.000000</td>\n",
              "      <td>0.000000</td>\n",
              "      <td>44.266931</td>\n",
              "      <td>0.00000</td>\n",
              "      <td>0.000000</td>\n",
              "    </tr>\n",
              "    <tr>\n",
              "      <th>2</th>\n",
              "      <td>038af19179925da21a25619c5a24b745</td>\n",
              "      <td>2015-03-01</td>\n",
              "      <td>0.151367</td>\n",
              "      <td>0.000000</td>\n",
              "      <td>0.000000</td>\n",
              "      <td>44.266931</td>\n",
              "      <td>0.00000</td>\n",
              "      <td>0.000000</td>\n",
              "    </tr>\n",
              "    <tr>\n",
              "      <th>3</th>\n",
              "      <td>038af19179925da21a25619c5a24b745</td>\n",
              "      <td>2015-04-01</td>\n",
              "      <td>0.149626</td>\n",
              "      <td>0.000000</td>\n",
              "      <td>0.000000</td>\n",
              "      <td>44.266931</td>\n",
              "      <td>0.00000</td>\n",
              "      <td>0.000000</td>\n",
              "    </tr>\n",
              "    <tr>\n",
              "      <th>4</th>\n",
              "      <td>038af19179925da21a25619c5a24b745</td>\n",
              "      <td>2015-05-01</td>\n",
              "      <td>0.149626</td>\n",
              "      <td>0.000000</td>\n",
              "      <td>0.000000</td>\n",
              "      <td>44.266931</td>\n",
              "      <td>0.00000</td>\n",
              "      <td>0.000000</td>\n",
              "    </tr>\n",
              "    <tr>\n",
              "      <th>...</th>\n",
              "      <td>...</td>\n",
              "      <td>...</td>\n",
              "      <td>...</td>\n",
              "      <td>...</td>\n",
              "      <td>...</td>\n",
              "      <td>...</td>\n",
              "      <td>...</td>\n",
              "      <td>...</td>\n",
              "    </tr>\n",
              "    <tr>\n",
              "      <th>66159</th>\n",
              "      <td>bb212823ea175ca6bd8924699f9fe7b2</td>\n",
              "      <td>2015-09-01</td>\n",
              "      <td>0.116318</td>\n",
              "      <td>0.098633</td>\n",
              "      <td>0.072659</td>\n",
              "      <td>40.728885</td>\n",
              "      <td>24.43733</td>\n",
              "      <td>16.291555</td>\n",
              "    </tr>\n",
              "    <tr>\n",
              "      <th>66160</th>\n",
              "      <td>bb212823ea175ca6bd8924699f9fe7b2</td>\n",
              "      <td>2015-10-01</td>\n",
              "      <td>0.116318</td>\n",
              "      <td>0.098633</td>\n",
              "      <td>0.072659</td>\n",
              "      <td>40.728885</td>\n",
              "      <td>24.43733</td>\n",
              "      <td>16.291555</td>\n",
              "    </tr>\n",
              "    <tr>\n",
              "      <th>66161</th>\n",
              "      <td>bb212823ea175ca6bd8924699f9fe7b2</td>\n",
              "      <td>2015-11-01</td>\n",
              "      <td>0.116318</td>\n",
              "      <td>0.098633</td>\n",
              "      <td>0.072659</td>\n",
              "      <td>40.728885</td>\n",
              "      <td>24.43733</td>\n",
              "      <td>16.291555</td>\n",
              "    </tr>\n",
              "    <tr>\n",
              "      <th>66162</th>\n",
              "      <td>bb212823ea175ca6bd8924699f9fe7b2</td>\n",
              "      <td>2015-12-01</td>\n",
              "      <td>0.116318</td>\n",
              "      <td>0.098633</td>\n",
              "      <td>0.072659</td>\n",
              "      <td>40.728885</td>\n",
              "      <td>24.43733</td>\n",
              "      <td>16.291555</td>\n",
              "    </tr>\n",
              "    <tr>\n",
              "      <th>66163</th>\n",
              "      <td>e2dffd7437e2</td>\n",
              "      <td>NaN</td>\n",
              "      <td>NaN</td>\n",
              "      <td>NaN</td>\n",
              "      <td>NaN</td>\n",
              "      <td>NaN</td>\n",
              "      <td>NaN</td>\n",
              "      <td>NaN</td>\n",
              "    </tr>\n",
              "  </tbody>\n",
              "</table>\n",
              "<p>66164 rows × 8 columns</p>\n",
              "</div>\n",
              "      <button class=\"colab-df-convert\" onclick=\"convertToInteractive('df-0248ee14-246a-4b70-b852-b2704792f5eb')\"\n",
              "              title=\"Convert this dataframe to an interactive table.\"\n",
              "              style=\"display:none;\">\n",
              "        \n",
              "  <svg xmlns=\"http://www.w3.org/2000/svg\" height=\"24px\"viewBox=\"0 0 24 24\"\n",
              "       width=\"24px\">\n",
              "    <path d=\"M0 0h24v24H0V0z\" fill=\"none\"/>\n",
              "    <path d=\"M18.56 5.44l.94 2.06.94-2.06 2.06-.94-2.06-.94-.94-2.06-.94 2.06-2.06.94zm-11 1L8.5 8.5l.94-2.06 2.06-.94-2.06-.94L8.5 2.5l-.94 2.06-2.06.94zm10 10l.94 2.06.94-2.06 2.06-.94-2.06-.94-.94-2.06-.94 2.06-2.06.94z\"/><path d=\"M17.41 7.96l-1.37-1.37c-.4-.4-.92-.59-1.43-.59-.52 0-1.04.2-1.43.59L10.3 9.45l-7.72 7.72c-.78.78-.78 2.05 0 2.83L4 21.41c.39.39.9.59 1.41.59.51 0 1.02-.2 1.41-.59l7.78-7.78 2.81-2.81c.8-.78.8-2.07 0-2.86zM5.41 20L4 18.59l7.72-7.72 1.47 1.35L5.41 20z\"/>\n",
              "  </svg>\n",
              "      </button>\n",
              "      \n",
              "  <style>\n",
              "    .colab-df-container {\n",
              "      display:flex;\n",
              "      flex-wrap:wrap;\n",
              "      gap: 12px;\n",
              "    }\n",
              "\n",
              "    .colab-df-convert {\n",
              "      background-color: #E8F0FE;\n",
              "      border: none;\n",
              "      border-radius: 50%;\n",
              "      cursor: pointer;\n",
              "      display: none;\n",
              "      fill: #1967D2;\n",
              "      height: 32px;\n",
              "      padding: 0 0 0 0;\n",
              "      width: 32px;\n",
              "    }\n",
              "\n",
              "    .colab-df-convert:hover {\n",
              "      background-color: #E2EBFA;\n",
              "      box-shadow: 0px 1px 2px rgba(60, 64, 67, 0.3), 0px 1px 3px 1px rgba(60, 64, 67, 0.15);\n",
              "      fill: #174EA6;\n",
              "    }\n",
              "\n",
              "    [theme=dark] .colab-df-convert {\n",
              "      background-color: #3B4455;\n",
              "      fill: #D2E3FC;\n",
              "    }\n",
              "\n",
              "    [theme=dark] .colab-df-convert:hover {\n",
              "      background-color: #434B5C;\n",
              "      box-shadow: 0px 1px 3px 1px rgba(0, 0, 0, 0.15);\n",
              "      filter: drop-shadow(0px 1px 2px rgba(0, 0, 0, 0.3));\n",
              "      fill: #FFFFFF;\n",
              "    }\n",
              "  </style>\n",
              "\n",
              "      <script>\n",
              "        const buttonEl =\n",
              "          document.querySelector('#df-0248ee14-246a-4b70-b852-b2704792f5eb button.colab-df-convert');\n",
              "        buttonEl.style.display =\n",
              "          google.colab.kernel.accessAllowed ? 'block' : 'none';\n",
              "\n",
              "        async function convertToInteractive(key) {\n",
              "          const element = document.querySelector('#df-0248ee14-246a-4b70-b852-b2704792f5eb');\n",
              "          const dataTable =\n",
              "            await google.colab.kernel.invokeFunction('convertToInteractive',\n",
              "                                                     [key], {});\n",
              "          if (!dataTable) return;\n",
              "\n",
              "          const docLinkHtml = 'Like what you see? Visit the ' +\n",
              "            '<a target=\"_blank\" href=https://colab.research.google.com/notebooks/data_table.ipynb>data table notebook</a>'\n",
              "            + ' to learn more about interactive tables.';\n",
              "          element.innerHTML = '';\n",
              "          dataTable['output_type'] = 'display_data';\n",
              "          await google.colab.output.renderOutput(dataTable, element);\n",
              "          const docLink = document.createElement('div');\n",
              "          docLink.innerHTML = docLinkHtml;\n",
              "          element.appendChild(docLink);\n",
              "        }\n",
              "      </script>\n",
              "    </div>\n",
              "  </div>\n",
              "  "
            ]
          },
          "metadata": {},
          "execution_count": 22
        }
      ]
    },
    {
      "cell_type": "code",
      "source": [
        "#convert the date time columns\n",
        "\n",
        "price_df['price_date'] = pd.to_datetime(price_df['price_date'])"
      ],
      "metadata": {
        "id": "7yAylsc6ZOBc"
      },
      "execution_count": null,
      "outputs": []
    },
    {
      "cell_type": "code",
      "source": [
        "# stats for price data\n",
        "\n",
        "price_df.describe()"
      ],
      "metadata": {
        "colab": {
          "base_uri": "https://localhost:8080/",
          "height": 300
        },
        "id": "7bPrYT-CZgZZ",
        "outputId": "59f93c70-36e4-40f9-e03b-7932f2ffee34"
      },
      "execution_count": null,
      "outputs": [
        {
          "output_type": "execute_result",
          "data": {
            "text/plain": [
              "       price_off_peak_var  price_peak_var  price_mid_peak_var  \\\n",
              "count        66163.000000    66163.000000        66163.000000   \n",
              "mean             0.140770        0.054527            0.031220   \n",
              "std              0.024656        0.050078            0.036463   \n",
              "min              0.000000        0.000000            0.000000   \n",
              "25%              0.125893        0.000000            0.000000   \n",
              "50%              0.145749        0.085483            0.000000   \n",
              "75%              0.151367        0.101864            0.072846   \n",
              "max              0.280700        0.181480            0.114102   \n",
              "\n",
              "       price_off_peak_fix  price_peak_fix  price_mid_peak_fix  \n",
              "count        66163.000000    66163.000000        66163.000000  \n",
              "mean            43.330628       10.845027            6.557285  \n",
              "std              5.299517       12.866952            7.804339  \n",
              "min              0.000000        0.000000            0.000000  \n",
              "25%             40.728885        0.000000            0.000000  \n",
              "50%             44.266930        0.000000            0.000000  \n",
              "75%             44.444710       24.339581           16.226389  \n",
              "max             59.444710       36.490692           17.458221  "
            ],
            "text/html": [
              "\n",
              "  <div id=\"df-d0206e39-bd63-4402-b151-59e6586cb4ba\">\n",
              "    <div class=\"colab-df-container\">\n",
              "      <div>\n",
              "<style scoped>\n",
              "    .dataframe tbody tr th:only-of-type {\n",
              "        vertical-align: middle;\n",
              "    }\n",
              "\n",
              "    .dataframe tbody tr th {\n",
              "        vertical-align: top;\n",
              "    }\n",
              "\n",
              "    .dataframe thead th {\n",
              "        text-align: right;\n",
              "    }\n",
              "</style>\n",
              "<table border=\"1\" class=\"dataframe\">\n",
              "  <thead>\n",
              "    <tr style=\"text-align: right;\">\n",
              "      <th></th>\n",
              "      <th>price_off_peak_var</th>\n",
              "      <th>price_peak_var</th>\n",
              "      <th>price_mid_peak_var</th>\n",
              "      <th>price_off_peak_fix</th>\n",
              "      <th>price_peak_fix</th>\n",
              "      <th>price_mid_peak_fix</th>\n",
              "    </tr>\n",
              "  </thead>\n",
              "  <tbody>\n",
              "    <tr>\n",
              "      <th>count</th>\n",
              "      <td>66163.000000</td>\n",
              "      <td>66163.000000</td>\n",
              "      <td>66163.000000</td>\n",
              "      <td>66163.000000</td>\n",
              "      <td>66163.000000</td>\n",
              "      <td>66163.000000</td>\n",
              "    </tr>\n",
              "    <tr>\n",
              "      <th>mean</th>\n",
              "      <td>0.140770</td>\n",
              "      <td>0.054527</td>\n",
              "      <td>0.031220</td>\n",
              "      <td>43.330628</td>\n",
              "      <td>10.845027</td>\n",
              "      <td>6.557285</td>\n",
              "    </tr>\n",
              "    <tr>\n",
              "      <th>std</th>\n",
              "      <td>0.024656</td>\n",
              "      <td>0.050078</td>\n",
              "      <td>0.036463</td>\n",
              "      <td>5.299517</td>\n",
              "      <td>12.866952</td>\n",
              "      <td>7.804339</td>\n",
              "    </tr>\n",
              "    <tr>\n",
              "      <th>min</th>\n",
              "      <td>0.000000</td>\n",
              "      <td>0.000000</td>\n",
              "      <td>0.000000</td>\n",
              "      <td>0.000000</td>\n",
              "      <td>0.000000</td>\n",
              "      <td>0.000000</td>\n",
              "    </tr>\n",
              "    <tr>\n",
              "      <th>25%</th>\n",
              "      <td>0.125893</td>\n",
              "      <td>0.000000</td>\n",
              "      <td>0.000000</td>\n",
              "      <td>40.728885</td>\n",
              "      <td>0.000000</td>\n",
              "      <td>0.000000</td>\n",
              "    </tr>\n",
              "    <tr>\n",
              "      <th>50%</th>\n",
              "      <td>0.145749</td>\n",
              "      <td>0.085483</td>\n",
              "      <td>0.000000</td>\n",
              "      <td>44.266930</td>\n",
              "      <td>0.000000</td>\n",
              "      <td>0.000000</td>\n",
              "    </tr>\n",
              "    <tr>\n",
              "      <th>75%</th>\n",
              "      <td>0.151367</td>\n",
              "      <td>0.101864</td>\n",
              "      <td>0.072846</td>\n",
              "      <td>44.444710</td>\n",
              "      <td>24.339581</td>\n",
              "      <td>16.226389</td>\n",
              "    </tr>\n",
              "    <tr>\n",
              "      <th>max</th>\n",
              "      <td>0.280700</td>\n",
              "      <td>0.181480</td>\n",
              "      <td>0.114102</td>\n",
              "      <td>59.444710</td>\n",
              "      <td>36.490692</td>\n",
              "      <td>17.458221</td>\n",
              "    </tr>\n",
              "  </tbody>\n",
              "</table>\n",
              "</div>\n",
              "      <button class=\"colab-df-convert\" onclick=\"convertToInteractive('df-d0206e39-bd63-4402-b151-59e6586cb4ba')\"\n",
              "              title=\"Convert this dataframe to an interactive table.\"\n",
              "              style=\"display:none;\">\n",
              "        \n",
              "  <svg xmlns=\"http://www.w3.org/2000/svg\" height=\"24px\"viewBox=\"0 0 24 24\"\n",
              "       width=\"24px\">\n",
              "    <path d=\"M0 0h24v24H0V0z\" fill=\"none\"/>\n",
              "    <path d=\"M18.56 5.44l.94 2.06.94-2.06 2.06-.94-2.06-.94-.94-2.06-.94 2.06-2.06.94zm-11 1L8.5 8.5l.94-2.06 2.06-.94-2.06-.94L8.5 2.5l-.94 2.06-2.06.94zm10 10l.94 2.06.94-2.06 2.06-.94-2.06-.94-.94-2.06-.94 2.06-2.06.94z\"/><path d=\"M17.41 7.96l-1.37-1.37c-.4-.4-.92-.59-1.43-.59-.52 0-1.04.2-1.43.59L10.3 9.45l-7.72 7.72c-.78.78-.78 2.05 0 2.83L4 21.41c.39.39.9.59 1.41.59.51 0 1.02-.2 1.41-.59l7.78-7.78 2.81-2.81c.8-.78.8-2.07 0-2.86zM5.41 20L4 18.59l7.72-7.72 1.47 1.35L5.41 20z\"/>\n",
              "  </svg>\n",
              "      </button>\n",
              "      \n",
              "  <style>\n",
              "    .colab-df-container {\n",
              "      display:flex;\n",
              "      flex-wrap:wrap;\n",
              "      gap: 12px;\n",
              "    }\n",
              "\n",
              "    .colab-df-convert {\n",
              "      background-color: #E8F0FE;\n",
              "      border: none;\n",
              "      border-radius: 50%;\n",
              "      cursor: pointer;\n",
              "      display: none;\n",
              "      fill: #1967D2;\n",
              "      height: 32px;\n",
              "      padding: 0 0 0 0;\n",
              "      width: 32px;\n",
              "    }\n",
              "\n",
              "    .colab-df-convert:hover {\n",
              "      background-color: #E2EBFA;\n",
              "      box-shadow: 0px 1px 2px rgba(60, 64, 67, 0.3), 0px 1px 3px 1px rgba(60, 64, 67, 0.15);\n",
              "      fill: #174EA6;\n",
              "    }\n",
              "\n",
              "    [theme=dark] .colab-df-convert {\n",
              "      background-color: #3B4455;\n",
              "      fill: #D2E3FC;\n",
              "    }\n",
              "\n",
              "    [theme=dark] .colab-df-convert:hover {\n",
              "      background-color: #434B5C;\n",
              "      box-shadow: 0px 1px 3px 1px rgba(0, 0, 0, 0.15);\n",
              "      filter: drop-shadow(0px 1px 2px rgba(0, 0, 0, 0.3));\n",
              "      fill: #FFFFFF;\n",
              "    }\n",
              "  </style>\n",
              "\n",
              "      <script>\n",
              "        const buttonEl =\n",
              "          document.querySelector('#df-d0206e39-bd63-4402-b151-59e6586cb4ba button.colab-df-convert');\n",
              "        buttonEl.style.display =\n",
              "          google.colab.kernel.accessAllowed ? 'block' : 'none';\n",
              "\n",
              "        async function convertToInteractive(key) {\n",
              "          const element = document.querySelector('#df-d0206e39-bd63-4402-b151-59e6586cb4ba');\n",
              "          const dataTable =\n",
              "            await google.colab.kernel.invokeFunction('convertToInteractive',\n",
              "                                                     [key], {});\n",
              "          if (!dataTable) return;\n",
              "\n",
              "          const docLinkHtml = 'Like what you see? Visit the ' +\n",
              "            '<a target=\"_blank\" href=https://colab.research.google.com/notebooks/data_table.ipynb>data table notebook</a>'\n",
              "            + ' to learn more about interactive tables.';\n",
              "          element.innerHTML = '';\n",
              "          dataTable['output_type'] = 'display_data';\n",
              "          await google.colab.output.renderOutput(dataTable, element);\n",
              "          const docLink = document.createElement('div');\n",
              "          docLink.innerHTML = docLinkHtml;\n",
              "          element.appendChild(docLink);\n",
              "        }\n",
              "      </script>\n",
              "    </div>\n",
              "  </div>\n",
              "  "
            ]
          },
          "metadata": {},
          "execution_count": 24
        }
      ]
    },
    {
      "cell_type": "markdown",
      "source": [
        "Let's visualize the data"
      ],
      "metadata": {
        "id": "-YmdHuseaFTE"
      }
    },
    {
      "cell_type": "code",
      "source": [
        "# define a function to plot bar chart to display a feature's distribution with percent labels.\n",
        "def plot_bar_chart_with_percent_label(df, target_variable, if_sort=False, gap_label_bar=0, figsize=(9,6)):\n",
        "    # prepare data\n",
        "    plot_data = df[[target_variable]].value_counts().reset_index(name='count')\n",
        "    plot_data['percent'] = plot_data['count']/plot_data['count'].sum()\n",
        "    if if_sort:\n",
        "        x_order = plot_data.sort_values(by=['percent'], ascending=False)[target_variable]\n",
        "    else:\n",
        "        x_order = plot_data.sort_values(by=[target_variable], ascending=True)[target_variable]\n",
        "    # plot\n",
        "    fig = plt.figure(figsize=figsize)\n",
        "    ax = sns.barplot(data=plot_data, x=target_variable, y='percent', order=x_order)\n",
        "    # add label\n",
        "    for p in ax.patches:\n",
        "        x = p.get_x() + p.get_width()/2\n",
        "        y = p.get_height() + gap_label_bar\n",
        "        ax.annotate(s='{:.2f}%'.format(p.get_height()*100), xy=(x, y), ha='center')\n",
        "    ax.margins(y=0.1)\n",
        "\n",
        "# plot stacked bar chart with percent label by churn\n",
        "def plot_stacked_bar_with_percent_label_by_churn(df, target_variable, if_sort=False, figsize=(12,6)):\n",
        "    plot_data = df.groupby([target_variable,'churn']).size().reset_index(name='count')\n",
        "    plot_data = plot_data.pivot(index=target_variable, columns='churn', values='count').fillna(0)\n",
        "    plot_data = plot_data.div(plot_data.sum(axis=1), axis=0)\n",
        "    if if_sort:\n",
        "        plot_data = plot_data.sort_values(by=[0])\n",
        "    ax = plot_data.plot(kind='bar', rot=False, stacked=True, figsize=figsize)\n",
        "    plt.legend(['stayed', 'churned'], loc='upper center', ncol=2)\n",
        "    # add label\n",
        "    for p in ax.patches:\n",
        "        percentage = '{:.1f}%'.format(p.get_height()*100)\n",
        "        if percentage!='0.0%':\n",
        "            x = p.get_x() + p.get_width()/2\n",
        "            y = 1 - p.get_height()/1.8\n",
        "            ax.annotate(s=percentage, xy=(x, y), ha='center')\n",
        "    ax.margins(y=0.1)"
      ],
      "metadata": {
        "id": "5qgBD71GZo2F"
      },
      "execution_count": null,
      "outputs": []
    },
    {
      "cell_type": "code",
      "source": [
        "plot_bar_chart_with_percent_label(df=client_df, target_variable='churn', gap_label_bar=0.02)"
      ],
      "metadata": {
        "colab": {
          "base_uri": "https://localhost:8080/",
          "height": 394
        },
        "id": "iwH0v7SLBvUS",
        "outputId": "be3328b6-7c7b-4567-d3f8-857ef6b095e7"
      },
      "execution_count": null,
      "outputs": [
        {
          "output_type": "display_data",
          "data": {
            "text/plain": [
              "<Figure size 648x432 with 1 Axes>"
            ],
            "image/png": "[encoded data removed]"
          },
          "metadata": {}
        }
      ]
    },
    {
      "cell_type": "markdown",
      "source": [
        "\n",
        "9.72% of the customers change their providers."
      ],
      "metadata": {
        "id": "fpmonnbCDkRN"
      }
    },
    {
      "cell_type": "code",
      "source": [
        "plot_bar_chart_with_percent_label(df=client_df, target_variable='channel_sales',if_sort=True, gap_label_bar=0.02)"
      ],
      "metadata": {
        "colab": {
          "base_uri": "https://localhost:8080/",
          "height": 394
        },
        "id": "yXSfZgSPEXks",
        "outputId": "de722b74-1c5b-4fbe-f71d-60a1b310cf83"
      },
      "execution_count": null,
      "outputs": [
        {
          "output_type": "display_data",
          "data": {
            "text/plain": [
              "<Figure size 648x432 with 1 Axes>"
            ],
            "image/png": "[encoded data removed]"
          },
          "metadata": {}
        }
      ]
    },
    {
      "cell_type": "code",
      "source": [
        "plot_stacked_bar_with_percent_label_by_churn(df =client_df, target_variable='channel_sales', if_sort=True  )"
      ],
      "metadata": {
        "colab": {
          "base_uri": "https://localhost:8080/",
          "height": 394
        },
        "id": "TUUZgsGrByyy",
        "outputId": "5cf7f37b-a16e-41d3-e349-fbeb8247d5f4"
      },
      "execution_count": null,
      "outputs": [
        {
          "output_type": "display_data",
          "data": {
            "text/plain": [
              "<Figure size 864x432 with 1 Axes>"
            ],
            "image/png": "[encoded data removed]"
          },
          "metadata": {}
        }
      ]
    },
    {
      "cell_type": "markdown",
      "source": [
        "4 sales channel is most preferred channel while 1 6 and 3 are least preferred"
      ],
      "metadata": {
        "id": "k2I_eWGkEmaO"
      }
    },
    {
      "cell_type": "code",
      "source": [
        "plot_bar_chart_with_percent_label(df=client_df, target_variable='origin_up',if_sort=True, gap_label_bar=0.02)"
      ],
      "metadata": {
        "colab": {
          "base_uri": "https://localhost:8080/",
          "height": 394
        },
        "id": "N9dbDKM6ED2-",
        "outputId": "633142b2-5e6c-42fb-abfa-2a0edc2d0e33"
      },
      "execution_count": null,
      "outputs": [
        {
          "output_type": "display_data",
          "data": {
            "text/plain": [
              "<Figure size 648x432 with 1 Axes>"
            ],
            "image/png": "[encoded data removed]"
          },
          "metadata": {}
        }
      ]
    },
    {
      "cell_type": "code",
      "source": [
        "plot_stacked_bar_with_percent_label_by_churn(df =client_df, target_variable='origin_up', if_sort=True  )"
      ],
      "metadata": {
        "colab": {
          "base_uri": "https://localhost:8080/",
          "height": 394
        },
        "id": "rReTC9XFFh8e",
        "outputId": "b7ed4f8e-e2fa-4b3d-c067-4a14cb3897e4"
      },
      "execution_count": null,
      "outputs": [
        {
          "output_type": "display_data",
          "data": {
            "text/plain": [
              "<Figure size 864x432 with 1 Axes>"
            ],
            "image/png": "[encoded data removed]"
          },
          "metadata": {}
        }
      ]
    },
    {
      "cell_type": "markdown",
      "source": [
        "code 4 of the electricity campaign is most common among the customers"
      ],
      "metadata": {
        "id": "mNEUR2PxFbql"
      }
    },
    {
      "cell_type": "code",
      "source": [
        "plot_bar_chart_with_percent_label(df=client_df, target_variable='contract_start_year', gap_label_bar=0.02)"
      ],
      "metadata": {
        "colab": {
          "base_uri": "https://localhost:8080/",
          "height": 397
        },
        "id": "_5iMxQNgGA7P",
        "outputId": "e0e71235-57b1-465d-e980-11ffdc516df5"
      },
      "execution_count": null,
      "outputs": [
        {
          "output_type": "display_data",
          "data": {
            "text/plain": [
              "<Figure size 648x432 with 1 Axes>"
            ],
            "image/png": "[encoded data removed]"
          },
          "metadata": {}
        }
      ]
    },
    {
      "cell_type": "code",
      "source": [
        "plot_stacked_bar_with_percent_label_by_churn(df=client_df, target_variable='contract_start_year',figsize=(15,6))"
      ],
      "metadata": {
        "colab": {
          "base_uri": "https://localhost:8080/",
          "height": 394
        },
        "id": "O6SxiIQdGI4i",
        "outputId": "b0231c1c-a7d2-426b-8d1b-bcec6516eaff"
      },
      "execution_count": null,
      "outputs": [
        {
          "output_type": "display_data",
          "data": {
            "text/plain": [
              "<Figure size 1080x432 with 1 Axes>"
            ],
            "image/png": "[encoded data removed]"
          },
          "metadata": {}
        }
      ]
    },
    {
      "cell_type": "markdown",
      "source": [
        "Most of the customers 2009 to 2013 and the attrition is more among the new customers"
      ],
      "metadata": {
        "id": "orBRvGjhHnyQ"
      }
    },
    {
      "cell_type": "code",
      "source": [
        "plot_bar_chart_with_percent_label(df=client_df, target_variable='num_years_antig', gap_label_bar=0.02)"
      ],
      "metadata": {
        "colab": {
          "base_uri": "https://localhost:8080/",
          "height": 394
        },
        "id": "q8aERbHMGWRz",
        "outputId": "33271ec9-0898-49cf-9877-d43b18a0ade6"
      },
      "execution_count": null,
      "outputs": [
        {
          "output_type": "display_data",
          "data": {
            "text/plain": [
              "<Figure size 648x432 with 1 Axes>"
            ],
            "image/png": "[encoded data removed]"
          },
          "metadata": {}
        }
      ]
    },
    {
      "cell_type": "markdown",
      "source": [
        "On an average customer had contract for 3 to 6 years"
      ],
      "metadata": {
        "id": "wl67nxmeKM1O"
      }
    },
    {
      "cell_type": "code",
      "source": [
        "plot_stacked_bar_with_percent_label_by_churn(df=client_df, target_variable='num_years_antig',figsize=(15,6))"
      ],
      "metadata": {
        "colab": {
          "base_uri": "https://localhost:8080/",
          "height": 394
        },
        "id": "y4bUbXlgKK-_",
        "outputId": "f92c152d-0852-4db4-cdf5-1007852ddef0"
      },
      "execution_count": null,
      "outputs": [
        {
          "output_type": "display_data",
          "data": {
            "text/plain": [
              "<Figure size 1080x432 with 1 Axes>"
            ],
            "image/png": "[encoded data removed]"
          },
          "metadata": {}
        }
      ]
    },
    {
      "cell_type": "markdown",
      "source": [
        "The attrition is more among new customers"
      ],
      "metadata": {
        "id": "vvWvD8ltKaST"
      }
    },
    {
      "cell_type": "code",
      "source": [
        "plot_bar_chart_with_percent_label(df=client_df, target_variable='forecast_discount_energy', gap_label_bar=0.02)"
      ],
      "metadata": {
        "colab": {
          "base_uri": "https://localhost:8080/",
          "height": 394
        },
        "id": "uyFzQ5SGKW8e",
        "outputId": "8b5d16a9-b561-4154-a29e-e64247f0d423"
      },
      "execution_count": null,
      "outputs": [
        {
          "output_type": "display_data",
          "data": {
            "text/plain": [
              "<Figure size 648x432 with 1 Axes>"
            ],
            "image/png": "[encoded data removed]"
          },
          "metadata": {}
        }
      ]
    },
    {
      "cell_type": "code",
      "source": [
        "plot_stacked_bar_with_percent_label_by_churn(df= client_df, target_variable='forecast_discount_energy', figsize=(15,6))"
      ],
      "metadata": {
        "colab": {
          "base_uri": "https://localhost:8080/",
          "height": 394
        },
        "id": "FghebSczLEdK",
        "outputId": "96928887-ba9f-4ee0-e756-722b64060e78"
      },
      "execution_count": null,
      "outputs": [
        {
          "output_type": "display_data",
          "data": {
            "text/plain": [
              "<Figure size 1080x432 with 1 Axes>"
            ],
            "image/png": "[encoded data removed]"
          },
          "metadata": {}
        }
      ]
    },
    {
      "cell_type": "markdown",
      "source": [
        "Most of the customers have 0 discount forcasted and even 23% discounted customers have 50% attrition"
      ],
      "metadata": {
        "id": "bm2H9rDULycU"
      }
    },
    {
      "cell_type": "code",
      "source": [
        "plot_bar_chart_with_percent_label(df= client_df, target_variable='has_gas', gap_label_bar=0.02 )"
      ],
      "metadata": {
        "colab": {
          "base_uri": "https://localhost:8080/",
          "height": 394
        },
        "id": "6HlTjtXaLbOr",
        "outputId": "6b7694ec-edd2-4b4e-b43a-8ca6340a89e1"
      },
      "execution_count": null,
      "outputs": [
        {
          "output_type": "display_data",
          "data": {
            "text/plain": [
              "<Figure size 648x432 with 1 Axes>"
            ],
            "image/png": "[encoded data removed]"
          },
          "metadata": {}
        }
      ]
    },
    {
      "cell_type": "markdown",
      "source": [
        "18.15% customer also had subribed to gas"
      ],
      "metadata": {
        "id": "wGE8vwIiO3sk"
      }
    },
    {
      "cell_type": "code",
      "source": [
        "plot_stacked_bar_with_percent_label_by_churn(df=client_df, target_variable='has_gas')"
      ],
      "metadata": {
        "colab": {
          "base_uri": "https://localhost:8080/",
          "height": 394
        },
        "id": "DoEb69V3Oo7U",
        "outputId": "18a51fc4-8376-4b9c-b300-a12756ee2128"
      },
      "execution_count": null,
      "outputs": [
        {
          "output_type": "display_data",
          "data": {
            "text/plain": [
              "<Figure size 864x432 with 1 Axes>"
            ],
            "image/png": "[encoded data removed]"
          },
          "metadata": {}
        }
      ]
    },
    {
      "cell_type": "markdown",
      "source": [
        "Customer attrition is more in customers who only has electricity subscription"
      ],
      "metadata": {
        "id": "ge0rPeGHPmNR"
      }
    },
    {
      "cell_type": "code",
      "source": [
        "plot_bar_chart_with_percent_label(df= client_df, target_variable='nb_prod_act', gap_label_bar=0.02 )"
      ],
      "metadata": {
        "colab": {
          "base_uri": "https://localhost:8080/",
          "height": 394
        },
        "id": "wVDDu1qaOuBF",
        "outputId": "3915bdb3-a722-45f6-ef5c-99ffffd7623b"
      },
      "execution_count": null,
      "outputs": [
        {
          "output_type": "display_data",
          "data": {
            "text/plain": [
              "<Figure size 648x432 with 1 Axes>"
            ],
            "image/png": "[encoded data removed]"
          },
          "metadata": {}
        }
      ]
    },
    {
      "cell_type": "markdown",
      "source": [
        "The most active services for customers is 1 and 2"
      ],
      "metadata": {
        "id": "Q923QmBXP8XW"
      }
    },
    {
      "cell_type": "code",
      "source": [
        "plot_stacked_bar_with_percent_label_by_churn(df=client_df, target_variable='nb_prod_act')"
      ],
      "metadata": {
        "colab": {
          "base_uri": "https://localhost:8080/",
          "height": 394
        },
        "id": "gUIW_fEpPzau",
        "outputId": "dd669b70-c725-4eff-a4db-e49838f1dd2e"
      },
      "execution_count": null,
      "outputs": [
        {
          "output_type": "display_data",
          "data": {
            "text/plain": [
              "<Figure size 864x432 with 1 Axes>"
            ],
            "image/png": "[encoded data removed]"
          },
          "metadata": {}
        }
      ]
    },
    {
      "cell_type": "markdown",
      "source": [
        "The lesser percent of customers churned when they are using 2 service"
      ],
      "metadata": {
        "id": "xJ1JWMjNQPU_"
      }
    },
    {
      "cell_type": "code",
      "source": [
        "continuous_features_non_date = [feature for feature in continuous_features if client_df[feature].dtype !='datetime64[ns]']"
      ],
      "metadata": {
        "id": "T_j8pnmqQGmo"
      },
      "execution_count": null,
      "outputs": []
    },
    {
      "cell_type": "code",
      "source": [
        "def plot_histogram(feature, df, if_hue = False):\n",
        "  fig = plt.figure(figsize=(20,5))\n",
        "  if if_hue:\n",
        "    ax =sns.histplot(data=df, x=feature, bins=100, hue='churn')\n",
        "  else:\n",
        "     ax =sns.histplot(data=df, x=feature, bins=100)\n"
      ],
      "metadata": {
        "id": "8_9ZkJIXRm2c"
      },
      "execution_count": null,
      "outputs": []
    },
    {
      "cell_type": "code",
      "source": [
        "for feature in continuous_features_non_date:\n",
        "  plot_histogram(feature,client_df,True)"
      ],
      "metadata": {
        "colab": {
          "base_uri": "https://localhost:8080/",
          "height": 1000
        },
        "id": "0iYYcFWlSPR0",
        "outputId": "e5176b8b-0fd9-4f2e-ee3a-4b00ec47756e"
      },
      "execution_count": null,
      "outputs": [
        {
          "output_type": "display_data",
          "data": {
            "text/plain": [
              "<Figure size 1440x360 with 1 Axes>"
            ],
            "image/png": "[encoded data removed]"
          },
          "metadata": {}
        },
        {
          "output_type": "display_data",
          "data": {
            "text/plain": [
              "<Figure size 1440x360 with 1 Axes>"
            ],
            "image/png": "[encoded data removed]"
          },
          "metadata": {}
        },
        {
          "output_type": "display_data",
          "data": {
            "text/plain": [
              "<Figure size 1440x360 with 1 Axes>"
            ],
            "image/png": "[encoded data removed]"
          },
          "metadata": {}
        },
        {
          "output_type": "display_data",
          "data": {
            "text/plain": [
              "<Figure size 1440x360 with 1 Axes>"
            ],
            "image/png": "[encoded data removed]"
          },
          "metadata": {}
        },
        {
          "output_type": "display_data",
          "data": {
            "text/plain": [
              "<Figure size 1440x360 with 1 Axes>"
            ],
            "image/png": "[encoded data removed]"
          },
          "metadata": {}
        },
        {
          "output_type": "display_data",
          "data": {
            "text/plain": [
              "<Figure size 1440x360 with 1 Axes>"
            ],
            "image/png": "[encoded data removed]"
          },
          "metadata": {}
        },
        {
          "output_type": "display_data",
          "data": {
            "text/plain": [
              "<Figure size 1440x360 with 1 Axes>"
            ],
            "image/png": "[encoded data removed]"
          },
          "metadata": {}
        },
        {
          "output_type": "display_data",
          "data": {
            "text/plain": [
              "<Figure size 1440x360 with 1 Axes>"
            ],
            "image/png": "[encoded data removed]"
          },
          "metadata": {}
        },
        {
          "output_type": "display_data",
          "data": {
            "text/plain": [
              "<Figure size 1440x360 with 1 Axes>"
            ],
            "image/png": "[encoded data removed]"
          },
          "metadata": {}
        },
        {
          "output_type": "display_data",
          "data": {
            "text/plain": [
              "<Figure size 1440x360 with 1 Axes>"
            ],
            "image/png": "[encoded data removed]"
          },
          "metadata": {}
        },
        {
          "output_type": "display_data",
          "data": {
            "text/plain": [
              "<Figure size 1440x360 with 1 Axes>"
            ],
            "image/png": "[encoded data removed]"
          },
          "metadata": {}
        },
        {
          "output_type": "display_data",
          "data": {
            "text/plain": [
              "<Figure size 1440x360 with 1 Axes>"
            ],
            "image/png": "[encoded data removed]"
          },
          "metadata": {}
        },
        {
          "output_type": "display_data",
          "data": {
            "text/plain": [
              "<Figure size 1440x360 with 1 Axes>"
            ],
            "image/png": "[encoded data removed]"
          },
          "metadata": {}
        },
        {
          "output_type": "display_data",
          "data": {
            "text/plain": [
              "<Figure size 1440x360 with 1 Axes>"
            ],
            "image/png": "[encoded data removed]"
          },
          "metadata": {}
        }
      ]
    },
    {
      "cell_type": "code",
      "source": [
        "(client_df.corr()**2)['margin_gross_pow_ele'].sort_values(ascending= False)[:5]"
      ],
      "metadata": {
        "colab": {
          "base_uri": "https://localhost:8080/"
        },
        "id": "eUkqRvCpX8x5",
        "outputId": "908c2bc9-8bb7-490d-be17-0bb44066ec2e"
      },
      "execution_count": null,
      "outputs": [
        {
          "output_type": "execute_result",
          "data": {
            "text/plain": [
              "margin_gross_pow_ele        1.000000\n",
              "margin_net_pow_ele          0.999828\n",
              "pow_max                     0.139351\n",
              "forecast_discount_energy    0.058149\n",
              "forecast_meter_rent_12m     0.033676\n",
              "Name: margin_gross_pow_ele, dtype: float64"
            ]
          },
          "metadata": {},
          "execution_count": 44
        }
      ]
    },
    {
      "cell_type": "markdown",
      "source": [
        "gross margin and net margin have same distribution and highly correlated\n",
        "Consumption have a tail in their distribution and seems there are outliers present\n",
        "while forecasted consumptions centred around some values\n",
        "All other values are also skewed"
      ],
      "metadata": {
        "id": "A14BDDlhX1KQ"
      }
    },
    {
      "cell_type": "markdown",
      "source": [
        "Visualize the price data"
      ],
      "metadata": {
        "id": "hls5XXl3ZFS7"
      }
    },
    {
      "cell_type": "code",
      "source": [
        "price_df['id'].value_counts().value_counts()"
      ],
      "metadata": {
        "colab": {
          "base_uri": "https://localhost:8080/"
        },
        "id": "gLvwaXQbWZMk",
        "outputId": "9efac410-bee1-4e34-b7db-6e66829ff46b"
      },
      "execution_count": null,
      "outputs": [
        {
          "output_type": "execute_result",
          "data": {
            "text/plain": [
              "12    5481\n",
              "11      27\n",
              "10       5\n",
              "9        4\n",
              "8        1\n",
              "1        1\n",
              "Name: id, dtype: int64"
            ]
          },
          "metadata": {},
          "execution_count": 45
        }
      ]
    },
    {
      "cell_type": "markdown",
      "source": [
        "Majority of customers have same number of price rows but a few have lesser "
      ],
      "metadata": {
        "id": "1qzLyfXE4xVu"
      }
    },
    {
      "cell_type": "code",
      "source": [
        "price_df['price_date'].value_counts()"
      ],
      "metadata": {
        "colab": {
          "base_uri": "https://localhost:8080/"
        },
        "id": "8xKFy3pWZXwh",
        "outputId": "224e3d47-23bb-404e-960a-87b88e0f60f4"
      },
      "execution_count": null,
      "outputs": [
        {
          "output_type": "execute_result",
          "data": {
            "text/plain": [
              "2015-12-01    5518\n",
              "2015-08-01    5517\n",
              "2015-07-01    5516\n",
              "2015-10-01    5515\n",
              "2015-06-01    5514\n",
              "2015-02-01    5513\n",
              "2015-04-01    5513\n",
              "2015-09-01    5513\n",
              "2015-11-01    5513\n",
              "2015-01-01    5511\n",
              "2015-05-01    5511\n",
              "2015-03-01    5509\n",
              "Name: price_date, dtype: int64"
            ]
          },
          "metadata": {},
          "execution_count": 46
        }
      ]
    },
    {
      "cell_type": "markdown",
      "source": [
        "All the customers have records for 12th and 8th month"
      ],
      "metadata": {
        "id": "FYxzS1Qi5xJ4"
      }
    },
    {
      "cell_type": "code",
      "source": [
        "price_peak_features = [feature for feature in price_df.columns if 'peak' in feature]\n",
        "for feature in price_peak_features:\n",
        "  plot_histogram(feature,price_df)"
      ],
      "metadata": {
        "colab": {
          "base_uri": "https://localhost:8080/",
          "height": 1000
        },
        "id": "3eKDLXy-5HL0",
        "outputId": "a7db27d1-b7a0-4944-efda-9c88b709fab3"
      },
      "execution_count": null,
      "outputs": [
        {
          "output_type": "display_data",
          "data": {
            "text/plain": [
              "<Figure size 1440x360 with 1 Axes>"
            ],
            "image/png": "[encoded data removed]"
          },
          "metadata": {}
        },
        {
          "output_type": "display_data",
          "data": {
            "text/plain": [
              "<Figure size 1440x360 with 1 Axes>"
            ],
            "image/png": "[encoded data removed]"
          },
          "metadata": {}
        },
        {
          "output_type": "display_data",
          "data": {
            "text/plain": [
              "<Figure size 1440x360 with 1 Axes>"
            ],
            "image/png": "[encoded data removed]"
          },
          "metadata": {}
        },
        {
          "output_type": "display_data",
          "data": {
            "text/plain": [
              "<Figure size 1440x360 with 1 Axes>"
            ],
            "image/png": "[encoded data removed]"
          },
          "metadata": {}
        },
        {
          "output_type": "display_data",
          "data": {
            "text/plain": [
              "<Figure size 1440x360 with 1 Axes>"
            ],
            "image/png": "[encoded data removed]"
          },
          "metadata": {}
        },
        {
          "output_type": "display_data",
          "data": {
            "text/plain": [
              "<Figure size 1440x360 with 1 Axes>"
            ],
            "image/png": "[encoded data removed]"
          },
          "metadata": {}
        }
      ]
    },
    {
      "cell_type": "markdown",
      "source": [
        "Most of prices in mid peak and peak are 0, would preferably use peak off prices to validate hypothesis"
      ],
      "metadata": {
        "id": "AonxvD_sFZ1k"
      }
    },
    {
      "cell_type": "code",
      "source": [
        "energy_off_peak = []\n",
        "for i in (price_df['id'].unique()):\n",
        "    x = max(price_df[price_df['id'] == i]['price_off_peak_var'])\n",
        "    y = min(price_df[price_df['id'] == i]['price_off_peak_var'])\n",
        "    c = x-y\n",
        "    energy_off_peak.append(c)\n",
        "\n",
        "energy_peak = []\n",
        "for i in (price_df['id'].unique()):\n",
        "    x = max(price_df[price_df['id'] == i]['price_peak_var'])\n",
        "    y = min(price_df[price_df['id'] == i]['price_peak_var'])\n",
        "    c = x-y\n",
        "    energy_peak.append(c)\n",
        "\n",
        "energy_mid_peak = []\n",
        "for i in (price_df['id'].unique()):\n",
        "    x = max(price_df[price_df['id'] == i]['price_mid_peak_var'])\n",
        "    y = min(price_df[price_df['id'] == i]['price_mid_peak_var'])\n",
        "    c = x-y\n",
        "    energy_mid_peak.append(c)\n",
        "\n",
        "power_off_peak = []\n",
        "for i in (price_df['id'].unique()):\n",
        "    x = max(price_df[price_df['id'] == i]['price_off_peak_fix'])\n",
        "    y = min(price_df[price_df['id'] == i]['price_off_peak_fix'])\n",
        "    c = x-y\n",
        "    power_off_peak.append(c)\n",
        "\n",
        "power_peak = []\n",
        "for i in (price_df['id'].unique()):\n",
        "    x = max(price_df[price_df['id'] == i]['price_peak_fix'])\n",
        "    y = min(price_df[price_df['id'] == i]['price_peak_fix'])\n",
        "    c = x-y\n",
        "    power_peak.append(c)\n",
        "\n",
        "power_mid_peak = []\n",
        "for i in (price_df['id'].unique()):\n",
        "    x = max(price_df[price_df['id'] == i]['price_off_peak_fix'])\n",
        "    y = min(price_df[price_df['id'] == i]['price_off_peak_fix'])\n",
        "    c = x-y\n",
        "    power_mid_peak.append(c)"
      ],
      "metadata": {
        "id": "xxfmtlT29ROh"
      },
      "execution_count": null,
      "outputs": []
    },
    {
      "cell_type": "code",
      "source": [
        "price_df['id'].unique()"
      ],
      "metadata": {
        "colab": {
          "base_uri": "https://localhost:8080/"
        },
        "id": "VIQrqxlbr_F0",
        "outputId": "48a9f436-0a51-4e41-9452-ac6ca8be9ed5"
      },
      "execution_count": null,
      "outputs": [
        {
          "output_type": "execute_result",
          "data": {
            "text/plain": [
              "array(['038af19179925da21a25619c5a24b745',\n",
              "       '31f2ce549924679a3cbb2d128ae9ea43',\n",
              "       '36b6352b4656216bfdb96f01e9a94b4e', ...,\n",
              "       '29db9155149954ce1d7ce1aeafd56fe6',\n",
              "       'bb212823ea175ca6bd8924699f9fe7b2', 'e2dffd7437e2'], dtype=object)"
            ]
          },
          "metadata": {},
          "execution_count": 50
        }
      ]
    },
    {
      "cell_type": "code",
      "source": [
        "dif_price_peaks = pd.DataFrame({ \"energy_off_peak\": energy_off_peak,\n",
        "                            \"energy_peak\": energy_peak,\n",
        "                            \"energy_mid_peak\": energy_mid_peak,\n",
        "                            \"power_off_peak\": power_off_peak,\n",
        "                            \"power_peak\": power_peak,\n",
        "                            \"power_mid_peak\": power_mid_peak,\n",
        "                            \"id\": price_df['id'].unique()})"
      ],
      "metadata": {
        "id": "t7igNdGopo3m"
      },
      "execution_count": null,
      "outputs": []
    },
    {
      "cell_type": "code",
      "source": [
        "dif_price_peaks=dif_price_peaks.dropna()"
      ],
      "metadata": {
        "id": "_dUpI0fZsG6y"
      },
      "execution_count": null,
      "outputs": []
    },
    {
      "cell_type": "code",
      "source": [
        "dif_price_peaks= dif_price_peaks.merge(client_df[['id', 'churn']], on='id', how='left')"
      ],
      "metadata": {
        "id": "jgp2MyVAsfVU"
      },
      "execution_count": null,
      "outputs": []
    },
    {
      "cell_type": "code",
      "source": [
        "dif_price_peaks.head()"
      ],
      "metadata": {
        "colab": {
          "base_uri": "https://localhost:8080/",
          "height": 206
        },
        "id": "zQDcyzIls33u",
        "outputId": "b7a7a96d-e8d8-4ebb-904d-60b9c4715e62"
      },
      "execution_count": null,
      "outputs": [
        {
          "output_type": "execute_result",
          "data": {
            "text/plain": [
              "   energy_off_peak  energy_peak  energy_mid_peak  power_off_peak  power_peak  \\\n",
              "0         0.005508     0.000000         0.000000        0.177780    0.000000   \n",
              "1         0.008161     0.004169         0.004775        0.162916    0.097749   \n",
              "2         0.010018     0.005120         0.000763        0.162916    0.097752   \n",
              "3         0.004462     0.000000         0.000000        0.177779    0.000000   \n",
              "4         0.041649     0.035524         0.031459        0.497997    0.498003   \n",
              "\n",
              "   power_mid_peak                                id  churn  \n",
              "0        0.177780  038af19179925da21a25619c5a24b745    0.0  \n",
              "1        0.162916  31f2ce549924679a3cbb2d128ae9ea43    0.0  \n",
              "2        0.162916  36b6352b4656216bfdb96f01e9a94b4e    NaN  \n",
              "3        0.177779  48f3e6e86f7a8656b2c6b6ce2763055e    0.0  \n",
              "4        0.497997  cce88c7d721430d8bd31f71ae686c91e    NaN  "
            ],
            "text/html": [
              "\n",
              "  <div id=\"df-eb9df054-0d05-46c8-8a47-9c0af9f9b9f8\">\n",
              "    <div class=\"colab-df-container\">\n",
              "      <div>\n",
              "<style scoped>\n",
              "    .dataframe tbody tr th:only-of-type {\n",
              "        vertical-align: middle;\n",
              "    }\n",
              "\n",
              "    .dataframe tbody tr th {\n",
              "        vertical-align: top;\n",
              "    }\n",
              "\n",
              "    .dataframe thead th {\n",
              "        text-align: right;\n",
              "    }\n",
              "</style>\n",
              "<table border=\"1\" class=\"dataframe\">\n",
              "  <thead>\n",
              "    <tr style=\"text-align: right;\">\n",
              "      <th></th>\n",
              "      <th>energy_off_peak</th>\n",
              "      <th>energy_peak</th>\n",
              "      <th>energy_mid_peak</th>\n",
              "      <th>power_off_peak</th>\n",
              "      <th>power_peak</th>\n",
              "      <th>power_mid_peak</th>\n",
              "      <th>id</th>\n",
              "      <th>churn</th>\n",
              "    </tr>\n",
              "  </thead>\n",
              "  <tbody>\n",
              "    <tr>\n",
              "      <th>0</th>\n",
              "      <td>0.005508</td>\n",
              "      <td>0.000000</td>\n",
              "      <td>0.000000</td>\n",
              "      <td>0.177780</td>\n",
              "      <td>0.000000</td>\n",
              "      <td>0.177780</td>\n",
              "      <td>038af19179925da21a25619c5a24b745</td>\n",
              "      <td>0.0</td>\n",
              "    </tr>\n",
              "    <tr>\n",
              "      <th>1</th>\n",
              "      <td>0.008161</td>\n",
              "      <td>0.004169</td>\n",
              "      <td>0.004775</td>\n",
              "      <td>0.162916</td>\n",
              "      <td>0.097749</td>\n",
              "      <td>0.162916</td>\n",
              "      <td>31f2ce549924679a3cbb2d128ae9ea43</td>\n",
              "      <td>0.0</td>\n",
              "    </tr>\n",
              "    <tr>\n",
              "      <th>2</th>\n",
              "      <td>0.010018</td>\n",
              "      <td>0.005120</td>\n",
              "      <td>0.000763</td>\n",
              "      <td>0.162916</td>\n",
              "      <td>0.097752</td>\n",
              "      <td>0.162916</td>\n",
              "      <td>36b6352b4656216bfdb96f01e9a94b4e</td>\n",
              "      <td>NaN</td>\n",
              "    </tr>\n",
              "    <tr>\n",
              "      <th>3</th>\n",
              "      <td>0.004462</td>\n",
              "      <td>0.000000</td>\n",
              "      <td>0.000000</td>\n",
              "      <td>0.177779</td>\n",
              "      <td>0.000000</td>\n",
              "      <td>0.177779</td>\n",
              "      <td>48f3e6e86f7a8656b2c6b6ce2763055e</td>\n",
              "      <td>0.0</td>\n",
              "    </tr>\n",
              "    <tr>\n",
              "      <th>4</th>\n",
              "      <td>0.041649</td>\n",
              "      <td>0.035524</td>\n",
              "      <td>0.031459</td>\n",
              "      <td>0.497997</td>\n",
              "      <td>0.498003</td>\n",
              "      <td>0.497997</td>\n",
              "      <td>cce88c7d721430d8bd31f71ae686c91e</td>\n",
              "      <td>NaN</td>\n",
              "    </tr>\n",
              "  </tbody>\n",
              "</table>\n",
              "</div>\n",
              "      <button class=\"colab-df-convert\" onclick=\"convertToInteractive('df-eb9df054-0d05-46c8-8a47-9c0af9f9b9f8')\"\n",
              "              title=\"Convert this dataframe to an interactive table.\"\n",
              "              style=\"display:none;\">\n",
              "        \n",
              "  <svg xmlns=\"http://www.w3.org/2000/svg\" height=\"24px\"viewBox=\"0 0 24 24\"\n",
              "       width=\"24px\">\n",
              "    <path d=\"M0 0h24v24H0V0z\" fill=\"none\"/>\n",
              "    <path d=\"M18.56 5.44l.94 2.06.94-2.06 2.06-.94-2.06-.94-.94-2.06-.94 2.06-2.06.94zm-11 1L8.5 8.5l.94-2.06 2.06-.94-2.06-.94L8.5 2.5l-.94 2.06-2.06.94zm10 10l.94 2.06.94-2.06 2.06-.94-2.06-.94-.94-2.06-.94 2.06-2.06.94z\"/><path d=\"M17.41 7.96l-1.37-1.37c-.4-.4-.92-.59-1.43-.59-.52 0-1.04.2-1.43.59L10.3 9.45l-7.72 7.72c-.78.78-.78 2.05 0 2.83L4 21.41c.39.39.9.59 1.41.59.51 0 1.02-.2 1.41-.59l7.78-7.78 2.81-2.81c.8-.78.8-2.07 0-2.86zM5.41 20L4 18.59l7.72-7.72 1.47 1.35L5.41 20z\"/>\n",
              "  </svg>\n",
              "      </button>\n",
              "      \n",
              "  <style>\n",
              "    .colab-df-container {\n",
              "      display:flex;\n",
              "      flex-wrap:wrap;\n",
              "      gap: 12px;\n",
              "    }\n",
              "\n",
              "    .colab-df-convert {\n",
              "      background-color: #E8F0FE;\n",
              "      border: none;\n",
              "      border-radius: 50%;\n",
              "      cursor: pointer;\n",
              "      display: none;\n",
              "      fill: #1967D2;\n",
              "      height: 32px;\n",
              "      padding: 0 0 0 0;\n",
              "      width: 32px;\n",
              "    }\n",
              "\n",
              "    .colab-df-convert:hover {\n",
              "      background-color: #E2EBFA;\n",
              "      box-shadow: 0px 1px 2px rgba(60, 64, 67, 0.3), 0px 1px 3px 1px rgba(60, 64, 67, 0.15);\n",
              "      fill: #174EA6;\n",
              "    }\n",
              "\n",
              "    [theme=dark] .colab-df-convert {\n",
              "      background-color: #3B4455;\n",
              "      fill: #D2E3FC;\n",
              "    }\n",
              "\n",
              "    [theme=dark] .colab-df-convert:hover {\n",
              "      background-color: #434B5C;\n",
              "      box-shadow: 0px 1px 3px 1px rgba(0, 0, 0, 0.15);\n",
              "      filter: drop-shadow(0px 1px 2px rgba(0, 0, 0, 0.3));\n",
              "      fill: #FFFFFF;\n",
              "    }\n",
              "  </style>\n",
              "\n",
              "      <script>\n",
              "        const buttonEl =\n",
              "          document.querySelector('#df-eb9df054-0d05-46c8-8a47-9c0af9f9b9f8 button.colab-df-convert');\n",
              "        buttonEl.style.display =\n",
              "          google.colab.kernel.accessAllowed ? 'block' : 'none';\n",
              "\n",
              "        async function convertToInteractive(key) {\n",
              "          const element = document.querySelector('#df-eb9df054-0d05-46c8-8a47-9c0af9f9b9f8');\n",
              "          const dataTable =\n",
              "            await google.colab.kernel.invokeFunction('convertToInteractive',\n",
              "                                                     [key], {});\n",
              "          if (!dataTable) return;\n",
              "\n",
              "          const docLinkHtml = 'Like what you see? Visit the ' +\n",
              "            '<a target=\"_blank\" href=https://colab.research.google.com/notebooks/data_table.ipynb>data table notebook</a>'\n",
              "            + ' to learn more about interactive tables.';\n",
              "          element.innerHTML = '';\n",
              "          dataTable['output_type'] = 'display_data';\n",
              "          await google.colab.output.renderOutput(dataTable, element);\n",
              "          const docLink = document.createElement('div');\n",
              "          docLink.innerHTML = docLinkHtml;\n",
              "          element.appendChild(docLink);\n",
              "        }\n",
              "      </script>\n",
              "    </div>\n",
              "  </div>\n",
              "  "
            ]
          },
          "metadata": {},
          "execution_count": 64
        }
      ]
    },
    {
      "cell_type": "code",
      "source": [
        "dif_price_peaks[dif_price_peaks['churn']==0].describe()"
      ],
      "metadata": {
        "colab": {
          "base_uri": "https://localhost:8080/",
          "height": 300
        },
        "id": "-5eZdx51tgUk",
        "outputId": "a9b87eca-35a6-45c8-a9ae-e6f844a6dd30"
      },
      "execution_count": null,
      "outputs": [
        {
          "output_type": "execute_result",
          "data": {
            "text/plain": [
              "       energy_off_peak  energy_peak  energy_mid_peak  power_off_peak  \\\n",
              "count      4491.000000  4491.000000      4491.000000     4491.000000   \n",
              "mean          0.009432     0.007136         0.003273        0.488138   \n",
              "std           0.013658     0.019129         0.013015        2.301514   \n",
              "min           0.000000     0.000000         0.000000        0.000000   \n",
              "25%           0.004462     0.000000         0.000000        0.000004   \n",
              "50%           0.006865     0.002210         0.000000        0.177779   \n",
              "75%           0.008609     0.004227         0.002322        0.177780   \n",
              "max           0.170685     0.152042         0.114102       44.444710   \n",
              "\n",
              "        power_peak  power_mid_peak   churn  \n",
              "count  4491.000000     4491.000000  4491.0  \n",
              "mean      0.769224        0.488138     0.0  \n",
              "std       4.183826        2.301514     0.0  \n",
              "min       0.000000        0.000000     0.0  \n",
              "25%       0.000000        0.000004     0.0  \n",
              "50%       0.000000        0.177779     0.0  \n",
              "75%       0.097749        0.177780     0.0  \n",
              "max      36.344726       44.444710     0.0  "
            ],
            "text/html": [
              "\n",
              "  <div id=\"df-ba65e70a-f6cb-49ec-a47f-71133aeb70c2\">\n",
              "    <div class=\"colab-df-container\">\n",
              "      <div>\n",
              "<style scoped>\n",
              "    .dataframe tbody tr th:only-of-type {\n",
              "        vertical-align: middle;\n",
              "    }\n",
              "\n",
              "    .dataframe tbody tr th {\n",
              "        vertical-align: top;\n",
              "    }\n",
              "\n",
              "    .dataframe thead th {\n",
              "        text-align: right;\n",
              "    }\n",
              "</style>\n",
              "<table border=\"1\" class=\"dataframe\">\n",
              "  <thead>\n",
              "    <tr style=\"text-align: right;\">\n",
              "      <th></th>\n",
              "      <th>energy_off_peak</th>\n",
              "      <th>energy_peak</th>\n",
              "      <th>energy_mid_peak</th>\n",
              "      <th>power_off_peak</th>\n",
              "      <th>power_peak</th>\n",
              "      <th>power_mid_peak</th>\n",
              "      <th>churn</th>\n",
              "    </tr>\n",
              "  </thead>\n",
              "  <tbody>\n",
              "    <tr>\n",
              "      <th>count</th>\n",
              "      <td>4491.000000</td>\n",
              "      <td>4491.000000</td>\n",
              "      <td>4491.000000</td>\n",
              "      <td>4491.000000</td>\n",
              "      <td>4491.000000</td>\n",
              "      <td>4491.000000</td>\n",
              "      <td>4491.0</td>\n",
              "    </tr>\n",
              "    <tr>\n",
              "      <th>mean</th>\n",
              "      <td>0.009432</td>\n",
              "      <td>0.007136</td>\n",
              "      <td>0.003273</td>\n",
              "      <td>0.488138</td>\n",
              "      <td>0.769224</td>\n",
              "      <td>0.488138</td>\n",
              "      <td>0.0</td>\n",
              "    </tr>\n",
              "    <tr>\n",
              "      <th>std</th>\n",
              "      <td>0.013658</td>\n",
              "      <td>0.019129</td>\n",
              "      <td>0.013015</td>\n",
              "      <td>2.301514</td>\n",
              "      <td>4.183826</td>\n",
              "      <td>2.301514</td>\n",
              "      <td>0.0</td>\n",
              "    </tr>\n",
              "    <tr>\n",
              "      <th>min</th>\n",
              "      <td>0.000000</td>\n",
              "      <td>0.000000</td>\n",
              "      <td>0.000000</td>\n",
              "      <td>0.000000</td>\n",
              "      <td>0.000000</td>\n",
              "      <td>0.000000</td>\n",
              "      <td>0.0</td>\n",
              "    </tr>\n",
              "    <tr>\n",
              "      <th>25%</th>\n",
              "      <td>0.004462</td>\n",
              "      <td>0.000000</td>\n",
              "      <td>0.000000</td>\n",
              "      <td>0.000004</td>\n",
              "      <td>0.000000</td>\n",
              "      <td>0.000004</td>\n",
              "      <td>0.0</td>\n",
              "    </tr>\n",
              "    <tr>\n",
              "      <th>50%</th>\n",
              "      <td>0.006865</td>\n",
              "      <td>0.002210</td>\n",
              "      <td>0.000000</td>\n",
              "      <td>0.177779</td>\n",
              "      <td>0.000000</td>\n",
              "      <td>0.177779</td>\n",
              "      <td>0.0</td>\n",
              "    </tr>\n",
              "    <tr>\n",
              "      <th>75%</th>\n",
              "      <td>0.008609</td>\n",
              "      <td>0.004227</td>\n",
              "      <td>0.002322</td>\n",
              "      <td>0.177780</td>\n",
              "      <td>0.097749</td>\n",
              "      <td>0.177780</td>\n",
              "      <td>0.0</td>\n",
              "    </tr>\n",
              "    <tr>\n",
              "      <th>max</th>\n",
              "      <td>0.170685</td>\n",
              "      <td>0.152042</td>\n",
              "      <td>0.114102</td>\n",
              "      <td>44.444710</td>\n",
              "      <td>36.344726</td>\n",
              "      <td>44.444710</td>\n",
              "      <td>0.0</td>\n",
              "    </tr>\n",
              "  </tbody>\n",
              "</table>\n",
              "</div>\n",
              "      <button class=\"colab-df-convert\" onclick=\"convertToInteractive('df-ba65e70a-f6cb-49ec-a47f-71133aeb70c2')\"\n",
              "              title=\"Convert this dataframe to an interactive table.\"\n",
              "              style=\"display:none;\">\n",
              "        \n",
              "  <svg xmlns=\"http://www.w3.org/2000/svg\" height=\"24px\"viewBox=\"0 0 24 24\"\n",
              "       width=\"24px\">\n",
              "    <path d=\"M0 0h24v24H0V0z\" fill=\"none\"/>\n",
              "    <path d=\"M18.56 5.44l.94 2.06.94-2.06 2.06-.94-2.06-.94-.94-2.06-.94 2.06-2.06.94zm-11 1L8.5 8.5l.94-2.06 2.06-.94-2.06-.94L8.5 2.5l-.94 2.06-2.06.94zm10 10l.94 2.06.94-2.06 2.06-.94-2.06-.94-.94-2.06-.94 2.06-2.06.94z\"/><path d=\"M17.41 7.96l-1.37-1.37c-.4-.4-.92-.59-1.43-.59-.52 0-1.04.2-1.43.59L10.3 9.45l-7.72 7.72c-.78.78-.78 2.05 0 2.83L4 21.41c.39.39.9.59 1.41.59.51 0 1.02-.2 1.41-.59l7.78-7.78 2.81-2.81c.8-.78.8-2.07 0-2.86zM5.41 20L4 18.59l7.72-7.72 1.47 1.35L5.41 20z\"/>\n",
              "  </svg>\n",
              "      </button>\n",
              "      \n",
              "  <style>\n",
              "    .colab-df-container {\n",
              "      display:flex;\n",
              "      flex-wrap:wrap;\n",
              "      gap: 12px;\n",
              "    }\n",
              "\n",
              "    .colab-df-convert {\n",
              "      background-color: #E8F0FE;\n",
              "      border: none;\n",
              "      border-radius: 50%;\n",
              "      cursor: pointer;\n",
              "      display: none;\n",
              "      fill: #1967D2;\n",
              "      height: 32px;\n",
              "      padding: 0 0 0 0;\n",
              "      width: 32px;\n",
              "    }\n",
              "\n",
              "    .colab-df-convert:hover {\n",
              "      background-color: #E2EBFA;\n",
              "      box-shadow: 0px 1px 2px rgba(60, 64, 67, 0.3), 0px 1px 3px 1px rgba(60, 64, 67, 0.15);\n",
              "      fill: #174EA6;\n",
              "    }\n",
              "\n",
              "    [theme=dark] .colab-df-convert {\n",
              "      background-color: #3B4455;\n",
              "      fill: #D2E3FC;\n",
              "    }\n",
              "\n",
              "    [theme=dark] .colab-df-convert:hover {\n",
              "      background-color: #434B5C;\n",
              "      box-shadow: 0px 1px 3px 1px rgba(0, 0, 0, 0.15);\n",
              "      filter: drop-shadow(0px 1px 2px rgba(0, 0, 0, 0.3));\n",
              "      fill: #FFFFFF;\n",
              "    }\n",
              "  </style>\n",
              "\n",
              "      <script>\n",
              "        const buttonEl =\n",
              "          document.querySelector('#df-ba65e70a-f6cb-49ec-a47f-71133aeb70c2 button.colab-df-convert');\n",
              "        buttonEl.style.display =\n",
              "          google.colab.kernel.accessAllowed ? 'block' : 'none';\n",
              "\n",
              "        async function convertToInteractive(key) {\n",
              "          const element = document.querySelector('#df-ba65e70a-f6cb-49ec-a47f-71133aeb70c2');\n",
              "          const dataTable =\n",
              "            await google.colab.kernel.invokeFunction('convertToInteractive',\n",
              "                                                     [key], {});\n",
              "          if (!dataTable) return;\n",
              "\n",
              "          const docLinkHtml = 'Like what you see? Visit the ' +\n",
              "            '<a target=\"_blank\" href=https://colab.research.google.com/notebooks/data_table.ipynb>data table notebook</a>'\n",
              "            + ' to learn more about interactive tables.';\n",
              "          element.innerHTML = '';\n",
              "          dataTable['output_type'] = 'display_data';\n",
              "          await google.colab.output.renderOutput(dataTable, element);\n",
              "          const docLink = document.createElement('div');\n",
              "          docLink.innerHTML = docLinkHtml;\n",
              "          element.appendChild(docLink);\n",
              "        }\n",
              "      </script>\n",
              "    </div>\n",
              "  </div>\n",
              "  "
            ]
          },
          "metadata": {},
          "execution_count": 69
        }
      ]
    },
    {
      "cell_type": "code",
      "source": [
        "dif_price_peaks[dif_price_peaks['churn']==1].describe()"
      ],
      "metadata": {
        "colab": {
          "base_uri": "https://localhost:8080/",
          "height": 300
        },
        "id": "dE52B846tooB",
        "outputId": "dd43b80a-28ff-4d70-975b-f7e057673c20"
      },
      "execution_count": null,
      "outputs": [
        {
          "output_type": "execute_result",
          "data": {
            "text/plain": [
              "       energy_off_peak  energy_peak  energy_mid_peak  power_off_peak  \\\n",
              "count       504.000000   504.000000       504.000000      504.000000   \n",
              "mean          0.010071     0.007578         0.003715        0.538128   \n",
              "std           0.013240     0.018630         0.013306        2.243889   \n",
              "min           0.001547     0.000000         0.000000        0.000000   \n",
              "25%           0.004628     0.000000         0.000000        0.000004   \n",
              "50%           0.008161     0.004169         0.000000        0.162916   \n",
              "75%           0.009528     0.004752         0.002715        0.177780   \n",
              "max           0.153838     0.108896         0.092853       40.728885   \n",
              "\n",
              "       power_peak  power_mid_peak  churn  \n",
              "count  504.000000      504.000000  504.0  \n",
              "mean     0.875739        0.538128    1.0  \n",
              "std      4.595238        2.243889    0.0  \n",
              "min      0.000000        0.000000    1.0  \n",
              "25%      0.000000        0.000004    1.0  \n",
              "50%      0.000000        0.162916    1.0  \n",
              "75%      0.097749        0.177780    1.0  \n",
              "max     36.490689       40.728885    1.0  "
            ],
            "text/html": [
              "\n",
              "  <div id=\"df-2748f320-b4c4-43eb-adc3-8cb593996d10\">\n",
              "    <div class=\"colab-df-container\">\n",
              "      <div>\n",
              "<style scoped>\n",
              "    .dataframe tbody tr th:only-of-type {\n",
              "        vertical-align: middle;\n",
              "    }\n",
              "\n",
              "    .dataframe tbody tr th {\n",
              "        vertical-align: top;\n",
              "    }\n",
              "\n",
              "    .dataframe thead th {\n",
              "        text-align: right;\n",
              "    }\n",
              "</style>\n",
              "<table border=\"1\" class=\"dataframe\">\n",
              "  <thead>\n",
              "    <tr style=\"text-align: right;\">\n",
              "      <th></th>\n",
              "      <th>energy_off_peak</th>\n",
              "      <th>energy_peak</th>\n",
              "      <th>energy_mid_peak</th>\n",
              "      <th>power_off_peak</th>\n",
              "      <th>power_peak</th>\n",
              "      <th>power_mid_peak</th>\n",
              "      <th>churn</th>\n",
              "    </tr>\n",
              "  </thead>\n",
              "  <tbody>\n",
              "    <tr>\n",
              "      <th>count</th>\n",
              "      <td>504.000000</td>\n",
              "      <td>504.000000</td>\n",
              "      <td>504.000000</td>\n",
              "      <td>504.000000</td>\n",
              "      <td>504.000000</td>\n",
              "      <td>504.000000</td>\n",
              "      <td>504.0</td>\n",
              "    </tr>\n",
              "    <tr>\n",
              "      <th>mean</th>\n",
              "      <td>0.010071</td>\n",
              "      <td>0.007578</td>\n",
              "      <td>0.003715</td>\n",
              "      <td>0.538128</td>\n",
              "      <td>0.875739</td>\n",
              "      <td>0.538128</td>\n",
              "      <td>1.0</td>\n",
              "    </tr>\n",
              "    <tr>\n",
              "      <th>std</th>\n",
              "      <td>0.013240</td>\n",
              "      <td>0.018630</td>\n",
              "      <td>0.013306</td>\n",
              "      <td>2.243889</td>\n",
              "      <td>4.595238</td>\n",
              "      <td>2.243889</td>\n",
              "      <td>0.0</td>\n",
              "    </tr>\n",
              "    <tr>\n",
              "      <th>min</th>\n",
              "      <td>0.001547</td>\n",
              "      <td>0.000000</td>\n",
              "      <td>0.000000</td>\n",
              "      <td>0.000000</td>\n",
              "      <td>0.000000</td>\n",
              "      <td>0.000000</td>\n",
              "      <td>1.0</td>\n",
              "    </tr>\n",
              "    <tr>\n",
              "      <th>25%</th>\n",
              "      <td>0.004628</td>\n",
              "      <td>0.000000</td>\n",
              "      <td>0.000000</td>\n",
              "      <td>0.000004</td>\n",
              "      <td>0.000000</td>\n",
              "      <td>0.000004</td>\n",
              "      <td>1.0</td>\n",
              "    </tr>\n",
              "    <tr>\n",
              "      <th>50%</th>\n",
              "      <td>0.008161</td>\n",
              "      <td>0.004169</td>\n",
              "      <td>0.000000</td>\n",
              "      <td>0.162916</td>\n",
              "      <td>0.000000</td>\n",
              "      <td>0.162916</td>\n",
              "      <td>1.0</td>\n",
              "    </tr>\n",
              "    <tr>\n",
              "      <th>75%</th>\n",
              "      <td>0.009528</td>\n",
              "      <td>0.004752</td>\n",
              "      <td>0.002715</td>\n",
              "      <td>0.177780</td>\n",
              "      <td>0.097749</td>\n",
              "      <td>0.177780</td>\n",
              "      <td>1.0</td>\n",
              "    </tr>\n",
              "    <tr>\n",
              "      <th>max</th>\n",
              "      <td>0.153838</td>\n",
              "      <td>0.108896</td>\n",
              "      <td>0.092853</td>\n",
              "      <td>40.728885</td>\n",
              "      <td>36.490689</td>\n",
              "      <td>40.728885</td>\n",
              "      <td>1.0</td>\n",
              "    </tr>\n",
              "  </tbody>\n",
              "</table>\n",
              "</div>\n",
              "      <button class=\"colab-df-convert\" onclick=\"convertToInteractive('df-2748f320-b4c4-43eb-adc3-8cb593996d10')\"\n",
              "              title=\"Convert this dataframe to an interactive table.\"\n",
              "              style=\"display:none;\">\n",
              "        \n",
              "  <svg xmlns=\"http://www.w3.org/2000/svg\" height=\"24px\"viewBox=\"0 0 24 24\"\n",
              "       width=\"24px\">\n",
              "    <path d=\"M0 0h24v24H0V0z\" fill=\"none\"/>\n",
              "    <path d=\"M18.56 5.44l.94 2.06.94-2.06 2.06-.94-2.06-.94-.94-2.06-.94 2.06-2.06.94zm-11 1L8.5 8.5l.94-2.06 2.06-.94-2.06-.94L8.5 2.5l-.94 2.06-2.06.94zm10 10l.94 2.06.94-2.06 2.06-.94-2.06-.94-.94-2.06-.94 2.06-2.06.94z\"/><path d=\"M17.41 7.96l-1.37-1.37c-.4-.4-.92-.59-1.43-.59-.52 0-1.04.2-1.43.59L10.3 9.45l-7.72 7.72c-.78.78-.78 2.05 0 2.83L4 21.41c.39.39.9.59 1.41.59.51 0 1.02-.2 1.41-.59l7.78-7.78 2.81-2.81c.8-.78.8-2.07 0-2.86zM5.41 20L4 18.59l7.72-7.72 1.47 1.35L5.41 20z\"/>\n",
              "  </svg>\n",
              "      </button>\n",
              "      \n",
              "  <style>\n",
              "    .colab-df-container {\n",
              "      display:flex;\n",
              "      flex-wrap:wrap;\n",
              "      gap: 12px;\n",
              "    }\n",
              "\n",
              "    .colab-df-convert {\n",
              "      background-color: #E8F0FE;\n",
              "      border: none;\n",
              "      border-radius: 50%;\n",
              "      cursor: pointer;\n",
              "      display: none;\n",
              "      fill: #1967D2;\n",
              "      height: 32px;\n",
              "      padding: 0 0 0 0;\n",
              "      width: 32px;\n",
              "    }\n",
              "\n",
              "    .colab-df-convert:hover {\n",
              "      background-color: #E2EBFA;\n",
              "      box-shadow: 0px 1px 2px rgba(60, 64, 67, 0.3), 0px 1px 3px 1px rgba(60, 64, 67, 0.15);\n",
              "      fill: #174EA6;\n",
              "    }\n",
              "\n",
              "    [theme=dark] .colab-df-convert {\n",
              "      background-color: #3B4455;\n",
              "      fill: #D2E3FC;\n",
              "    }\n",
              "\n",
              "    [theme=dark] .colab-df-convert:hover {\n",
              "      background-color: #434B5C;\n",
              "      box-shadow: 0px 1px 3px 1px rgba(0, 0, 0, 0.15);\n",
              "      filter: drop-shadow(0px 1px 2px rgba(0, 0, 0, 0.3));\n",
              "      fill: #FFFFFF;\n",
              "    }\n",
              "  </style>\n",
              "\n",
              "      <script>\n",
              "        const buttonEl =\n",
              "          document.querySelector('#df-2748f320-b4c4-43eb-adc3-8cb593996d10 button.colab-df-convert');\n",
              "        buttonEl.style.display =\n",
              "          google.colab.kernel.accessAllowed ? 'block' : 'none';\n",
              "\n",
              "        async function convertToInteractive(key) {\n",
              "          const element = document.querySelector('#df-2748f320-b4c4-43eb-adc3-8cb593996d10');\n",
              "          const dataTable =\n",
              "            await google.colab.kernel.invokeFunction('convertToInteractive',\n",
              "                                                     [key], {});\n",
              "          if (!dataTable) return;\n",
              "\n",
              "          const docLinkHtml = 'Like what you see? Visit the ' +\n",
              "            '<a target=\"_blank\" href=https://colab.research.google.com/notebooks/data_table.ipynb>data table notebook</a>'\n",
              "            + ' to learn more about interactive tables.';\n",
              "          element.innerHTML = '';\n",
              "          dataTable['output_type'] = 'display_data';\n",
              "          await google.colab.output.renderOutput(dataTable, element);\n",
              "          const docLink = document.createElement('div');\n",
              "          docLink.innerHTML = docLinkHtml;\n",
              "          element.appendChild(docLink);\n",
              "        }\n",
              "      </script>\n",
              "    </div>\n",
              "  </div>\n",
              "  "
            ]
          },
          "metadata": {},
          "execution_count": 70
        }
      ]
    },
    {
      "cell_type": "markdown",
      "source": [
        "The mean of the differences is higher for customer whi churned when compared customers who didn't.\n",
        "The difference in the price is sensitive"
      ],
      "metadata": {
        "id": "AFHjTIxKu0IA"
      }
    },
    {
      "cell_type": "code",
      "source": [
        "for feature in dif_price_peaks.columns:\n",
        "  if 'peak' in feature:\n",
        "    plot_histogram('energy_off_peak', dif_price_peaks,True)"
      ],
      "metadata": {
        "colab": {
          "base_uri": "https://localhost:8080/",
          "height": 1000
        },
        "id": "QOiQCsQtucu_",
        "outputId": "5fc9165a-3afd-45bf-e5a9-4c98598e5dcd"
      },
      "execution_count": null,
      "outputs": [
        {
          "output_type": "display_data",
          "data": {
            "text/plain": [
              "<Figure size 1440x360 with 1 Axes>"
            ],
            "image/png": "[encoded data removed]"
          },
          "metadata": {}
        },
        {
          "output_type": "display_data",
          "data": {
            "text/plain": [
              "<Figure size 1440x360 with 1 Axes>"
            ],
            "image/png": "[encoded data removed]"
          },
          "metadata": {}
        },
        {
          "output_type": "display_data",
          "data": {
            "text/plain": [
              "<Figure size 1440x360 with 1 Axes>"
            ],
            "image/png": "[encoded data removed]"
          },
          "metadata": {}
        },
        {
          "output_type": "display_data",
          "data": {
            "text/plain": [
              "<Figure size 1440x360 with 1 Axes>"
            ],
            "image/png": "[encoded data removed]"
          },
          "metadata": {}
        },
        {
          "output_type": "display_data",
          "data": {
            "text/plain": [
              "<Figure size 1440x360 with 1 Axes>"
            ],
            "image/png": "[encoded data removed]"
          },
          "metadata": {}
        },
        {
          "output_type": "display_data",
          "data": {
            "text/plain": [
              "<Figure size 1440x360 with 1 Axes>"
            ],
            "image/png": "[encoded data removed]"
          },
          "metadata": {}
        }
      ]
    },
    {
      "cell_type": "code",
      "source": [
        "\n",
        "from statistics import mean\n",
        "churn = []\n",
        "not_churn = []\n",
        "for column in (dif_price_peaks.columns[0:6].tolist()):\n",
        "    x = mean(dif_price_peaks[dif_price_peaks['churn'] == 1][column])\n",
        "    y = mean(dif_price_peaks[dif_price_peaks['churn'] == 0][column])\n",
        "    churn.append(x)\n",
        "    not_churn.append(y)"
      ],
      "metadata": {
        "id": "ZPNJAfExvKK6"
      },
      "execution_count": null,
      "outputs": []
    },
    {
      "cell_type": "code",
      "source": [
        "import numpy as np\n",
        "labels = ['energy_off_peak', 'energy_peak', 'energy_mid_peak']\n",
        "\n",
        "x = np.arange(len(labels))  # the label locations\n",
        "width = 0.35  # the width of the bars\n",
        "\n",
        "fig, ax = plt.subplots(figsize = (10,5))\n",
        "rects1 = ax.bar(x - width/2, churn[0:3], width, label='Churn')\n",
        "rects2 = ax.bar(x + width/2, not_churn[0:3], width, label='Not Churn')\n",
        "\n",
        "# Add some text for labels, title and custom x-axis tick labels, etc.\n",
        "ax.set_title('mean of energy price sensitivity')\n",
        "ax.set_xticks(x)\n",
        "ax.set_xticklabels(labels)\n",
        "ax.legend()\n",
        "\n",
        "fig.tight_layout()\n",
        "plt.show()"
      ],
      "metadata": {
        "colab": {
          "base_uri": "https://localhost:8080/",
          "height": 365
        },
        "id": "cWY9FTO71iN5",
        "outputId": "3160daa5-6705-4253-c48b-42589c8f53f0"
      },
      "execution_count": null,
      "outputs": [
        {
          "output_type": "display_data",
          "data": {
            "text/plain": [
              "<Figure size 720x360 with 1 Axes>"
            ],
            "image/png": "[encoded data removed]"
          },
          "metadata": {}
        }
      ]
    },
    {
      "cell_type": "code",
      "source": [
        "labels = ['power_off_peak', 'power_peak', 'power_mid_peak']\n",
        "\n",
        "x = np.arange(len(labels))  # the label locations\n",
        "width = 0.35  # the width of the bars\n",
        "\n",
        "fig, ax = plt.subplots(figsize = (10,5))\n",
        "rects1 = ax.bar(x - width/2, churn[3:6], width, label='Churn')\n",
        "rects2 = ax.bar(x + width/2, not_churn[3:6], width, label='Not Churn')\n",
        "\n",
        "# Add some text for labels, title and custom x-axis tick labels, etc.\n",
        "ax.set_title('mean of power price sensitivity')\n",
        "ax.set_xticks(x)\n",
        "ax.set_xticklabels(labels)\n",
        "ax.legend()\n",
        "\n",
        "fig.tight_layout()\n",
        "plt.show()"
      ],
      "metadata": {
        "colab": {
          "base_uri": "https://localhost:8080/",
          "height": 365
        },
        "id": "rsV1bvQU1_vY",
        "outputId": "8d78ff58-fe30-4d08-83d3-5f8b8aeea274"
      },
      "execution_count": null,
      "outputs": [
        {
          "output_type": "display_data",
          "data": {
            "text/plain": [
              "<Figure size 720x360 with 1 Axes>"
            ],
            "image/png": "[encoded data removed]"
          },
          "metadata": {}
        }
      ]
    },
    {
      "cell_type": "markdown",
      "source": [
        "It clearly shows that the churning is sensitive to Price"
      ],
      "metadata": {
        "id": "pPY4Y4ie2Q3h"
      }
    },
    {
      "cell_type": "code",
      "source": [
        "# Select current customers with positive net margins\n",
        "top_customers = client_df.loc[(client_df['churn']==0) & (client_df['net_margin']>0),['id','num_years_antig','net_margin']]\n",
        "\n",
        "# Top 10 customers by net margin\n",
        "top_customers.sort_values(by=['net_margin'],ascending=False).head(10)"
      ],
      "metadata": {
        "colab": {
          "base_uri": "https://localhost:8080/",
          "height": 363
        },
        "id": "N6YIl2Ek2NwH",
        "outputId": "c16159f1-7871-466d-9885-c0f7d7942016"
      },
      "execution_count": null,
      "outputs": [
        {
          "output_type": "execute_result",
          "data": {
            "text/plain": [
              "                                     id  num_years_antig  net_margin\n",
              "10718  d00e8a9951b5551d8f02e45f9ed2b0dd                3    10203.50\n",
              "12348  818b8bca0a9d7668252d46b978169325                4     4346.37\n",
              "7794   a3a739686fbd5ba8b4a21ec835507b6d                4     4305.79\n",
              "12624  ee98a86efa759681cc59c7d4e0d0312f                4     3407.65\n",
              "4876   9590c7a6100ae76ec078aa177ffb8d0d                3     3215.03\n",
              "3478   e7bdc7743d73a9bf94cc3c6a293fca93                4     2711.19\n",
              "4958   9a0411074f84ea385f555943f27a2d81                3     2653.59\n",
              "7236   41b7c011f9d87044bb2e297264e95080                6     2625.38\n",
              "10685  e5636f7ada7a80747af18b285632767e               10     2467.98\n",
              "9345   078b4e5f8ea9a2f5f4c667f2d2236791                4     2340.78"
            ],
            "text/html": [
              "\n",
              "  <div id=\"df-f6f8d6c3-846c-42f9-924e-46d428c4c446\">\n",
              "    <div class=\"colab-df-container\">\n",
              "      <div>\n",
              "<style scoped>\n",
              "    .dataframe tbody tr th:only-of-type {\n",
              "        vertical-align: middle;\n",
              "    }\n",
              "\n",
              "    .dataframe tbody tr th {\n",
              "        vertical-align: top;\n",
              "    }\n",
              "\n",
              "    .dataframe thead th {\n",
              "        text-align: right;\n",
              "    }\n",
              "</style>\n",
              "<table border=\"1\" class=\"dataframe\">\n",
              "  <thead>\n",
              "    <tr style=\"text-align: right;\">\n",
              "      <th></th>\n",
              "      <th>id</th>\n",
              "      <th>num_years_antig</th>\n",
              "      <th>net_margin</th>\n",
              "    </tr>\n",
              "  </thead>\n",
              "  <tbody>\n",
              "    <tr>\n",
              "      <th>10718</th>\n",
              "      <td>d00e8a9951b5551d8f02e45f9ed2b0dd</td>\n",
              "      <td>3</td>\n",
              "      <td>10203.50</td>\n",
              "    </tr>\n",
              "    <tr>\n",
              "      <th>12348</th>\n",
              "      <td>818b8bca0a9d7668252d46b978169325</td>\n",
              "      <td>4</td>\n",
              "      <td>4346.37</td>\n",
              "    </tr>\n",
              "    <tr>\n",
              "      <th>7794</th>\n",
              "      <td>a3a739686fbd5ba8b4a21ec835507b6d</td>\n",
              "      <td>4</td>\n",
              "      <td>4305.79</td>\n",
              "    </tr>\n",
              "    <tr>\n",
              "      <th>12624</th>\n",
              "      <td>ee98a86efa759681cc59c7d4e0d0312f</td>\n",
              "      <td>4</td>\n",
              "      <td>3407.65</td>\n",
              "    </tr>\n",
              "    <tr>\n",
              "      <th>4876</th>\n",
              "      <td>9590c7a6100ae76ec078aa177ffb8d0d</td>\n",
              "      <td>3</td>\n",
              "      <td>3215.03</td>\n",
              "    </tr>\n",
              "    <tr>\n",
              "      <th>3478</th>\n",
              "      <td>e7bdc7743d73a9bf94cc3c6a293fca93</td>\n",
              "      <td>4</td>\n",
              "      <td>2711.19</td>\n",
              "    </tr>\n",
              "    <tr>\n",
              "      <th>4958</th>\n",
              "      <td>9a0411074f84ea385f555943f27a2d81</td>\n",
              "      <td>3</td>\n",
              "      <td>2653.59</td>\n",
              "    </tr>\n",
              "    <tr>\n",
              "      <th>7236</th>\n",
              "      <td>41b7c011f9d87044bb2e297264e95080</td>\n",
              "      <td>6</td>\n",
              "      <td>2625.38</td>\n",
              "    </tr>\n",
              "    <tr>\n",
              "      <th>10685</th>\n",
              "      <td>e5636f7ada7a80747af18b285632767e</td>\n",
              "      <td>10</td>\n",
              "      <td>2467.98</td>\n",
              "    </tr>\n",
              "    <tr>\n",
              "      <th>9345</th>\n",
              "      <td>078b4e5f8ea9a2f5f4c667f2d2236791</td>\n",
              "      <td>4</td>\n",
              "      <td>2340.78</td>\n",
              "    </tr>\n",
              "  </tbody>\n",
              "</table>\n",
              "</div>\n",
              "      <button class=\"colab-df-convert\" onclick=\"convertToInteractive('df-f6f8d6c3-846c-42f9-924e-46d428c4c446')\"\n",
              "              title=\"Convert this dataframe to an interactive table.\"\n",
              "              style=\"display:none;\">\n",
              "        \n",
              "  <svg xmlns=\"http://www.w3.org/2000/svg\" height=\"24px\"viewBox=\"0 0 24 24\"\n",
              "       width=\"24px\">\n",
              "    <path d=\"M0 0h24v24H0V0z\" fill=\"none\"/>\n",
              "    <path d=\"M18.56 5.44l.94 2.06.94-2.06 2.06-.94-2.06-.94-.94-2.06-.94 2.06-2.06.94zm-11 1L8.5 8.5l.94-2.06 2.06-.94-2.06-.94L8.5 2.5l-.94 2.06-2.06.94zm10 10l.94 2.06.94-2.06 2.06-.94-2.06-.94-.94-2.06-.94 2.06-2.06.94z\"/><path d=\"M17.41 7.96l-1.37-1.37c-.4-.4-.92-.59-1.43-.59-.52 0-1.04.2-1.43.59L10.3 9.45l-7.72 7.72c-.78.78-.78 2.05 0 2.83L4 21.41c.39.39.9.59 1.41.59.51 0 1.02-.2 1.41-.59l7.78-7.78 2.81-2.81c.8-.78.8-2.07 0-2.86zM5.41 20L4 18.59l7.72-7.72 1.47 1.35L5.41 20z\"/>\n",
              "  </svg>\n",
              "      </button>\n",
              "      \n",
              "  <style>\n",
              "    .colab-df-container {\n",
              "      display:flex;\n",
              "      flex-wrap:wrap;\n",
              "      gap: 12px;\n",
              "    }\n",
              "\n",
              "    .colab-df-convert {\n",
              "      background-color: #E8F0FE;\n",
              "      border: none;\n",
              "      border-radius: 50%;\n",
              "      cursor: pointer;\n",
              "      display: none;\n",
              "      fill: #1967D2;\n",
              "      height: 32px;\n",
              "      padding: 0 0 0 0;\n",
              "      width: 32px;\n",
              "    }\n",
              "\n",
              "    .colab-df-convert:hover {\n",
              "      background-color: #E2EBFA;\n",
              "      box-shadow: 0px 1px 2px rgba(60, 64, 67, 0.3), 0px 1px 3px 1px rgba(60, 64, 67, 0.15);\n",
              "      fill: #174EA6;\n",
              "    }\n",
              "\n",
              "    [theme=dark] .colab-df-convert {\n",
              "      background-color: #3B4455;\n",
              "      fill: #D2E3FC;\n",
              "    }\n",
              "\n",
              "    [theme=dark] .colab-df-convert:hover {\n",
              "      background-color: #434B5C;\n",
              "      box-shadow: 0px 1px 3px 1px rgba(0, 0, 0, 0.15);\n",
              "      filter: drop-shadow(0px 1px 2px rgba(0, 0, 0, 0.3));\n",
              "      fill: #FFFFFF;\n",
              "    }\n",
              "  </style>\n",
              "\n",
              "      <script>\n",
              "        const buttonEl =\n",
              "          document.querySelector('#df-f6f8d6c3-846c-42f9-924e-46d428c4c446 button.colab-df-convert');\n",
              "        buttonEl.style.display =\n",
              "          google.colab.kernel.accessAllowed ? 'block' : 'none';\n",
              "\n",
              "        async function convertToInteractive(key) {\n",
              "          const element = document.querySelector('#df-f6f8d6c3-846c-42f9-924e-46d428c4c446');\n",
              "          const dataTable =\n",
              "            await google.colab.kernel.invokeFunction('convertToInteractive',\n",
              "                                                     [key], {});\n",
              "          if (!dataTable) return;\n",
              "\n",
              "          const docLinkHtml = 'Like what you see? Visit the ' +\n",
              "            '<a target=\"_blank\" href=https://colab.research.google.com/notebooks/data_table.ipynb>data table notebook</a>'\n",
              "            + ' to learn more about interactive tables.';\n",
              "          element.innerHTML = '';\n",
              "          dataTable['output_type'] = 'display_data';\n",
              "          await google.colab.output.renderOutput(dataTable, element);\n",
              "          const docLink = document.createElement('div');\n",
              "          docLink.innerHTML = docLinkHtml;\n",
              "          element.appendChild(docLink);\n",
              "        }\n",
              "      </script>\n",
              "    </div>\n",
              "  </div>\n",
              "  "
            ]
          },
          "metadata": {},
          "execution_count": 84
        }
      ]
    },
    {
      "cell_type": "markdown",
      "source": [
        "These are the top customers focused to be retained"
      ],
      "metadata": {
        "id": "T9cej1FB6BuX"
      }
    },
    {
      "cell_type": "code",
      "source": [
        "client_df['channel_sales'] = channel_encoder.inverse_transform(client_df['channel_sales'])\n",
        "client_df['origin_up'] = origin_encoder.inverse_transform(client_df['origin_up'])"
      ],
      "metadata": {
        "id": "wH_B664W6Aab"
      },
      "execution_count": null,
      "outputs": []
    },
    {
      "cell_type": "code",
      "source": [
        "# Most popular electricty campaign\n",
        "ele_nm = client_df.loc[(client_df['churn']==0) & (client_df['net_margin']>0),['id', 'origin_up','net_margin']]\n",
        "\n",
        "ele_nm.value_counts(subset=['origin_up'])"
      ],
      "metadata": {
        "colab": {
          "base_uri": "https://localhost:8080/"
        },
        "id": "SjewC-tL6_zs",
        "outputId": "19ed7792-45bf-42ce-eba9-c444d30cbcac"
      },
      "execution_count": null,
      "outputs": [
        {
          "output_type": "execute_result",
          "data": {
            "text/plain": [
              "origin_up                       \n",
              "lxidpiddsbxsbosboudacockeimpuepw    6155\n",
              "kamkkxfxxuwbdslkwifmmcsiusiuosws    4002\n",
              "ldkssxwpmemidmecebumciepifcamkci    2801\n",
              "MISSING                               58\n",
              "usapbepcfoloekilkwsdiboslwaxobdp       2\n",
              "ewxeelcelemmiwuafmddpobolfuxioce       1\n",
              "dtype: int64"
            ]
          },
          "metadata": {},
          "execution_count": 107
        }
      ]
    },
    {
      "cell_type": "code",
      "source": [
        "# Highest netting electricity subscription campaign\n",
        "print(ele_nm.groupby('origin_up')['net_margin'].agg('sum').sort_values(ascending=False))"
      ],
      "metadata": {
        "colab": {
          "base_uri": "https://localhost:8080/"
        },
        "id": "Pfi4M_jj7Y7t",
        "outputId": "1e2ce1f1-f1db-4383-ec22-e09e3f3bf051"
      },
      "execution_count": null,
      "outputs": [
        {
          "output_type": "stream",
          "name": "stdout",
          "text": [
            "origin_up\n",
            "lxidpiddsbxsbosboudacockeimpuepw    1230753.01\n",
            "kamkkxfxxuwbdslkwifmmcsiusiuosws     627964.96\n",
            "ldkssxwpmemidmecebumciepifcamkci     564951.43\n",
            "MISSING                               16386.00\n",
            "usapbepcfoloekilkwsdiboslwaxobdp        250.40\n",
            "ewxeelcelemmiwuafmddpobolfuxioce         46.22\n",
            "Name: net_margin, dtype: float64\n"
          ]
        }
      ]
    },
    {
      "cell_type": "code",
      "source": [],
      "metadata": {
        "id": "K4bAg_rq7hrH"
      },
      "execution_count": null,
      "outputs": []
    }
  ]
}